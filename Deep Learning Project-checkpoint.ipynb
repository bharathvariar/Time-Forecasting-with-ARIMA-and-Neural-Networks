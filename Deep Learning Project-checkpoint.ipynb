{
 "cells": [
  {
   "cell_type": "markdown",
   "id": "c96703e6",
   "metadata": {},
   "source": [
    "# Predicting COVID-19 cases with ARIMA and ANNs"
   ]
  },
  {
   "cell_type": "markdown",
   "id": "3971c0c0",
   "metadata": {},
   "source": [
    "## Importing Libraries"
   ]
  },
  {
   "cell_type": "code",
   "execution_count": null,
   "id": "76a34aab",
   "metadata": {},
   "outputs": [],
   "source": [
    "import math\n",
    "import warnings\n",
    "import itertools\n",
    "import pandas as pd\n",
    "import numpy as np\n",
    "import matplotlib.pyplot as plt\n",
    "import statsmodels.api as sm\n",
    "import pmdarima as pm\n",
    "from datetime import date\n",
    "from statsmodels.tsa.arima.model import ARIMA\n",
    "from statsmodels.graphics.tsaplots import plot_acf, plot_pacf, plot_predict\n",
    "from statsmodels.tsa.stattools import adfuller\n",
    "from keras.models import Sequential\n",
    "from keras.layers import Dense\n",
    "from keras.layers import LSTM\n",
    "from sklearn.preprocessing import MinMaxScaler\n",
    "from sklearn.metrics import mean_squared_error\n",
    "from sklearn.metrics import mean_absolute_error\n",
    "from IPython.display import SVG\n",
    "from keras.utils.vis_utils import model_to_dot\n",
    "\n",
    "#%load_ext nb_black\n",
    "\n",
    "# Defaults\n",
    "plt.rcParams[\"figure.figsize\"] = (15.0, 10.0)\n",
    "plt.rcParams.update({\"font.size\": 12, \"figure.dpi\": 120})\n",
    "warnings.filterwarnings(\"ignore\")  # specify to ignore warning messages"
   ]
  },
  {
   "cell_type": "code",
   "execution_count": 40,
   "id": "86cce84e",
   "metadata": {},
   "outputs": [],
   "source": [
    "import pandas as pd\n",
    "from statsmodels.tsa.stattools import adfuller\n",
    "import matplotlib.pyplot as plt\n",
    "from statsmodels.graphics.tsaplots import plot_acf, plot_pacf, plot_predict\n",
    "import pmdarima as pm\n",
    "from statsmodels.tsa.arima.model import ARIMA\n",
    "import numpy as np\n",
    "import statsmodels.api as sm\n",
    "import math\n",
    "import itertools"
   ]
  },
  {
   "cell_type": "markdown",
   "id": "8814e99e",
   "metadata": {},
   "source": [
    "## Data Handling"
   ]
  },
  {
   "cell_type": "code",
   "execution_count": 2,
   "id": "e78cf49a",
   "metadata": {},
   "outputs": [],
   "source": [
    "def preprocess(df):\n",
    "    df = df.drop([\"Lat\", \"Long\"], axis=1)\n",
    "    df = df.groupby([\"Country/Region\"], as_index=False).sum()\n",
    "    df.loc[-1] = df.sum()\n",
    "    df.loc[-1, \"Country/Region\"] = \"Worldwide\"\n",
    "    countries = [\n",
    "        \"US\",\n",
    "        \"Germany\",\n",
    "        \"Spain\",\n",
    "        \"United Kingdom\",\n",
    "        \"France\",\n",
    "        \"India\",\n",
    "        \"Iran\",\n",
    "        \"Italy\",\n",
    "        \"Russia\",\n",
    "        \"Turkey\",\n",
    "        #         \"Worldwide\",\n",
    "    ]\n",
    "    df = df.loc[df[\"Country/Region\"].isin(countries)]\n",
    "    df.reset_index(drop=True, inplace=True)\n",
    "    df = df.set_index(\"Country/Region\")\n",
    "    df.columns = pd.to_datetime(df.columns)\n",
    "    df = df.T\n",
    "    return df"
   ]
  },
  {
   "cell_type": "code",
   "execution_count": 3,
   "id": "000cf052",
   "metadata": {},
   "outputs": [],
   "source": [
    "confirmed_df = pd.read_csv(\n",
    "    \"./csse_covid_19_time_series/time_series_covid19_confirmed_global.csv\"\n",
    ")\n",
    "confirmed_df = preprocess(confirmed_df)\n",
    "deaths_df = pd.read_csv(\n",
    "    \"./csse_covid_19_time_series/time_series_covid19_deaths_global.csv\"\n",
    ")\n",
    "deaths_df = preprocess(deaths_df)\n",
    "recovered_df = pd.read_csv(\n",
    "    \"./csse_covid_19_time_series/time_series_covid19_recovered_global.csv\"\n",
    ")\n",
    "recovered_df = preprocess(recovered_df)"
   ]
  },
  {
   "cell_type": "code",
   "execution_count": 4,
   "id": "a5c758ed",
   "metadata": {},
   "outputs": [],
   "source": [
    "active_df = pd.DataFrame(confirmed_df - deaths_df - recovered_df)\n",
    "#active_df.plot(figsize=(10, 5))\n",
    "#plt.show()"
   ]
  },
  {
   "cell_type": "code",
   "execution_count": 5,
   "id": "cfd86717",
   "metadata": {},
   "outputs": [],
   "source": [
    "#confirmed_df.plot(figsize=(10, 5))\n",
    "#plt.show()"
   ]
  },
  {
   "cell_type": "code",
   "execution_count": 6,
   "id": "6e76c6d7",
   "metadata": {},
   "outputs": [],
   "source": [
    "#deaths_df.plot(figsize=(10, 5))\n",
    "#plt.show()"
   ]
  },
  {
   "cell_type": "code",
   "execution_count": 7,
   "id": "e0c703a5",
   "metadata": {},
   "outputs": [],
   "source": [
    "#recovered_df.plot(figsize=(10, 5))\n",
    "#plt.show()"
   ]
  },
  {
   "cell_type": "markdown",
   "id": "a3b11ad2",
   "metadata": {},
   "source": [
    "### Train test split"
   ]
  },
  {
   "cell_type": "code",
   "execution_count": 8,
   "id": "f596eaf9",
   "metadata": {},
   "outputs": [],
   "source": [
    "active_train = active_df[:\"2021-04-04\"]\n",
    "active_test = active_df[\"2021-04-05\":\"2021-08-04\"]\n",
    "confirmed_train = confirmed_df[:\"2021-04-04\"]\n",
    "confirmed_test = confirmed_df[\"2021-04-05\":\"2021-08-04\"]"
   ]
  },
  {
   "cell_type": "markdown",
   "id": "b59e99b0",
   "metadata": {},
   "source": [
    "## Model Selection"
   ]
  },
  {
   "cell_type": "markdown",
   "id": "3d72c593",
   "metadata": {},
   "source": [
    "### Determining order of differencing (d)"
   ]
  },
  {
   "cell_type": "code",
   "execution_count": 9,
   "id": "7709b62e",
   "metadata": {},
   "outputs": [
    {
     "data": {
      "text/html": [
       "<div>\n",
       "<style scoped>\n",
       "    .dataframe tbody tr th:only-of-type {\n",
       "        vertical-align: middle;\n",
       "    }\n",
       "\n",
       "    .dataframe tbody tr th {\n",
       "        vertical-align: top;\n",
       "    }\n",
       "\n",
       "    .dataframe thead th {\n",
       "        text-align: right;\n",
       "    }\n",
       "</style>\n",
       "<table border=\"1\" class=\"dataframe\">\n",
       "  <thead>\n",
       "    <tr style=\"text-align: right;\">\n",
       "      <th></th>\n",
       "      <th>cases</th>\n",
       "    </tr>\n",
       "  </thead>\n",
       "  <tbody>\n",
       "    <tr>\n",
       "      <th>0</th>\n",
       "      <td>0.000000</td>\n",
       "    </tr>\n",
       "    <tr>\n",
       "      <th>1</th>\n",
       "      <td>0.000000</td>\n",
       "    </tr>\n",
       "    <tr>\n",
       "      <th>2</th>\n",
       "      <td>0.000000</td>\n",
       "    </tr>\n",
       "    <tr>\n",
       "      <th>3</th>\n",
       "      <td>0.000000</td>\n",
       "    </tr>\n",
       "    <tr>\n",
       "      <th>4</th>\n",
       "      <td>0.000000</td>\n",
       "    </tr>\n",
       "    <tr>\n",
       "      <th>...</th>\n",
       "      <td>...</td>\n",
       "    </tr>\n",
       "    <tr>\n",
       "      <th>434</th>\n",
       "      <td>764.234912</td>\n",
       "    </tr>\n",
       "    <tr>\n",
       "      <th>435</th>\n",
       "      <td>784.025510</td>\n",
       "    </tr>\n",
       "    <tr>\n",
       "      <th>436</th>\n",
       "      <td>811.732099</td>\n",
       "    </tr>\n",
       "    <tr>\n",
       "      <th>437</th>\n",
       "      <td>831.623112</td>\n",
       "    </tr>\n",
       "    <tr>\n",
       "      <th>438</th>\n",
       "      <td>861.295536</td>\n",
       "    </tr>\n",
       "  </tbody>\n",
       "</table>\n",
       "<p>439 rows × 1 columns</p>\n",
       "</div>"
      ],
      "text/plain": [
       "          cases\n",
       "0      0.000000\n",
       "1      0.000000\n",
       "2      0.000000\n",
       "3      0.000000\n",
       "4      0.000000\n",
       "..          ...\n",
       "434  764.234912\n",
       "435  784.025510\n",
       "436  811.732099\n",
       "437  831.623112\n",
       "438  861.295536\n",
       "\n",
       "[439 rows x 1 columns]"
      ]
     },
     "execution_count": 9,
     "metadata": {},
     "output_type": "execute_result"
    }
   ],
   "source": [
    "# Original Series\n",
    "country = \"India\"\n",
    "df = pd.DataFrame((active_train[country].to_numpy()), columns={\"cases\"})\n",
    "df.transform(\"sqrt\")"
   ]
  },
  {
   "cell_type": "code",
   "execution_count": 10,
   "id": "43d33d09",
   "metadata": {},
   "outputs": [
    {
     "name": "stdout",
     "output_type": "stream",
     "text": [
      "ADF Statistic: -1.319904\n",
      "p-value: 0.620018\n",
      "Critical Values:\n",
      "\t1%: -3.446\n",
      "\t5%: -2.868\n",
      "\t10%: -2.570\n"
     ]
    }
   ],
   "source": [
    "result = adfuller(df)\n",
    "print(\"ADF Statistic: %f\" % result[0])\n",
    "print(\"p-value: %f\" % result[1])\n",
    "print(\"Critical Values:\")\n",
    "for key, value in result[4].items():\n",
    "    print(\"\\t%s: %.3f\" % (key, value))"
   ]
  },
  {
   "cell_type": "code",
   "execution_count": 11,
   "id": "226f7c99",
   "metadata": {
    "scrolled": true
   },
   "outputs": [
    {
     "data": {
      "image/png": "[encoded data removed]",
      "text/plain": [
       "<Figure size 1440x1080 with 6 Axes>"
      ]
     },
     "metadata": {
      "needs_background": "light"
     },
     "output_type": "display_data"
    }
   ],
   "source": [
    "fig, axes = plt.subplots(3, 2, figsize=(20, 15))\n",
    "fig.subplots_adjust(hspace=0.250, wspace=0.125)\n",
    "axes[0, 0].plot(df, \"purple\")\n",
    "axes[0, 0].set(title=f\"Active Cases ({country})\", ylabel=\"Cases\")\n",
    "plot_acf(df, ax=axes[0, 1], lags=df.shape[0] - 1)\n",
    "axes[0, 1].set(ylabel=\"Correlation\")\n",
    "\n",
    "# 1st Differencing\n",
    "axes[1, 0].plot(df.diff(), \"purple\")\n",
    "axes[1, 0].set(title=f\"1st Order Differencing ({country})\", ylabel=\"Cases\")\n",
    "plot_acf(df.diff().dropna(), ax=axes[1, 1], lags=df.shape[0] - 2)\n",
    "axes[1, 1].set(ylabel=\"Correlation\")\n",
    "\n",
    "\n",
    "# 2nd Differencing\n",
    "axes[2, 0].plot(df.diff().diff(), \"purple\")\n",
    "axes[2, 0].set(\n",
    "    xlabel=\"Lags\", ylabel=\"Cases\", title=f\"2nd Order Differencing ({country})\"\n",
    ")\n",
    "axes[2, 1].set_xlabel(\"Lags\")\n",
    "plot_acf(df.diff().diff().dropna(), ax=axes[2, 1], lags=df.shape[0] - 3)\n",
    "axes[2, 1].set(ylabel=\"Correlation\")\n",
    "\n",
    "fig.savefig(\"Graphs/1.acf_plots.jpg\")\n",
    "plt.show()"
   ]
  },
  {
   "cell_type": "markdown",
   "id": "6bd1d2b7",
   "metadata": {},
   "source": [
    "For the above series, the time series reaches stationarity with two orders of differencing. But on looking at the autocorrelation plot for the second differencing the lag goes into the far negative zone fairly quick, which indicates, the series might have been over differenced.\n",
    "$$d = 1 $$"
   ]
  },
  {
   "cell_type": "markdown",
   "id": "7ed82e11",
   "metadata": {},
   "source": [
    "### Determining order of Auto-Regression (p)"
   ]
  },
  {
   "cell_type": "code",
   "execution_count": 12,
   "id": "2c8b7e48",
   "metadata": {
    "scrolled": false
   },
   "outputs": [
    {
     "name": "stderr",
     "output_type": "stream",
     "text": [
      "/Users/kanika/opt/anaconda3/lib/python3.8/site-packages/statsmodels/graphics/tsaplots.py:348: FutureWarning: The default method 'yw' can produce PACF values outside of the [-1,1] interval. After 0.13, the default will change tounadjusted Yule-Walker ('ywm'). You can use this method now by setting method='ywm'.\n",
      "  warnings.warn(\n"
     ]
    },
    {
     "data": {
      "image/png": "[encoded data removed]",
      "text/plain": [
       "<Figure size 1440x360 with 2 Axes>"
      ]
     },
     "metadata": {
      "needs_background": "light"
     },
     "output_type": "display_data"
    }
   ],
   "source": [
    "fig, (ax1, ax2) = plt.subplots(1, 2, figsize=(20, 5))\n",
    "ax1.plot(df.diff(), \"purple\")\n",
    "ax1.set(title=f\"1st Differencing ({country})\", xlabel=\"Lags\", ylabel=\"Cases\")\n",
    "plot_pacf(df.diff().dropna(), ax=ax2, lags=df.shape[0]/2 - 1)\n",
    "ax2.set(xlabel=\"Lags\", ylabel=\"Correlation\", ylim=(-1, 1), xlim=(0, 50))\n",
    "fig.savefig(\"Graphs/2.pacf_plots.jpg\")\n",
    "plt.show()"
   ]
  },
  {
   "cell_type": "markdown",
   "id": "6933112b",
   "metadata": {},
   "source": [
    "It can observed that the PACF lag 1, 2 and 3 are quite significant since they are well above the significance limit, the blue region.\n",
    "So we will use:\n",
    "$$p \\in \\{1, 2\\}$$"
   ]
  },
  {
   "cell_type": "markdown",
   "id": "ba45f4fe",
   "metadata": {},
   "source": [
    "### Determining order of Moving Average (q)"
   ]
  },
  {
   "cell_type": "code",
   "execution_count": 13,
   "id": "d857de10",
   "metadata": {
    "scrolled": true
   },
   "outputs": [
    {
     "data": {
      "image/png": "[encoded data removed]",
      "text/plain": [
       "<Figure size 1440x360 with 2 Axes>"
      ]
     },
     "metadata": {
      "needs_background": "light"
     },
     "output_type": "display_data"
    }
   ],
   "source": [
    "fig, axes = plt.subplots(1, 2, figsize=(20, 5))\n",
    "axes[0].plot(df.diff(), \"purple\")\n",
    "axes[0].set(\n",
    "    title=f\"1st Differencing ({country})\",\n",
    "    xlabel=\"Lags\",\n",
    "    ylabel=\"Cases\",\n",
    "    xlim=(0, df.shape[0]),\n",
    ")\n",
    "plot_acf(df.diff().dropna(), ax=axes[1], lags=df.shape[0] - 2)\n",
    "axes[1].set(ylim=(-1, 1), xlim=(0, 50), xlabel=\"Lags\", ylabel=\"Correlation\")\n",
    "\n",
    "fig.savefig(\"Graphs/3.acf_plots.jpg\")\n",
    "plt.show()"
   ]
  },
  {
   "cell_type": "markdown",
   "id": "69615fca",
   "metadata": {},
   "source": [
    "We can see that upto `lags` = 16, the correlation is above the significance range and so we can conclude that: $$q \\in [1, 16]$$"
   ]
  },
  {
   "cell_type": "code",
   "execution_count": 43,
   "id": "cce160d9",
   "metadata": {},
   "outputs": [],
   "source": [
    "# Define the p, d, q parameters\n",
    "p = range(1, 3)\n",
    "d = range(1,2)\n",
    "q = range(1, 17)"
   ]
  },
  {
   "cell_type": "markdown",
   "id": "138d4303",
   "metadata": {},
   "source": [
    "### Using auto_arima() to select model"
   ]
  },
  {
   "cell_type": "raw",
   "id": "2bbb21b5",
   "metadata": {
    "scrolled": true
   },
   "source": [
    "model = pm.auto_arima(\n",
    "    df,\n",
    "    start_p=1,\n",
    "    start_q=1,\n",
    "    #test=\"adf\",  #use adftest to find optimal 'd'\n",
    "    max_p=3,\n",
    "    max_q=16,  \n",
    "    max_d=2,\n",
    "    d=1,\n",
    "    #m=1,  \n",
    "    #d=None,  # let model determine 'd'\n",
    "    seasonal=False,  # No Seasonality\n",
    "    #start_P=0,\n",
    "    #D=0,\n",
    "    trace=True,\n",
    "    #error_action=\"ignore\",\n",
    "    #suppress_warnings=True,\n",
    "    #stepwise=True,\n",
    ")\n",
    "\n",
    "print(model.summary())"
   ]
  },
  {
   "cell_type": "markdown",
   "id": "20886a65",
   "metadata": {},
   "source": [
    "We can see that ARIMA(2, 0, 1) has the least AIC socre, so we save it as `best_order` and use it as our model"
   ]
  },
  {
   "cell_type": "raw",
   "id": "0fdbefcd",
   "metadata": {},
   "source": [
    "model.plot_diagnostics(figsize=(15, 10))\n",
    "plt.savefig(\"Graphs/diagnostics_autoarima.jpg\")\n",
    "plt.show()"
   ]
  },
  {
   "cell_type": "raw",
   "id": "23763993",
   "metadata": {},
   "source": [
    "## Fitting ARIMA(2, 0, 1)"
   ]
  },
  {
   "cell_type": "raw",
   "id": "e5a907eb",
   "metadata": {},
   "source": [
    "best_order = (2, 0, 1)\n",
    "model = ARIMA(df, order=best_order)\n",
    "model_fit = model.fit()\n",
    "print(model_fit.summary())\n",
    "plot_predict(model_fit, figsize=(10, 5))\n",
    "plt.savefig(\"Graphs/forecast_active_india.jpg\")\n",
    "plt.show()"
   ]
  },
  {
   "cell_type": "raw",
   "id": "a69803fd",
   "metadata": {
    "scrolled": true
   },
   "source": [
    "model = ARIMA(df, order=(2, 0, 1))\n",
    "fitted = model.fit()\n",
    "print(fitted.summary())\n",
    "\n",
    "# Forecast\n",
    "fc = fitted.forecast(100, alpha=0.05)  # 95% conf\n",
    "print(fc.shape)\n",
    "# Make as pandas series\n",
    "fc_series = fc.to_numpy().reshape(100, -1)\n",
    "# lower_series = pd.Series(conf[:, 0], index=test.index)\n",
    "# upper_series = pd.Series(conf[:, 1], index=test.index)\n",
    "\n",
    "# # Plot\n",
    "# plt.figure(figsize=(12,5), dpi=100)\n",
    "# plt.plot(train, label='training')\n",
    "# plt.plot(test, label='actual')\n",
    "# plt.plot(fc_series, label='forecast')\n",
    "# plt.fill_between(lower_series.index, lower_series, upper_series,\n",
    "#                  color='k', alpha=.15)\n",
    "# plt.title('Forecast vs Actuals')\n",
    "# plt.legend(loc='upper left', fontsize=8)\n",
    "# plt.show()"
   ]
  },
  {
   "cell_type": "markdown",
   "id": "86f025d2",
   "metadata": {},
   "source": [
    "### Accuracy metrics"
   ]
  },
  {
   "cell_type": "code",
   "execution_count": 30,
   "id": "ba058818",
   "metadata": {},
   "outputs": [
    {
     "name": "stderr",
     "output_type": "stream",
     "text": [
      "/Users/kanika/opt/anaconda3/lib/python3.8/site-packages/numpy/lib/function_base.py:2821: RuntimeWarning: Degrees of freedom <= 0 for slice\n",
      "  c = cov(x, y, rowvar, dtype=dtype)\n",
      "/Users/kanika/opt/anaconda3/lib/python3.8/site-packages/numpy/lib/function_base.py:2680: RuntimeWarning: divide by zero encountered in true_divide\n",
      "  c *= np.true_divide(1, fact)\n",
      "/Users/kanika/opt/anaconda3/lib/python3.8/site-packages/numpy/lib/function_base.py:2680: RuntimeWarning: invalid value encountered in multiply\n",
      "  c *= np.true_divide(1, fact)\n"
     ]
    },
    {
     "data": {
      "text/plain": [
       "{'mape': 6.909832602574507,\n",
       " 'me': 1292295.3419399562,\n",
       " 'mae': 1292295.3419399562,\n",
       " 'mpe': 6.909832602574507,\n",
       " 'rmse': 1342028.8226484521,\n",
       " 'corr': nan,\n",
       " 'minmax': 0.8284239885471635}"
      ]
     },
     "execution_count": 30,
     "metadata": {},
     "output_type": "execute_result"
    }
   ],
   "source": [
    "def forecast_accuracy(forecast, actual):\n",
    "    mape = np.mean(np.abs(forecast - actual) / np.abs(actual))  # MAPE\n",
    "    me = np.mean(forecast - actual)  # ME\n",
    "    mae = np.mean(np.abs(forecast - actual))  # MAE\n",
    "    mpe = np.mean((forecast - actual) / actual)  # MPE\n",
    "    rmse = np.mean((forecast - actual) ** 2) ** 0.5  # RMSE\n",
    "    corr = np.corrcoef(forecast, actual)[0, 1]  # corr\n",
    "    mins = np.amin(np.hstack([forecast[:, None], actual[:, None]]), axis=1)\n",
    "    maxs = np.amax(np.hstack([forecast[:, None], actual[:, None]]), axis=1)\n",
    "    minmax = 1 - np.mean(mins / maxs)  # minmax\n",
    "    #     acf1 = acf(fc-test)[1]                      # ACF1\n",
    "    return {\n",
    "        \"mape\": mape,\n",
    "        \"me\": me,\n",
    "        \"mae\": mae,\n",
    "        \"mpe\": mpe,\n",
    "        \"rmse\": rmse,\n",
    "        \"corr\": corr,\n",
    "        \"minmax\": minmax,\n",
    "    }\n",
    "\n",
    "\n",
    "# print (fc_series.reshape(100, -1).shape, df[-100:].to_numpy().shape)\n",
    "\n",
    "forecast_accuracy(fc_series, df[-100:].to_numpy())"
   ]
  },
  {
   "cell_type": "code",
   "execution_count": 47,
   "id": "3ae641f2",
   "metadata": {},
   "outputs": [
    {
     "name": "stdout",
     "output_type": "stream",
     "text": [
      "ARIMA(1, 1, 1) - RMSE:4943.559978117269\n",
      "ARIMA(1, 1, 2) - RMSE:4942.557987927945\n",
      "ARIMA(1, 1, 3) - RMSE:4934.883948909694\n",
      "ARIMA(1, 1, 4) - RMSE:4928.161601699685\n",
      "ARIMA(1, 1, 5) - RMSE:4924.097232596143\n",
      "ARIMA(1, 1, 6) - RMSE:4867.365524208214\n",
      "ARIMA(1, 1, 7) - RMSE:4711.949585819897\n",
      "ARIMA(1, 1, 8) - RMSE:4646.6247517879065\n",
      "ARIMA(1, 1, 9) - RMSE:4606.914064023985\n",
      "ARIMA(1, 1, 10) - RMSE:4606.30994883455\n",
      "ARIMA(1, 1, 11) - RMSE:4595.872165768569\n",
      "ARIMA(1, 1, 12) - RMSE:4589.6291049871425\n",
      "ARIMA(1, 1, 13) - RMSE:4554.285116183141\n",
      "ARIMA(1, 1, 14) - RMSE:4427.659368858469\n",
      "ARIMA(1, 1, 15) - RMSE:4432.317839175513\n",
      "ARIMA(1, 1, 16) - RMSE:4416.051242534496\n",
      "ARIMA(2, 1, 1) - RMSE:4942.708372922956\n",
      "ARIMA(2, 1, 2) - RMSE:4923.382940086506\n"
     ]
    },
    {
     "name": "stderr",
     "output_type": "stream",
     "text": [
      "/Users/kanika/opt/anaconda3/lib/python3.8/site-packages/statsmodels/base/model.py:604: ConvergenceWarning: Maximum Likelihood optimization failed to converge. Check mle_retvals\n",
      "  warnings.warn(\"Maximum Likelihood optimization failed to \"\n"
     ]
    },
    {
     "name": "stdout",
     "output_type": "stream",
     "text": [
      "ARIMA(2, 1, 3) - RMSE:4915.946914022742\n",
      "ARIMA(2, 1, 4) - RMSE:4915.875392884478\n",
      "ARIMA(2, 1, 5) - RMSE:4901.096403253521\n",
      "ARIMA(2, 1, 6) - RMSE:4842.417107777793\n",
      "ARIMA(2, 1, 7) - RMSE:4690.447782463926\n",
      "ARIMA(2, 1, 8) - RMSE:4615.605517177972\n",
      "ARIMA(2, 1, 9) - RMSE:4606.552318959705\n",
      "ARIMA(2, 1, 10) - RMSE:4605.609617267202\n"
     ]
    },
    {
     "name": "stderr",
     "output_type": "stream",
     "text": [
      "/Users/kanika/opt/anaconda3/lib/python3.8/site-packages/statsmodels/base/model.py:604: ConvergenceWarning: Maximum Likelihood optimization failed to converge. Check mle_retvals\n",
      "  warnings.warn(\"Maximum Likelihood optimization failed to \"\n"
     ]
    },
    {
     "name": "stdout",
     "output_type": "stream",
     "text": [
      "ARIMA(2, 1, 11) - RMSE:4571.850105128938\n"
     ]
    },
    {
     "name": "stderr",
     "output_type": "stream",
     "text": [
      "/Users/kanika/opt/anaconda3/lib/python3.8/site-packages/statsmodels/base/model.py:604: ConvergenceWarning: Maximum Likelihood optimization failed to converge. Check mle_retvals\n",
      "  warnings.warn(\"Maximum Likelihood optimization failed to \"\n"
     ]
    },
    {
     "name": "stdout",
     "output_type": "stream",
     "text": [
      "ARIMA(2, 1, 12) - RMSE:4569.1385711034\n"
     ]
    },
    {
     "name": "stderr",
     "output_type": "stream",
     "text": [
      "/Users/kanika/opt/anaconda3/lib/python3.8/site-packages/statsmodels/base/model.py:604: ConvergenceWarning: Maximum Likelihood optimization failed to converge. Check mle_retvals\n",
      "  warnings.warn(\"Maximum Likelihood optimization failed to \"\n"
     ]
    },
    {
     "name": "stdout",
     "output_type": "stream",
     "text": [
      "ARIMA(2, 1, 13) - RMSE:4522.058795874292\n",
      "ARIMA(2, 1, 14) - RMSE:4432.420387021748\n"
     ]
    },
    {
     "name": "stderr",
     "output_type": "stream",
     "text": [
      "/Users/kanika/opt/anaconda3/lib/python3.8/site-packages/statsmodels/base/model.py:604: ConvergenceWarning: Maximum Likelihood optimization failed to converge. Check mle_retvals\n",
      "  warnings.warn(\"Maximum Likelihood optimization failed to \"\n"
     ]
    },
    {
     "name": "stdout",
     "output_type": "stream",
     "text": [
      "ARIMA(2, 1, 15) - RMSE:4419.99208019318\n"
     ]
    },
    {
     "name": "stderr",
     "output_type": "stream",
     "text": [
      "/Users/kanika/opt/anaconda3/lib/python3.8/site-packages/statsmodels/base/model.py:604: ConvergenceWarning: Maximum Likelihood optimization failed to converge. Check mle_retvals\n",
      "  warnings.warn(\"Maximum Likelihood optimization failed to \"\n"
     ]
    },
    {
     "name": "stdout",
     "output_type": "stream",
     "text": [
      "ARIMA(2, 1, 16) - RMSE:4393.178555997714\n"
     ]
    }
   ],
   "source": [
    "pdq = list(itertools.product(p, d, q))\n",
    "RMSE = []\n",
    "ARIMA_model = []\n",
    "\n",
    "for param in pdq:\n",
    "    mod = sm.tsa.arima.ARIMA(\n",
    "    df, order=param, enforce_stationarity=False, enforce_invertibility=False)\n",
    "    results = mod.fit()\n",
    "    print('ARIMA{} - RMSE:{}'.format(param, math.sqrt(results.mse)))\n",
    "    RMSE.append(math.sqrt(results.mse))\n",
    "    ARIMA_model.append(param)"
   ]
  },
  {
   "cell_type": "code",
   "execution_count": null,
   "id": "11504362",
   "metadata": {},
   "outputs": [],
   "source": [
    "print('The smallest RMSE is {} for model ARIMA{}'.format(min(RMSE), ARIMA_model[RMSE.index(min(RMSE))][0],ARIMA_model[AIC.index(min(AIC"
   ]
  },
  {
   "cell_type": "code",
   "execution_count": 36,
   "id": "954847a2",
   "metadata": {},
   "outputs": [
    {
     "name": "stdout",
     "output_type": "stream",
     "text": [
      "ARIMA - MSE:35095191.97315373\r",
      "                               SARIMAX Results                                \n",
      "==============================================================================\n",
      "Dep. Variable:                  cases   No. Observations:                  439\n",
      "Model:                ARIMA(11, 1, 5)   Log Likelihood               -4324.419\n",
      "Date:                Sun, 04 Dec 2022   AIC                           8682.839\n",
      "Time:                        20:43:37   BIC                           8751.804\n",
      "Sample:                             0   HQIC                          8710.079\n",
      "                                - 439                                         \n",
      "Covariance Type:                  opg                                         \n",
      "==============================================================================\n",
      "                 coef    std err          z      P>|z|      [0.025      0.975]\n",
      "------------------------------------------------------------------------------\n",
      "ar.L1          2.2507      0.258      8.734      0.000       1.746       2.756\n",
      "ar.L2         -2.1974      0.429     -5.121      0.000      -3.038      -1.356\n",
      "ar.L3          2.0918      0.355      5.890      0.000       1.396       2.788\n",
      "ar.L4         -2.1022      0.347     -6.064      0.000      -2.782      -1.423\n",
      "ar.L5          1.3665      0.351      3.888      0.000       0.678       2.055\n",
      "ar.L6         -0.7739      0.278     -2.780      0.005      -1.319      -0.228\n",
      "ar.L7          0.4423      0.277      1.595      0.111      -0.101       0.986\n",
      "ar.L8         -0.4185      0.262     -1.600      0.110      -0.931       0.094\n",
      "ar.L9          0.9065      0.245      3.706      0.000       0.427       1.386\n",
      "ar.L10        -0.8089      0.207     -3.906      0.000      -1.215      -0.403\n",
      "ar.L11         0.2486      0.081      3.057      0.002       0.089       0.408\n",
      "ma.L1         -1.7394      0.245     -7.100      0.000      -2.220      -1.259\n",
      "ma.L2          1.7721      0.392      4.524      0.000       1.004       2.540\n",
      "ma.L3         -2.6645      0.378     -7.047      0.000      -3.406      -1.923\n",
      "ma.L4          2.8294      0.479      5.903      0.000       1.890       3.769\n",
      "ma.L5         -1.0541      0.350     -3.011      0.003      -1.740      -0.368\n",
      "sigma2      1.927e+07   3.46e-08   5.57e+14      0.000    1.93e+07    1.93e+07\n",
      "===================================================================================\n",
      "Ljung-Box (L1) (Q):                   3.64   Jarque-Bera (JB):               561.96\n",
      "Prob(Q):                              0.06   Prob(JB):                         0.00\n",
      "Heteroskedasticity (H):              29.18   Skew:                            -0.10\n",
      "Prob(H) (two-sided):                  0.00   Kurtosis:                         8.62\n",
      "===================================================================================\n",
      "\n",
      "Warnings:\n",
      "[1] Covariance matrix calculated using the outer product of gradients (complex-step).\n",
      "[2] Covariance matrix is singular or near-singular, with condition number 3.73e+30. Standard errors may be unstable.\n"
     ]
    },
    {
     "name": "stderr",
     "output_type": "stream",
     "text": [
      "/Users/kanika/opt/anaconda3/lib/python3.8/site-packages/statsmodels/base/model.py:604: ConvergenceWarning: Maximum Likelihood optimization failed to converge. Check mle_retvals\n",
      "  warnings.warn(\"Maximum Likelihood optimization failed to \"\n"
     ]
    }
   ],
   "source": [
    "RMSE = []\n",
    "ARIMA_model = []\n",
    "\n",
    "mod = sm.tsa.arima.ARIMA(\n",
    "    df, order=(11, 1, 5), enforce_stationarity=False, enforce_invertibility=False\n",
    ")\n",
    "results = mod.fit()\n",
    "print(f\"ARIMA - MSE:{results.mse}\", end=\"\\r\")\n",
    "RMSE.append(math.sqrt(results.mse))\n",
    "# ARIMA_model.append(param)\n",
    "print(results.summary())"
   ]
  },
  {
   "cell_type": "code",
   "execution_count": 37,
   "id": "2ebf6d85",
   "metadata": {},
   "outputs": [
    {
     "data": {
      "text/plain": [
       "[5924.119510370611]"
      ]
     },
     "execution_count": 37,
     "metadata": {},
     "output_type": "execute_result"
    }
   ],
   "source": [
    "RMSE"
   ]
  },
  {
   "cell_type": "code",
   "execution_count": null,
   "id": "bf27798a",
   "metadata": {
    "scrolled": true
   },
   "outputs": [],
   "source": [
    "results.plot_diagnostics(figsize=(15, 10))\n",
    "plt.show()"
   ]
  },
  {
   "cell_type": "code",
   "execution_count": null,
   "id": "a4c9e051",
   "metadata": {},
   "outputs": [],
   "source": [
    "testdata = active_df[\"2020-01-22\":\"2021-04-22\"]\n",
    "testdf = pd.DataFrame((testdata[country].to_numpy()), columns={\"cases\"})"
   ]
  },
  {
   "cell_type": "code",
   "execution_count": null,
   "id": "334263ce",
   "metadata": {},
   "outputs": [],
   "source": [
    "pred = results.get_forecast(100)\n",
    "ax = testdf.plot(figsize=(10, 5))\n",
    "pred.predicted_mean.plot(ax=ax, label=\"Dynamic Forecast (get_forecast)\")\n",
    "plt.show()"
   ]
  },
  {
   "cell_type": "markdown",
   "id": "75b31723",
   "metadata": {},
   "source": [
    "## Implementing ANN"
   ]
  },
  {
   "cell_type": "code",
   "execution_count": null,
   "id": "7cac2632",
   "metadata": {},
   "outputs": [],
   "source": [
    "df = active_df\n",
    "df"
   ]
  },
  {
   "cell_type": "code",
   "execution_count": null,
   "id": "b6c48d5f",
   "metadata": {},
   "outputs": [],
   "source": [
    "df = pd.read_excel(\"Active.xlsx\")\n",
    "df"
   ]
  },
  {
   "cell_type": "code",
   "execution_count": null,
   "id": "ff43a12a",
   "metadata": {},
   "outputs": [],
   "source": [
    "df = pd.DataFrame((df[\"India\"].to_numpy()), columns={\"cases\"})\n",
    "df.shape\n",
    "df = df.transform(\"sqrt\")"
   ]
  },
  {
   "cell_type": "code",
   "execution_count": null,
   "id": "7d6df0c7",
   "metadata": {},
   "outputs": [],
   "source": [
    "plt.plot(df)\n",
    "plt.xlabel(\"Days\")\n",
    "plt.ylabel(\"Cases\")"
   ]
  },
  {
   "cell_type": "markdown",
   "id": "d6848401",
   "metadata": {},
   "source": [
    "## Train-Test Split"
   ]
  },
  {
   "cell_type": "code",
   "execution_count": null,
   "id": "a94b543a",
   "metadata": {},
   "outputs": [],
   "source": [
    "test_df = df[-100:]\n",
    "train_df = df[:-100]"
   ]
  },
  {
   "cell_type": "code",
   "execution_count": null,
   "id": "aac55c4f",
   "metadata": {},
   "outputs": [],
   "source": [
    "scaler = MinMaxScaler(feature_range=(0, 1))\n",
    "scaler.fit(train_df)"
   ]
  },
  {
   "cell_type": "markdown",
   "id": "c2347f18",
   "metadata": {},
   "source": [
    "## Artificial Neural Networks"
   ]
  },
  {
   "cell_type": "markdown",
   "id": "7a5e5174",
   "metadata": {},
   "source": [
    "### Functions\n"
   ]
  },
  {
   "cell_type": "code",
   "execution_count": null,
   "id": "ebe6d013",
   "metadata": {},
   "outputs": [],
   "source": [
    "def mean_absolute_percentage_error(y_true, y_pred):\n",
    "    y_true, y_pred = np.array(y_true), np.array(y_pred)\n",
    "    return np.mean(np.abs((y_true - y_pred) / y_true)) * 100\n",
    "\n",
    "\n",
    "def root_mean_squared_error(y_true, y_pred):\n",
    "    mse = mean_squared_error(y_true, y_pred)\n",
    "    rmse = np.sqrt(mse)\n",
    "    return rmse"
   ]
  },
  {
   "cell_type": "code",
   "execution_count": null,
   "id": "eaf8d3e4",
   "metadata": {},
   "outputs": [],
   "source": [
    "def calculate_performance(y_true, y_pred):\n",
    "    mse = mean_squared_error(y_true, y_pred)\n",
    "    mae = mean_absolute_error(y_true, y_pred)\n",
    "    mape = mean_absolute_percentage_error(y_true, y_pred)\n",
    "    rmse = root_mean_squared_error(y_true, y_pred)\n",
    "    return round(mse, 3), round(mae, 3), round(mape, 3), round(rmse, 3)"
   ]
  },
  {
   "cell_type": "code",
   "execution_count": null,
   "id": "51490b31",
   "metadata": {},
   "outputs": [],
   "source": [
    "def plot_keras_model(model, show_shapes=True, show_layer_names=True):\n",
    "    return SVG(\n",
    "        model_to_dot(\n",
    "            model, show_shapes=show_shapes, show_layer_names=show_layer_names\n",
    "        ).create(prog=\"dot\", format=\"svg\")\n",
    "    )"
   ]
  },
  {
   "cell_type": "code",
   "execution_count": null,
   "id": "2a6d4674",
   "metadata": {},
   "outputs": [],
   "source": [
    "def get_combinations(parameters):\n",
    "    return list(itertools.product(*parameters))\n"
   ]
  },
  {
   "cell_type": "code",
   "execution_count": null,
   "id": "c6954b55",
   "metadata": {},
   "outputs": [],
   "source": [
    "def create_NN(input_nodes, hidden_nodes, output_nodes):\n",
    "    model = Sequential()\n",
    "    model.add(Dense(int(hidden_nodes), input_dim=int(input_nodes)))\n",
    "    model.add(Dense(int(output_nodes)))\n",
    "    model.compile(loss=\"mean_squared_error\", optimizer=\"adam\")\n",
    "    return model"
   ]
  },
  {
   "cell_type": "markdown",
   "id": "957ea421",
   "metadata": {},
   "source": [
    "### Train Model"
   ]
  },
  {
   "cell_type": "code",
   "execution_count": null,
   "id": "40bf7cc7",
   "metadata": {},
   "outputs": [],
   "source": [
    "def train_model(model, X_train, y_train, epochs, batch_size):\n",
    "    model.fit(\n",
    "        X_train, y_train, epochs=epochs, batch_size=batch_size, verbose=0, shuffle=True\n",
    "    )\n",
    "    return model"
   ]
  },
  {
   "cell_type": "code",
   "execution_count": null,
   "id": "424a117d",
   "metadata": {},
   "outputs": [],
   "source": [
    "def reshape_arrays(X_train, y_train):\n",
    "    X_train = np.array(X_train)\n",
    "    y_train = np.reshape(y_train, (len(y_train), 1))\n",
    "    return X_train, y_train"
   ]
  },
  {
   "cell_type": "markdown",
   "id": "54547462",
   "metadata": {},
   "source": [
    "## Feed Forward ANN"
   ]
  },
  {
   "cell_type": "markdown",
   "id": "66a8d752",
   "metadata": {},
   "source": [
    "### Data Preprocessing"
   ]
  },
  {
   "cell_type": "code",
   "execution_count": null,
   "id": "5aa989c7",
   "metadata": {},
   "outputs": [],
   "source": [
    "def preprocess_FNN(data, look_back):\n",
    "    data = np.array(data)[:, 0]\n",
    "    X_train = []\n",
    "    y_train = []\n",
    "    for i in range(data.shape[0] - look_back):\n",
    "        x = data[i : look_back + i][::-1]\n",
    "        y = data[look_back + i]\n",
    "        X_train.append(list(x))\n",
    "        y_train.append(y)\n",
    "    input_seq_for_test = data[i + 1 : look_back + i + 1][::-1]\n",
    "    return X_train, y_train, input_seq_for_test"
   ]
  },
  {
   "cell_type": "markdown",
   "id": "850d10dc",
   "metadata": {},
   "source": [
    "### Feed Forward ANN Forecast"
   ]
  },
  {
   "cell_type": "code",
   "execution_count": null,
   "id": "3fbfb499",
   "metadata": {},
   "outputs": [],
   "source": [
    "def forecast_FNN(model, input_sequence, future_steps):\n",
    "    forecasted_values = []\n",
    "    for i in range(future_steps):\n",
    "        forecasted_value = model.predict(input_sequence)\n",
    "        forecasted_values.append(forecasted_value[0][0])\n",
    "        input_sequence[0] = np.append(forecasted_value, input_sequence[0][:-1])\n",
    "    return forecasted_values"
   ]
  },
  {
   "cell_type": "markdown",
   "id": "b9a5ec29",
   "metadata": {},
   "source": [
    "### Feed Forward Network"
   ]
  },
  {
   "cell_type": "code",
   "execution_count": null,
   "id": "97ccdd0a",
   "metadata": {},
   "outputs": [],
   "source": [
    "def FNN(\n",
    "    data,\n",
    "    look_back,\n",
    "    hidden_nodes,\n",
    "    output_nodes,\n",
    "    epochs,\n",
    "    batch_size,\n",
    "    future_steps,\n",
    "    scaler,\n",
    "):\n",
    "    data = scaler.transform(data)\n",
    "    X_train, y_train, input_seq_for_test_FNN = preprocess_FNN(data, look_back)\n",
    "    X_train, y_train = reshape_arrays(X_train, y_train)\n",
    "\n",
    "    model_FNN = create_NN(\n",
    "        input_nodes=look_back, hidden_nodes=hidden_nodes, output_nodes=output_nodes\n",
    "    )\n",
    "    model_FNN = train_model(model_FNN, X_train, y_train, epochs, batch_size)\n",
    "\n",
    "    input_seq_for_test_FNN = np.reshape(\n",
    "        input_seq_for_test_FNN, (1, len(input_seq_for_test_FNN))\n",
    "    )\n",
    "    forecasted_values_FNN = forecast_FNN(\n",
    "        model_FNN, input_sequence=input_seq_for_test_FNN, future_steps=future_steps\n",
    "    )\n",
    "\n",
    "    forecasted_values_FNN = list(scaler.inverse_transform([forecasted_values_FNN])[0])\n",
    "\n",
    "    return model_FNN, forecasted_values_FNN"
   ]
  },
  {
   "cell_type": "markdown",
   "id": "de58b68f",
   "metadata": {},
   "source": [
    "### FNN scores"
   ]
  },
  {
   "cell_type": "code",
   "execution_count": null,
   "id": "0c5f4b3e",
   "metadata": {},
   "outputs": [],
   "source": [
    "def get_accuracies_FNN(rainfall_data, test_rainfall_data, parameters, scaler):\n",
    "    combination_of_params = get_combinations(parameters)\n",
    "    information_FNN = []\n",
    "    iterator = 0\n",
    "    print(\"FNN - Number of combinations: \" + str(len(combination_of_params)))\n",
    "\n",
    "    for param in combination_of_params:\n",
    "        if (iterator + 1) != len(combination_of_params):\n",
    "            print(iterator + 1, end=\" -> \")\n",
    "        else:\n",
    "            print(iterator + 1)\n",
    "        iterator = iterator + 1\n",
    "\n",
    "        look_back = param[0]\n",
    "        hidden_nodes = param[1]\n",
    "        output_nodes = param[2]\n",
    "        epochs = param[3]\n",
    "        batch_size = param[4]\n",
    "        future_steps = param[5]\n",
    "\n",
    "        model_FNN, forecasted_values_FNN = FNN(\n",
    "            rainfall_data,\n",
    "            look_back,\n",
    "            hidden_nodes,\n",
    "            output_nodes,\n",
    "            epochs,\n",
    "            batch_size,\n",
    "            future_steps,\n",
    "            scaler,\n",
    "        )\n",
    "\n",
    "        y_true = test_rainfall_data.iloc[:future_steps]\n",
    "        mse, mae, mape, rmse = calculate_performance(y_true, forecasted_values_FNN)\n",
    "\n",
    "        info = list(param) + [mse, mae, rmse] + forecasted_values_FNN\n",
    "        information_FNN.append(info)\n",
    "\n",
    "    information_FNN_df = pd.DataFrame(information_FNN)\n",
    "    indexes = [str(i) for i in list(range(1, future_steps + 1))]\n",
    "    information_FNN_df.columns = [\n",
    "        \"look_back\",\n",
    "        \"hidden_nodes\",\n",
    "        \"output_nodes\",\n",
    "        \"epochs\",\n",
    "        \"batch_size\",\n",
    "        \"future_steps\",\n",
    "        \"MSE\",\n",
    "        \"MAE\",\n",
    "        \"RMSE\",\n",
    "    ] + indexes\n",
    "    return information_FNN_df"
   ]
  },
  {
   "cell_type": "markdown",
   "id": "56582179",
   "metadata": {},
   "source": [
    "## Time Lagged Neural Networks"
   ]
  },
  {
   "cell_type": "markdown",
   "id": "7820af83",
   "metadata": {},
   "source": [
    "### Data Preprocessing"
   ]
  },
  {
   "cell_type": "code",
   "execution_count": null,
   "id": "4c875870",
   "metadata": {},
   "outputs": [],
   "source": [
    "def preprocess_TLNN(data, time_lagged_points):\n",
    "    data = np.array(data)[:, 0]\n",
    "    X_train = []\n",
    "    y_train = []\n",
    "    for i in range(max(time_lagged_points), data.shape[0]):\n",
    "        x = [data[i - p] for p in time_lagged_points]\n",
    "        y = data[i]\n",
    "        X_train.append(list(x))\n",
    "        y_train.append(y)\n",
    "    input_seq_for_test = [data[i + 1 - p] for p in time_lagged_points]\n",
    "    return X_train, y_train, input_seq_for_test"
   ]
  },
  {
   "cell_type": "markdown",
   "id": "885edf7d",
   "metadata": {},
   "source": [
    "### TLNN Forecast"
   ]
  },
  {
   "cell_type": "code",
   "execution_count": null,
   "id": "0e774e11",
   "metadata": {},
   "outputs": [],
   "source": [
    "def forecast_TLNN(model, time_lagged_points, last_sequence, future_steps):\n",
    "    forecasted_values = []\n",
    "    max_lag = max(time_lagged_points)\n",
    "    for i in range(future_steps):\n",
    "        input_sequence = [last_sequence[max_lag - p] for p in time_lagged_points]\n",
    "        forecasted_value = model.predict(\n",
    "            np.reshape(input_sequence, (1, len(input_sequence)))\n",
    "        )\n",
    "        forecasted_values.append(forecasted_value[0][0])\n",
    "        last_sequence = last_sequence[1:] + [forecasted_value[0][0]]\n",
    "    return forecasted_values"
   ]
  },
  {
   "cell_type": "markdown",
   "id": "f76f9420",
   "metadata": {},
   "source": [
    "### Time Lagged Neural Networks"
   ]
  },
  {
   "cell_type": "code",
   "execution_count": null,
   "id": "bae0aede",
   "metadata": {},
   "outputs": [],
   "source": [
    "def TLNN(\n",
    "    data,\n",
    "    time_lagged_points,\n",
    "    hidden_nodes,\n",
    "    output_nodes,\n",
    "    epochs,\n",
    "    batch_size,\n",
    "    future_steps,\n",
    "    scaler,\n",
    "):\n",
    "    data = scaler.transform(data)\n",
    "    X_train, y_train, input_seq_for_test_TLNN = preprocess_TLNN(\n",
    "        data, time_lagged_points\n",
    "    )\n",
    "    X_train, y_train = reshape_arrays(X_train, y_train)\n",
    "    model_TLNN = create_NN(\n",
    "        input_nodes=len(time_lagged_points),\n",
    "        hidden_nodes=hidden_nodes,\n",
    "        output_nodes=output_nodes,\n",
    "    )\n",
    "    model_TLNN = train_model(model_TLNN, X_train, y_train, epochs, batch_size)\n",
    "\n",
    "    max_lag = max(time_lagged_points)\n",
    "    forecasted_values_TLNN = forecast_TLNN(\n",
    "        model_TLNN, time_lagged_points, list(data[-max_lag:]), future_steps=future_steps\n",
    "    )\n",
    "    forecasted_values_TLNN = list(scaler.inverse_transform([forecasted_values_TLNN])[0])\n",
    "\n",
    "    return model_TLNN, forecasted_values_TLNN"
   ]
  },
  {
   "cell_type": "markdown",
   "id": "0119ec67",
   "metadata": {},
   "source": [
    "### TLNN Scores"
   ]
  },
  {
   "cell_type": "code",
   "execution_count": null,
   "id": "2a1ff91a",
   "metadata": {},
   "outputs": [],
   "source": [
    "def get_accuracies_TLNN(rainfall_data, test_rainfall_data, parameters, scaler):\n",
    "    combination_of_params = get_combinations(parameters)\n",
    "    information_TLNN = []\n",
    "    iterator = 0\n",
    "    print(\"TLNN - Number of combinations: \" + str(len(combination_of_params)))\n",
    "\n",
    "    for param in combination_of_params:\n",
    "        if (iterator + 1) != len(combination_of_params):\n",
    "            print(iterator + 1, end=\" -> \")\n",
    "        else:\n",
    "            print(iterator + 1)\n",
    "        iterator = iterator + 1\n",
    "\n",
    "        time_lagged_points = param[0]\n",
    "        hidden_nodes = param[1]\n",
    "        output_nodes = param[2]\n",
    "        epochs = param[3]\n",
    "        batch_size = param[4]\n",
    "        future_steps = param[5]\n",
    "\n",
    "        model_TLNN, forecasted_values_TLNN = TLNN(\n",
    "            rainfall_data,\n",
    "            time_lagged_points,\n",
    "            hidden_nodes,\n",
    "            output_nodes,\n",
    "            epochs,\n",
    "            batch_size,\n",
    "            future_steps,\n",
    "            scaler,\n",
    "        )\n",
    "\n",
    "        y_true = test_rainfall_data.iloc[:future_steps]\n",
    "        mse, mae, mape, rmse = calculate_performance(y_true, forecasted_values_TLNN)\n",
    "\n",
    "        info = list(param) + [mse, mae, rmse] + forecasted_values_TLNN\n",
    "        information_TLNN.append(info)\n",
    "\n",
    "    information_TLNN_df = pd.DataFrame(information_TLNN)\n",
    "    indexes = [str(i) for i in list(range(1, future_steps + 1))]\n",
    "    information_TLNN_df.columns = [\n",
    "        \"look_back_lags\",\n",
    "        \"hidden_nodes\",\n",
    "        \"output_nodes\",\n",
    "        \"epochs\",\n",
    "        \"batch_size\",\n",
    "        \"future_steps\",\n",
    "        \"MSE\",\n",
    "        \"MAE\",\n",
    "        \"RMSE\",\n",
    "    ] + indexes\n",
    "    return information_TLNN_df"
   ]
  },
  {
   "cell_type": "markdown",
   "id": "7247a765",
   "metadata": {},
   "source": [
    "## Seasonal Artificial Neural Networks"
   ]
  },
  {
   "cell_type": "code",
   "execution_count": null,
   "id": "00eb22a9",
   "metadata": {},
   "outputs": [],
   "source": [
    "def preprocess_SANN(data, seasonal_period):\n",
    "    data = np.array(data)[:, 0]\n",
    "    X_train = []\n",
    "    y_train = []\n",
    "    for i in range(seasonal_period, data.shape[0] - seasonal_period + 1):\n",
    "        x = data[i - seasonal_period : i][::-1]\n",
    "        y = data[i : i + seasonal_period]\n",
    "        X_train.append(list(x))\n",
    "        y_train.append(list(y))\n",
    "    input_seq_for_test = data[i + 1 - seasonal_period : i + 1][::-1]\n",
    "    return X_train, y_train, input_seq_for_test"
   ]
  },
  {
   "cell_type": "markdown",
   "id": "a0e98640",
   "metadata": {},
   "source": [
    "### SANN Preprocessing"
   ]
  },
  {
   "cell_type": "code",
   "execution_count": null,
   "id": "fe356189",
   "metadata": {},
   "outputs": [],
   "source": [
    "def forecast_SANN(model, input_sequence, seasonal_period, future_steps):\n",
    "    iterations = future_steps / seasonal_period\n",
    "    forecasted_values = []\n",
    "    for i in range(int(iterations) + 1):\n",
    "        next_forecasted_values = model.predict(input_sequence)\n",
    "        forecasted_values += list(next_forecasted_values[0])\n",
    "        input_sequence = next_forecasted_values\n",
    "    return forecasted_values[:future_steps]"
   ]
  },
  {
   "cell_type": "markdown",
   "id": "6b05588d",
   "metadata": {},
   "source": [
    "### SANN Forecast"
   ]
  },
  {
   "cell_type": "code",
   "execution_count": null,
   "id": "aa564872",
   "metadata": {},
   "outputs": [],
   "source": [
    "def forecast_SANN(model, input_sequence, seasonal_period, future_steps):\n",
    "    iterations = future_steps / seasonal_period\n",
    "    forecasted_values = []\n",
    "    for i in range(int(iterations) + 1):\n",
    "        next_forecasted_values = model.predict(input_sequence)\n",
    "        forecasted_values += list(next_forecasted_values[0])\n",
    "        input_sequence = next_forecasted_values\n",
    "    return forecasted_values[:future_steps]"
   ]
  },
  {
   "cell_type": "markdown",
   "id": "2f81aeba",
   "metadata": {},
   "source": [
    "### SANN"
   ]
  },
  {
   "cell_type": "code",
   "execution_count": null,
   "id": "aeb6074b",
   "metadata": {},
   "outputs": [],
   "source": [
    "def SANN(data, seasonal_period, hidden_nodes, epochs, batch_size, future_steps, scaler):\n",
    "    data = scaler.transform(data)\n",
    "    X_train, y_train, input_seq_for_test_SANN = preprocess_SANN(data, seasonal_period)\n",
    "    X_train = np.array(X_train)\n",
    "    y_train = np.array(y_train)\n",
    "\n",
    "    input_seq_for_test_SANN = np.reshape(\n",
    "        input_seq_for_test_SANN, (1, len(input_seq_for_test_SANN))\n",
    "    )\n",
    "    model_SANN = create_NN(\n",
    "        input_nodes=seasonal_period,\n",
    "        hidden_nodes=hidden_nodes,\n",
    "        output_nodes=seasonal_period,\n",
    "    )\n",
    "    model_SANN = train_model(model_SANN, X_train, y_train, epochs, batch_size)\n",
    "\n",
    "    forecasted_values_SANN = forecast_SANN(\n",
    "        model_SANN, input_seq_for_test_SANN, seasonal_period, future_steps=future_steps\n",
    "    )\n",
    "    forecasted_values_SANN = list(scaler.inverse_transform([forecasted_values_SANN])[0])\n",
    "    return model_SANN, forecasted_values_SANN"
   ]
  },
  {
   "cell_type": "markdown",
   "id": "1b3f60db",
   "metadata": {},
   "source": [
    "### SANN Scores"
   ]
  },
  {
   "cell_type": "code",
   "execution_count": null,
   "id": "ca6e4621",
   "metadata": {},
   "outputs": [],
   "source": [
    "def get_accuracies_SANN(rainfall_data, test_rainfall_data, parameters, scaler):\n",
    "    combination_of_params = get_combinations(parameters)\n",
    "    information_SANN = []\n",
    "    iterator = 0\n",
    "    print(\"SANN - Number of combinations: \" + str(len(combination_of_params)))\n",
    "\n",
    "    for param in combination_of_params:\n",
    "        if (iterator + 1) != len(combination_of_params):\n",
    "            print(iterator + 1, end=\" -> \")\n",
    "        else:\n",
    "            print(iterator + 1)\n",
    "        iterator = iterator + 1\n",
    "\n",
    "        seasonal_period = param[0]\n",
    "        hidden_nodes = param[1]\n",
    "        epochs = param[2]\n",
    "        batch_size = param[3]\n",
    "        future_steps = param[4]\n",
    "\n",
    "        model_SANN, forecasted_values_SANN = SANN(\n",
    "            rainfall_data,\n",
    "            seasonal_period,\n",
    "            hidden_nodes,\n",
    "            epochs,\n",
    "            batch_size,\n",
    "            future_steps,\n",
    "            scaler,\n",
    "        )\n",
    "\n",
    "        y_true = test_rainfall_data.iloc[:future_steps]\n",
    "        mse, mae, mape, rmse = calculate_performance(y_true, forecasted_values_SANN)\n",
    "\n",
    "        info = list(param) + [mse, mae, rmse] + forecasted_values_SANN\n",
    "        information_SANN.append(info)\n",
    "\n",
    "    information_SANN_df = pd.DataFrame(information_SANN)\n",
    "    indexes = [str(i) for i in list(range(1, future_steps + 1))]\n",
    "    information_SANN_df.columns = [\n",
    "        \"seasonal_period\",\n",
    "        \"hidden_nodes\",\n",
    "        \"epochs\",\n",
    "        \"batch_size\",\n",
    "        \"future_steps\",\n",
    "        \"MSE\",\n",
    "        \"MAE\",\n",
    "        \"RMSE\",\n",
    "    ] + indexes\n",
    "    return information_SANN_df"
   ]
  },
  {
   "cell_type": "markdown",
   "id": "41c6bf92",
   "metadata": {},
   "source": [
    "## Long Short Term Memory (LSTM)"
   ]
  },
  {
   "cell_type": "markdown",
   "id": "ed717d89",
   "metadata": {},
   "source": [
    "### LSTM Network"
   ]
  },
  {
   "cell_type": "code",
   "execution_count": null,
   "id": "43f6544e",
   "metadata": {},
   "outputs": [],
   "source": [
    "def create_LSTM(input_nodes, hidden_nodes, output_nodes):\n",
    "    model = Sequential()\n",
    "    model.add(LSTM(hidden_nodes, input_shape=(1, input_nodes)))\n",
    "    model.add(Dense(output_nodes))\n",
    "    model.compile(loss=\"mean_squared_error\", optimizer=\"adam\")\n",
    "    return model"
   ]
  },
  {
   "cell_type": "markdown",
   "id": "e5d78413",
   "metadata": {},
   "source": [
    "### LSTM Preprocessing"
   ]
  },
  {
   "cell_type": "code",
   "execution_count": null,
   "id": "80a2f44f",
   "metadata": {},
   "outputs": [],
   "source": [
    "def preprocess_LSTM(data, look_back):\n",
    "    data = np.array(data)[:, 0]\n",
    "    X_train = []\n",
    "    y_train = []\n",
    "    for i in range(data.shape[0] - look_back):\n",
    "        x = data[i : look_back + i][::-1]\n",
    "        y = data[look_back + i]\n",
    "        X_train.append(list(x))\n",
    "        y_train.append(y)\n",
    "    input_seq_for_test = data[i + 1 : look_back + i + 1][::-1]\n",
    "    return X_train, y_train, input_seq_for_test"
   ]
  },
  {
   "cell_type": "markdown",
   "id": "7dc16dda",
   "metadata": {},
   "source": [
    "### LSTM Forecasting\n"
   ]
  },
  {
   "cell_type": "code",
   "execution_count": null,
   "id": "d51a96c0",
   "metadata": {},
   "outputs": [],
   "source": [
    "def forecast_LSTM(model, input_sequence, future_steps):\n",
    "    forecasted_values = []\n",
    "    for i in range(future_steps):\n",
    "        forecasted_value = model.predict(input_sequence)\n",
    "        forecasted_values.append(forecasted_value[0][0])\n",
    "        input_sequence[0][0] = np.append(forecasted_value, input_sequence[0][0][:-1])\n",
    "    return forecasted_values"
   ]
  },
  {
   "cell_type": "markdown",
   "id": "05ad36dc",
   "metadata": {},
   "source": [
    "### Long Short Term Memory"
   ]
  },
  {
   "cell_type": "code",
   "execution_count": null,
   "id": "771fa82f",
   "metadata": {},
   "outputs": [],
   "source": [
    "def Long_Short_Term_Memory(\n",
    "    data,\n",
    "    look_back,\n",
    "    hidden_nodes,\n",
    "    output_nodes,\n",
    "    epochs,\n",
    "    batch_size,\n",
    "    future_steps,\n",
    "    scaler,\n",
    "):\n",
    "    data = scaler.transform(data)\n",
    "    X_train, y_train, input_seq_for_test_LSTM = preprocess_LSTM(data, look_back)\n",
    "    X_train = np.reshape(X_train, (len(X_train), 1, look_back))\n",
    "\n",
    "    model_LSTM = create_LSTM(\n",
    "        input_nodes=look_back, hidden_nodes=hidden_nodes, output_nodes=output_nodes\n",
    "    )\n",
    "    # plot_keras_model(model_LSTM)\n",
    "    model_LSTM = train_model(model_LSTM, X_train, y_train, epochs, batch_size)\n",
    "\n",
    "    input_seq_for_test_LSTM = np.reshape(\n",
    "        input_seq_for_test_LSTM, (1, 1, len(input_seq_for_test_LSTM))\n",
    "    )\n",
    "    forecasted_values_LSTM = forecast_LSTM(\n",
    "        model_LSTM, input_sequence=input_seq_for_test_LSTM, future_steps=future_steps\n",
    "    )\n",
    "\n",
    "    forecasted_values_LSTM = list(scaler.inverse_transform([forecasted_values_LSTM])[0])\n",
    "\n",
    "    return model_LSTM, forecasted_values_LSTM"
   ]
  },
  {
   "cell_type": "markdown",
   "id": "86dd0fe5",
   "metadata": {},
   "source": [
    "### LSTM scores"
   ]
  },
  {
   "cell_type": "code",
   "execution_count": null,
   "id": "47724627",
   "metadata": {},
   "outputs": [],
   "source": [
    "def get_accuracies_LSTM(rainfall_data, test_rainfall_data, parameters, scaler):\n",
    "    combination_of_params = get_combinations(parameters)\n",
    "    information_LSTM = []\n",
    "    iterator = 0\n",
    "    print(\"LSTM - Number of combinations: \" + str(len(combination_of_params)))\n",
    "\n",
    "    for param in combination_of_params:\n",
    "        if (iterator + 1) != len(combination_of_params):\n",
    "            print(iterator + 1, end=\" -> \")\n",
    "        else:\n",
    "            print(iterator + 1)\n",
    "        iterator = iterator + 1\n",
    "\n",
    "        input_nodes = param[0]\n",
    "        hidden_nodes = param[1]\n",
    "        output_nodes = param[2]\n",
    "        epochs = param[3]\n",
    "        batch_size = param[4]\n",
    "        future_steps = param[5]\n",
    "\n",
    "        model_LSTM, forecasted_values_LSTM = Long_Short_Term_Memory(\n",
    "            rainfall_data,\n",
    "            input_nodes,\n",
    "            hidden_nodes,\n",
    "            output_nodes,\n",
    "            epochs,\n",
    "            batch_size,\n",
    "            future_steps,\n",
    "            scaler,\n",
    "        )\n",
    "\n",
    "        y_true = test_rainfall_data.iloc[:future_steps]\n",
    "        mse, mae, mape, rmse = calculate_performance(y_true, forecasted_values_LSTM)\n",
    "\n",
    "        info = list(param) + [mse, mae, rmse] + forecasted_values_LSTM\n",
    "        information_LSTM.append(info)\n",
    "\n",
    "    information_LSTM_df = pd.DataFrame(information_LSTM)\n",
    "    indexes = [str(i) for i in list(range(1, future_steps + 1))]\n",
    "    information_LSTM_df.columns = [\n",
    "        \"look_back\",\n",
    "        \"hidden_nodes\",\n",
    "        \"output_nodes\",\n",
    "        \"epochs\",\n",
    "        \"batch_size\",\n",
    "        \"future_steps\",\n",
    "        \"MSE\",\n",
    "        \"MAE\",\n",
    "        \"RMSE\",\n",
    "    ] + indexes\n",
    "    return information_LSTM_df"
   ]
  },
  {
   "cell_type": "markdown",
   "id": "8b02f931",
   "metadata": {},
   "source": [
    "### Analyze the test data and forecasted data"
   ]
  },
  {
   "cell_type": "code",
   "execution_count": null,
   "id": "9bcb011e",
   "metadata": {},
   "outputs": [],
   "source": [
    "def analyze_results(data_frame, test_rainfall_data, name, flag=False):\n",
    "    optimized_params = data_frame.iloc[data_frame.RMSE.argmin()]\n",
    "    future_steps = optimized_params.future_steps\n",
    "    forecast_values = optimized_params[-1 * int(future_steps) :]\n",
    "    y_true = test_rainfall_data.iloc[: int(future_steps)]\n",
    "    forecast_values.index = y_true.index\n",
    "\n",
    "    print(\"=== Best parameters of \" + name + \" ===\\n\")\n",
    "    if name == \"FNN\" or name == \"LSTM\":\n",
    "        model = create_NN(\n",
    "            optimized_params.look_back,\n",
    "            optimized_params.hidden_nodes,\n",
    "            optimized_params.output_nodes,\n",
    "        )\n",
    "        print(\"Input nodes(p): \" + str(optimized_params.look_back))\n",
    "        print(\"Hidden nodes: \" + str(optimized_params.hidden_nodes))\n",
    "        print(\"Output nodes: \" + str(optimized_params.output_nodes))\n",
    "    elif name == \"TLNN\":\n",
    "        model = create_NN(\n",
    "            len(optimized_params.look_back_lags),\n",
    "            optimized_params.hidden_nodes,\n",
    "            optimized_params.output_nodes,\n",
    "        )\n",
    "        s = \"\"\n",
    "        for i in optimized_params.look_back_lags:\n",
    "            s = s + \" \" + str(i)\n",
    "        print(\"Look back lags: \" + s)\n",
    "        print(\"Hidden nodes: \" + str(optimized_params.hidden_nodes))\n",
    "        print(\"Output nodes: \" + str(optimized_params.output_nodes))\n",
    "    elif name == \"SANN\":\n",
    "        model = create_NN(\n",
    "            optimized_params.seasonal_period,\n",
    "            optimized_params.hidden_nodes,\n",
    "            optimized_params.seasonal_period,\n",
    "        )\n",
    "        print(\"Input nodes(s): \" + str(optimized_params.seasonal_period))\n",
    "        print(\"Hidden nodes: \" + str(optimized_params.hidden_nodes))\n",
    "        print(\"Output nodes: \" + str(optimized_params.seasonal_period))\n",
    "\n",
    "    print(\"Number of epochs: \" + str(optimized_params.epochs))\n",
    "    print(\"Batch size: \" + str(optimized_params.batch_size))\n",
    "    print(\"Number of future steps forecasted: \" + str(optimized_params.future_steps))\n",
    "    print(\"Mean Squared Error(MSE): \" + str(optimized_params.MSE))\n",
    "    print(\"Mean Absolute Error(MAE): \" + str(optimized_params.MAE))\n",
    "    print(\"Root Mean Squared Error(RMSE): \" + str(optimized_params.RMSE))\n",
    "    print(\"\\n\\n\")\n",
    "\n",
    "    # Save model\n",
    "    from keras.utils import plot_model\n",
    "\n",
    "    #     plot_model(model, to_file = STORAGE_FOLDER + name + '_best_fit_model.png', show_shapes=True, show_layer_names=True)\n",
    "\n",
    "    #     # Save data\n",
    "    #     data_frame.to_csv(STORAGE_FOLDER + name + '_information.csv')\n",
    "    #     optimized_params.to_csv(STORAGE_FOLDER + name + '_optimized_values.csv')\n",
    "\n",
    "    plt.figure(figsize=(10, 5))\n",
    "    plt.plot(y_true, color=\"green\", label=\"Actual values\")\n",
    "    plt.plot(forecast_values, color=\"red\", label=\"Forecasted values\")\n",
    "    plt.xlabel(\"Year\")\n",
    "    plt.ylabel(\"Monthly mean Precipitation\")\n",
    "    plt.legend(loc=\"best\")\n",
    "    if flag == False:\n",
    "        plt.title(name + \" - Comaprison: Actual vs Forecasted\")\n",
    "    #         plt.savefig(STORAGE_FOLDER + name + '_best_forecast'  + '.png')\n",
    "    else:\n",
    "        plt.title(\"Best of all: \" + name + \" - Comaprison: Actual vs Forecasted\")\n",
    "    #         plt.savefig(STORAGE_FOLDER + 'BEST_FORECAST_' + name + '.png')\n",
    "\n",
    "    return optimized_params"
   ]
  },
  {
   "cell_type": "markdown",
   "id": "7afa40ca",
   "metadata": {},
   "source": [
    "### Pick the Best Method"
   ]
  },
  {
   "cell_type": "code",
   "execution_count": null,
   "id": "79662e56",
   "metadata": {},
   "outputs": [],
   "source": [
    "def best_of_all(list_of_methods):\n",
    "    RMSE_values = [x.RMSE for x in list_of_methods]\n",
    "    index = np.argmin(RMSE_values)\n",
    "    if index == 0:\n",
    "        name = \"FNN\"\n",
    "    elif index == 1:\n",
    "        name = \"TLNN\"\n",
    "    elif index == 2:\n",
    "        name = \"SANN\"\n",
    "    else:\n",
    "        name = \"LSTM\"\n",
    "    print(RMSE_values)\n",
    "\n",
    "    names = [\"FNN\", \"TLNN\", \"SANN\", \"LSTM\"]\n",
    "    RMSE_info = pd.Series(RMSE_values, index=names)\n",
    "\n",
    "    print(\"Overall Best method on this data is \" + name)\n",
    "    return index, name, RMSE_info"
   ]
  },
  {
   "cell_type": "markdown",
   "id": "60c6bc65",
   "metadata": {},
   "source": [
    "### Compare Results of above algorithms"
   ]
  },
  {
   "cell_type": "code",
   "execution_count": null,
   "id": "2ab72b1e",
   "metadata": {},
   "outputs": [],
   "source": [
    "def compare_ANN_methods(\n",
    "    rainfall_data,\n",
    "    test_rainfall_data,\n",
    "    scaler,\n",
    "    parameters_FNN,\n",
    "    parameters_TLNN,\n",
    "    parameters_SANN,\n",
    "    parameters_LSTM,\n",
    "    future_steps,\n",
    "):\n",
    "\n",
    "    information_FNN_df = get_accuracies_FNN(\n",
    "        rainfall_data, test_rainfall_data, parameters_FNN, scaler\n",
    "    )\n",
    "    optimized_params_FNN = analyze_results(\n",
    "        information_FNN_df, test_rainfall_data, \"FNN\"\n",
    "    )\n",
    "\n",
    "    # information_TLNN_df = get_accuracies_TLNN(rainfall_data, test_rainfall_data, parameters_TLNN, scaler)\n",
    "    # optimized_params_TLNN = analyze_results(information_TLNN_df, test_rainfall_data, 'TLNN')\n",
    "\n",
    "    # information_SANN_df = get_accuracies_SANN(rainfall_data, test_rainfall_data, parameters_SANN, scaler)\n",
    "    # optimized_params_SANN = analyze_results(information_SANN_df, test_rainfall_data, 'SANN')\n",
    "\n",
    "    # information_LSTM_df = get_accuracies_LSTM(rainfall_data, test_rainfall_data, parameters_LSTM, scaler)\n",
    "    # optimized_params_LSTM = analyze_results(information_LSTM_df, test_rainfall_data, 'LSTM')\n",
    "\n",
    "    list_of_methods = [\n",
    "        optimized_params_FNN,\n",
    "        optimized_params_TLNN,\n",
    "        optimized_params_SANN,\n",
    "        optimized_params_LSTM,\n",
    "    ]\n",
    "    information = [\n",
    "        information_FNN_df,\n",
    "        information_TLNN_df,\n",
    "        information_SANN_df,\n",
    "        information_LSTM_df,\n",
    "    ]\n",
    "    index, name, RMSE_info = best_of_all(list_of_methods)\n",
    "    best_optimized_params = analyze_results(\n",
    "        information[index], test_rainfall_data, name, True\n",
    "    )\n",
    "    return RMSE_info"
   ]
  },
  {
   "cell_type": "markdown",
   "id": "b1b7484c",
   "metadata": {},
   "source": [
    "### Number of Future steps to be forecasted"
   ]
  },
  {
   "cell_type": "code",
   "execution_count": null,
   "id": "2d8398b0",
   "metadata": {},
   "outputs": [],
   "source": [
    "future_steps = 100"
   ]
  },
  {
   "cell_type": "markdown",
   "id": "a58e6dd2",
   "metadata": {},
   "source": [
    "### Initialize all the parameters"
   ]
  },
  {
   "cell_type": "code",
   "execution_count": null,
   "id": "28e67482",
   "metadata": {},
   "outputs": [],
   "source": [
    "# look_back, hidden_nodes, output_nodes, epochs, batch_size, future_steps\n",
    "parameters_FNN = [[1,2,3,6,8,10,12], [3,4,5,6], [1], [500], [20], [future_steps]]\n",
    "\n",
    "# time_lagged_points, hidden_nodes, output_nodes, epochs, batch_size, future_steps\n",
    "parameters_TLNN = [[[1,2,3,11,12], [1,2,3,4,11,12], [1,2,3,11,12,13], [1,2,3,4,5,6,10,11,12]], [3,4,5,6], [1], [300], [20], [future_steps]]\n",
    "\n",
    "# seasonal_period, hidden_nodes, epochs, batch_size, future_steps\n",
    "parameters_SANN = [[12], [3,4,5,6,7,8,9,10], [500], [20], [future_steps]]\n",
    "\n",
    "# look_back, hidden_nodes, output_nodes, epochs, batch_size, future_steps\n",
    "parameters_LSTM = [[1,2,3,4,5,6,7,8,9,10,11,12,13], [3,4,5,6], [1], [300], [20], [future_steps]]\n",
    "\n",
    "\n",
    "RMSE_info = compare_ANN_methods(train_df, test_df, scaler, \n",
    "                    parameters_FNN, parameters_TLNN, parameters_SANN, parameters_LSTM, future_steps)"
   ]
  }
 ],
 "metadata": {
  "kernelspec": {
   "display_name": "Python 3 (ipykernel)",
   "language": "python",
   "name": "python3"
  },
  "language_info": {
   "codemirror_mode": {
    "name": "ipython",
    "version": 3
   },
   "file_extension": ".py",
   "mimetype": "text/x-python",
   "name": "python",
   "nbconvert_exporter": "python",
   "pygments_lexer": "ipython3",
   "version": "3.8.12"
  }
 },
 "nbformat": 4,
 "nbformat_minor": 5
}
