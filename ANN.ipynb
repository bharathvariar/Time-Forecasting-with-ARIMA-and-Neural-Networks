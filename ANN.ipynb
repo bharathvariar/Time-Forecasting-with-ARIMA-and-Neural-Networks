{
 "cells": [
  {
   "cell_type": "markdown",
   "id": "3971c0c0",
   "metadata": {},
   "source": [
    "## Importing Libraries"
   ]
  },
  {
   "cell_type": "code",
   "execution_count": 1,
   "id": "76a34aab",
   "metadata": {},
   "outputs": [
    {
     "data": {
      "application/javascript": [
       "\n",
       "            setTimeout(function() {\n",
       "                var nbb_cell_id = 1;\n",
       "                var nbb_unformatted_code = \"import math\\nimport warnings\\nimport itertools\\nimport pandas as pd\\nimport numpy as np\\nimport matplotlib.pyplot as plt\\nimport statsmodels.api as sm\\nimport pmdarima as pm\\nfrom datetime import date\\nfrom statsmodels.tsa.arima.model import ARIMA\\nfrom statsmodels.graphics.tsaplots import plot_acf, plot_pacf, plot_predict\\nfrom statsmodels.tsa.stattools import adfuller\\nfrom keras.models import Sequential\\nfrom keras.layers import Dense\\nfrom keras.layers import LSTM\\nfrom sklearn.preprocessing import MinMaxScaler\\nfrom sklearn.metrics import mean_squared_error\\nfrom sklearn.metrics import mean_absolute_error\\nfrom IPython.display import SVG\\nfrom keras.utils.vis_utils import model_to_dot\\n\\n%load_ext nb_black\\n\\n# Defaults\\nplt.rcParams[\\\"figure.figsize\\\"] = (15.0, 10.0)\\nplt.rcParams.update({\\\"font.size\\\": 12, \\\"figure.dpi\\\": 120})\\nwarnings.filterwarnings(\\\"ignore\\\")  # specify to ignore warning messages\";\n",
       "                var nbb_formatted_code = \"import math\\nimport warnings\\nimport itertools\\nimport pandas as pd\\nimport numpy as np\\nimport matplotlib.pyplot as plt\\nimport statsmodels.api as sm\\nimport pmdarima as pm\\nfrom datetime import date\\nfrom statsmodels.tsa.arima.model import ARIMA\\nfrom statsmodels.graphics.tsaplots import plot_acf, plot_pacf, plot_predict\\nfrom statsmodels.tsa.stattools import adfuller\\nfrom keras.models import Sequential\\nfrom keras.layers import Dense\\nfrom keras.layers import LSTM\\nfrom sklearn.preprocessing import MinMaxScaler\\nfrom sklearn.metrics import mean_squared_error\\nfrom sklearn.metrics import mean_absolute_error\\nfrom IPython.display import SVG\\nfrom keras.utils.vis_utils import model_to_dot\\n\\n%load_ext nb_black\\n\\n# Defaults\\nplt.rcParams[\\\"figure.figsize\\\"] = (15.0, 10.0)\\nplt.rcParams.update({\\\"font.size\\\": 12, \\\"figure.dpi\\\": 120})\\nwarnings.filterwarnings(\\\"ignore\\\")  # specify to ignore warning messages\";\n",
       "                var nbb_cells = Jupyter.notebook.get_cells();\n",
       "                for (var i = 0; i < nbb_cells.length; ++i) {\n",
       "                    if (nbb_cells[i].input_prompt_number == nbb_cell_id) {\n",
       "                        if (nbb_cells[i].get_text() == nbb_unformatted_code) {\n",
       "                             nbb_cells[i].set_text(nbb_formatted_code);\n",
       "                        }\n",
       "                        break;\n",
       "                    }\n",
       "                }\n",
       "            }, 500);\n",
       "            "
      ],
      "text/plain": [
       "<IPython.core.display.Javascript object>"
      ]
     },
     "metadata": {},
     "output_type": "display_data"
    }
   ],
   "source": [
    "import math\n",
    "import warnings\n",
    "import itertools\n",
    "import pandas as pd\n",
    "import numpy as np\n",
    "import matplotlib.pyplot as plt\n",
    "import statsmodels.api as sm\n",
    "import pmdarima as pm\n",
    "from datetime import date\n",
    "from statsmodels.tsa.arima.model import ARIMA\n",
    "from statsmodels.graphics.tsaplots import plot_acf, plot_pacf, plot_predict\n",
    "from statsmodels.tsa.stattools import adfuller\n",
    "from keras.models import Sequential\n",
    "from keras.layers import Dense\n",
    "from keras.layers import LSTM\n",
    "from sklearn.preprocessing import MinMaxScaler\n",
    "from sklearn.metrics import mean_squared_error\n",
    "from sklearn.metrics import mean_absolute_error\n",
    "from IPython.display import SVG\n",
    "from keras.utils.vis_utils import model_to_dot\n",
    "\n",
    "%load_ext nb_black\n",
    "\n",
    "# Defaults\n",
    "plt.rcParams[\"figure.figsize\"] = (15.0, 10.0)\n",
    "plt.rcParams.update({\"font.size\": 12, \"figure.dpi\": 120})\n",
    "warnings.filterwarnings(\"ignore\")  # specify to ignore warning messages"
   ]
  },
  {
   "cell_type": "markdown",
   "id": "8814e99e",
   "metadata": {},
   "source": [
    "## Data Handling"
   ]
  },
  {
   "cell_type": "code",
   "execution_count": 3,
   "id": "e78cf49a",
   "metadata": {},
   "outputs": [
    {
     "data": {
      "application/javascript": [
       "\n",
       "            setTimeout(function() {\n",
       "                var nbb_cell_id = 3;\n",
       "                var nbb_unformatted_code = \"def preprocess(df):\\n    df = df.drop([\\\"Lat\\\", \\\"Long\\\"], axis=1)\\n    df = df.groupby([\\\"Country/Region\\\"], as_index=False).sum()\\n    df.loc[-1] = df.sum()\\n    df.loc[-1, \\\"Country/Region\\\"] = \\\"Worldwide\\\"\\n    countries = [\\n        \\\"US\\\",\\n        \\\"Germany\\\",\\n        \\\"Spain\\\",\\n        \\\"United Kingdom\\\",\\n        \\\"France\\\",\\n        \\\"India\\\",\\n        \\\"Iran\\\",\\n        \\\"Italy\\\",\\n        \\\"Russia\\\",\\n        \\\"Turkey\\\",\\n        #         \\\"Worldwide\\\",\\n    ]\\n    df = df.loc[df[\\\"Country/Region\\\"].isin(countries)]\\n    df.reset_index(drop=True, inplace=True)\\n    df = df.set_index(\\\"Country/Region\\\")\\n    df.columns = pd.to_datetime(df.columns)\\n    df = df.T\\n    return df\";\n",
       "                var nbb_formatted_code = \"def preprocess(df):\\n    df = df.drop([\\\"Lat\\\", \\\"Long\\\"], axis=1)\\n    df = df.groupby([\\\"Country/Region\\\"], as_index=False).sum()\\n    df.loc[-1] = df.sum()\\n    df.loc[-1, \\\"Country/Region\\\"] = \\\"Worldwide\\\"\\n    countries = [\\n        \\\"US\\\",\\n        \\\"Germany\\\",\\n        \\\"Spain\\\",\\n        \\\"United Kingdom\\\",\\n        \\\"France\\\",\\n        \\\"India\\\",\\n        \\\"Iran\\\",\\n        \\\"Italy\\\",\\n        \\\"Russia\\\",\\n        \\\"Turkey\\\",\\n        #         \\\"Worldwide\\\",\\n    ]\\n    df = df.loc[df[\\\"Country/Region\\\"].isin(countries)]\\n    df.reset_index(drop=True, inplace=True)\\n    df = df.set_index(\\\"Country/Region\\\")\\n    df.columns = pd.to_datetime(df.columns)\\n    df = df.T\\n    return df\";\n",
       "                var nbb_cells = Jupyter.notebook.get_cells();\n",
       "                for (var i = 0; i < nbb_cells.length; ++i) {\n",
       "                    if (nbb_cells[i].input_prompt_number == nbb_cell_id) {\n",
       "                        if (nbb_cells[i].get_text() == nbb_unformatted_code) {\n",
       "                             nbb_cells[i].set_text(nbb_formatted_code);\n",
       "                        }\n",
       "                        break;\n",
       "                    }\n",
       "                }\n",
       "            }, 500);\n",
       "            "
      ],
      "text/plain": [
       "<IPython.core.display.Javascript object>"
      ]
     },
     "metadata": {},
     "output_type": "display_data"
    }
   ],
   "source": [
    "def preprocess(df):\n",
    "    df = df.drop([\"Lat\", \"Long\"], axis=1)\n",
    "    df = df.groupby([\"Country/Region\"], as_index=False).sum()\n",
    "    df.loc[-1] = df.sum()\n",
    "    df.loc[-1, \"Country/Region\"] = \"Worldwide\"\n",
    "    countries = [\n",
    "        \"US\",\n",
    "        \"Germany\",\n",
    "        \"Spain\",\n",
    "        \"United Kingdom\",\n",
    "        \"France\",\n",
    "        \"India\",\n",
    "        \"Iran\",\n",
    "        \"Italy\",\n",
    "        \"Russia\",\n",
    "        \"Turkey\",\n",
    "        #         \"Worldwide\",\n",
    "    ]\n",
    "    df = df.loc[df[\"Country/Region\"].isin(countries)]\n",
    "    df.reset_index(drop=True, inplace=True)\n",
    "    df = df.set_index(\"Country/Region\")\n",
    "    df.columns = pd.to_datetime(df.columns)\n",
    "    df = df.T\n",
    "    return df"
   ]
  },
  {
   "cell_type": "code",
   "execution_count": 4,
   "id": "000cf052",
   "metadata": {},
   "outputs": [
    {
     "data": {
      "application/javascript": [
       "\n",
       "            setTimeout(function() {\n",
       "                var nbb_cell_id = 4;\n",
       "                var nbb_unformatted_code = \"confirmed_df = pd.read_csv(\\n    \\\"./csse_covid_19_time_series/time_series_covid19_confirmed_global.csv\\\"\\n)\\nconfirmed_df = preprocess(confirmed_df)\\ndeaths_df = pd.read_csv(\\n    \\\"./csse_covid_19_time_series/time_series_covid19_deaths_global.csv\\\"\\n)\\ndeaths_df = preprocess(deaths_df)\\nrecovered_df = pd.read_csv(\\n    \\\"./csse_covid_19_time_series/time_series_covid19_recovered_global.csv\\\"\\n)\\nrecovered_df = preprocess(recovered_df)\";\n",
       "                var nbb_formatted_code = \"confirmed_df = pd.read_csv(\\n    \\\"./csse_covid_19_time_series/time_series_covid19_confirmed_global.csv\\\"\\n)\\nconfirmed_df = preprocess(confirmed_df)\\ndeaths_df = pd.read_csv(\\n    \\\"./csse_covid_19_time_series/time_series_covid19_deaths_global.csv\\\"\\n)\\ndeaths_df = preprocess(deaths_df)\\nrecovered_df = pd.read_csv(\\n    \\\"./csse_covid_19_time_series/time_series_covid19_recovered_global.csv\\\"\\n)\\nrecovered_df = preprocess(recovered_df)\";\n",
       "                var nbb_cells = Jupyter.notebook.get_cells();\n",
       "                for (var i = 0; i < nbb_cells.length; ++i) {\n",
       "                    if (nbb_cells[i].input_prompt_number == nbb_cell_id) {\n",
       "                        if (nbb_cells[i].get_text() == nbb_unformatted_code) {\n",
       "                             nbb_cells[i].set_text(nbb_formatted_code);\n",
       "                        }\n",
       "                        break;\n",
       "                    }\n",
       "                }\n",
       "            }, 500);\n",
       "            "
      ],
      "text/plain": [
       "<IPython.core.display.Javascript object>"
      ]
     },
     "metadata": {},
     "output_type": "display_data"
    }
   ],
   "source": [
    "confirmed_df = pd.read_csv(\n",
    "    \"./csse_covid_19_time_series/time_series_covid19_confirmed_global.csv\"\n",
    ")\n",
    "confirmed_df = preprocess(confirmed_df)\n",
    "deaths_df = pd.read_csv(\n",
    "    \"./csse_covid_19_time_series/time_series_covid19_deaths_global.csv\"\n",
    ")\n",
    "deaths_df = preprocess(deaths_df)\n",
    "recovered_df = pd.read_csv(\n",
    "    \"./csse_covid_19_time_series/time_series_covid19_recovered_global.csv\"\n",
    ")\n",
    "recovered_df = preprocess(recovered_df)"
   ]
  },
  {
   "cell_type": "code",
   "execution_count": 5,
   "id": "a5c758ed",
   "metadata": {},
   "outputs": [
    {
     "data": {
      "application/javascript": [
       "\n",
       "            setTimeout(function() {\n",
       "                var nbb_cell_id = 5;\n",
       "                var nbb_unformatted_code = \"active_df = pd.DataFrame(confirmed_df - deaths_df - recovered_df)\\n#active_df.plot(figsize=(10, 5))\\n#plt.show()\";\n",
       "                var nbb_formatted_code = \"active_df = pd.DataFrame(confirmed_df - deaths_df - recovered_df)\\n# active_df.plot(figsize=(10, 5))\\n# plt.show()\";\n",
       "                var nbb_cells = Jupyter.notebook.get_cells();\n",
       "                for (var i = 0; i < nbb_cells.length; ++i) {\n",
       "                    if (nbb_cells[i].input_prompt_number == nbb_cell_id) {\n",
       "                        if (nbb_cells[i].get_text() == nbb_unformatted_code) {\n",
       "                             nbb_cells[i].set_text(nbb_formatted_code);\n",
       "                        }\n",
       "                        break;\n",
       "                    }\n",
       "                }\n",
       "            }, 500);\n",
       "            "
      ],
      "text/plain": [
       "<IPython.core.display.Javascript object>"
      ]
     },
     "metadata": {},
     "output_type": "display_data"
    }
   ],
   "source": [
    "active_df = pd.DataFrame(confirmed_df - deaths_df - recovered_df)\n",
    "# active_df.plot(figsize=(10, 5))\n",
    "# plt.show()"
   ]
  },
  {
   "cell_type": "code",
   "execution_count": 6,
   "id": "cfd86717",
   "metadata": {},
   "outputs": [
    {
     "data": {
      "application/javascript": [
       "\n",
       "            setTimeout(function() {\n",
       "                var nbb_cell_id = 6;\n",
       "                var nbb_unformatted_code = \"#confirmed_df.plot(figsize=(10, 5))\\n#plt.show()\";\n",
       "                var nbb_formatted_code = \"# confirmed_df.plot(figsize=(10, 5))\\n# plt.show()\";\n",
       "                var nbb_cells = Jupyter.notebook.get_cells();\n",
       "                for (var i = 0; i < nbb_cells.length; ++i) {\n",
       "                    if (nbb_cells[i].input_prompt_number == nbb_cell_id) {\n",
       "                        if (nbb_cells[i].get_text() == nbb_unformatted_code) {\n",
       "                             nbb_cells[i].set_text(nbb_formatted_code);\n",
       "                        }\n",
       "                        break;\n",
       "                    }\n",
       "                }\n",
       "            }, 500);\n",
       "            "
      ],
      "text/plain": [
       "<IPython.core.display.Javascript object>"
      ]
     },
     "metadata": {},
     "output_type": "display_data"
    }
   ],
   "source": [
    "# confirmed_df.plot(figsize=(10, 5))\n",
    "# plt.show()"
   ]
  },
  {
   "cell_type": "code",
   "execution_count": 7,
   "id": "6e76c6d7",
   "metadata": {},
   "outputs": [
    {
     "data": {
      "application/javascript": [
       "\n",
       "            setTimeout(function() {\n",
       "                var nbb_cell_id = 7;\n",
       "                var nbb_unformatted_code = \"#deaths_df.plot(figsize=(10, 5))\\n#plt.show()\";\n",
       "                var nbb_formatted_code = \"# deaths_df.plot(figsize=(10, 5))\\n# plt.show()\";\n",
       "                var nbb_cells = Jupyter.notebook.get_cells();\n",
       "                for (var i = 0; i < nbb_cells.length; ++i) {\n",
       "                    if (nbb_cells[i].input_prompt_number == nbb_cell_id) {\n",
       "                        if (nbb_cells[i].get_text() == nbb_unformatted_code) {\n",
       "                             nbb_cells[i].set_text(nbb_formatted_code);\n",
       "                        }\n",
       "                        break;\n",
       "                    }\n",
       "                }\n",
       "            }, 500);\n",
       "            "
      ],
      "text/plain": [
       "<IPython.core.display.Javascript object>"
      ]
     },
     "metadata": {},
     "output_type": "display_data"
    }
   ],
   "source": [
    "# deaths_df.plot(figsize=(10, 5))\n",
    "# plt.show()"
   ]
  },
  {
   "cell_type": "code",
   "execution_count": 8,
   "id": "e0c703a5",
   "metadata": {},
   "outputs": [
    {
     "data": {
      "application/javascript": [
       "\n",
       "            setTimeout(function() {\n",
       "                var nbb_cell_id = 8;\n",
       "                var nbb_unformatted_code = \"#recovered_df.plot(figsize=(10, 5))\\n#plt.show()\";\n",
       "                var nbb_formatted_code = \"# recovered_df.plot(figsize=(10, 5))\\n# plt.show()\";\n",
       "                var nbb_cells = Jupyter.notebook.get_cells();\n",
       "                for (var i = 0; i < nbb_cells.length; ++i) {\n",
       "                    if (nbb_cells[i].input_prompt_number == nbb_cell_id) {\n",
       "                        if (nbb_cells[i].get_text() == nbb_unformatted_code) {\n",
       "                             nbb_cells[i].set_text(nbb_formatted_code);\n",
       "                        }\n",
       "                        break;\n",
       "                    }\n",
       "                }\n",
       "            }, 500);\n",
       "            "
      ],
      "text/plain": [
       "<IPython.core.display.Javascript object>"
      ]
     },
     "metadata": {},
     "output_type": "display_data"
    }
   ],
   "source": [
    "# recovered_df.plot(figsize=(10, 5))\n",
    "# plt.show()"
   ]
  },
  {
   "cell_type": "markdown",
   "id": "a3b11ad2",
   "metadata": {},
   "source": [
    "### Train test split"
   ]
  },
  {
   "cell_type": "code",
   "execution_count": 9,
   "id": "f596eaf9",
   "metadata": {},
   "outputs": [
    {
     "data": {
      "application/javascript": [
       "\n",
       "            setTimeout(function() {\n",
       "                var nbb_cell_id = 9;\n",
       "                var nbb_unformatted_code = \"active_train = active_df[:\\\"2021-04-04\\\"]\\nactive_test = active_df[\\\"2021-04-05\\\":\\\"2021-08-04\\\"]\\nconfirmed_train = confirmed_df[:\\\"2021-04-04\\\"]\\nconfirmed_test = confirmed_df[\\\"2021-04-05\\\":\\\"2021-08-04\\\"]\";\n",
       "                var nbb_formatted_code = \"active_train = active_df[:\\\"2021-04-04\\\"]\\nactive_test = active_df[\\\"2021-04-05\\\":\\\"2021-08-04\\\"]\\nconfirmed_train = confirmed_df[:\\\"2021-04-04\\\"]\\nconfirmed_test = confirmed_df[\\\"2021-04-05\\\":\\\"2021-08-04\\\"]\";\n",
       "                var nbb_cells = Jupyter.notebook.get_cells();\n",
       "                for (var i = 0; i < nbb_cells.length; ++i) {\n",
       "                    if (nbb_cells[i].input_prompt_number == nbb_cell_id) {\n",
       "                        if (nbb_cells[i].get_text() == nbb_unformatted_code) {\n",
       "                             nbb_cells[i].set_text(nbb_formatted_code);\n",
       "                        }\n",
       "                        break;\n",
       "                    }\n",
       "                }\n",
       "            }, 500);\n",
       "            "
      ],
      "text/plain": [
       "<IPython.core.display.Javascript object>"
      ]
     },
     "metadata": {},
     "output_type": "display_data"
    }
   ],
   "source": [
    "active_train = active_df[:\"2021-04-04\"]\n",
    "active_test = active_df[\"2021-04-05\":\"2021-08-04\"]\n",
    "confirmed_train = confirmed_df[:\"2021-04-04\"]\n",
    "confirmed_test = confirmed_df[\"2021-04-05\":\"2021-08-04\"]"
   ]
  },
  {
   "cell_type": "markdown",
   "id": "75b31723",
   "metadata": {},
   "source": [
    "## Implementing ANN"
   ]
  },
  {
   "cell_type": "code",
   "execution_count": 10,
   "id": "7cac2632",
   "metadata": {},
   "outputs": [
    {
     "data": {
      "text/html": [
       "<div>\n",
       "<style scoped>\n",
       "    .dataframe tbody tr th:only-of-type {\n",
       "        vertical-align: middle;\n",
       "    }\n",
       "\n",
       "    .dataframe tbody tr th {\n",
       "        vertical-align: top;\n",
       "    }\n",
       "\n",
       "    .dataframe thead th {\n",
       "        text-align: right;\n",
       "    }\n",
       "</style>\n",
       "<table border=\"1\" class=\"dataframe\">\n",
       "  <thead>\n",
       "    <tr style=\"text-align: right;\">\n",
       "      <th>Country/Region</th>\n",
       "      <th>date</th>\n",
       "      <th>France</th>\n",
       "      <th>Germany</th>\n",
       "      <th>India</th>\n",
       "      <th>Iran</th>\n",
       "      <th>Italy</th>\n",
       "      <th>Russia</th>\n",
       "      <th>Spain</th>\n",
       "      <th>Turkey</th>\n",
       "      <th>US</th>\n",
       "      <th>United Kingdom</th>\n",
       "    </tr>\n",
       "  </thead>\n",
       "  <tbody>\n",
       "    <tr>\n",
       "      <th>0</th>\n",
       "      <td>2020-01-22</td>\n",
       "      <td>0</td>\n",
       "      <td>0</td>\n",
       "      <td>0</td>\n",
       "      <td>0</td>\n",
       "      <td>0</td>\n",
       "      <td>0</td>\n",
       "      <td>0</td>\n",
       "      <td>0</td>\n",
       "      <td>1</td>\n",
       "      <td>0</td>\n",
       "    </tr>\n",
       "    <tr>\n",
       "      <th>1</th>\n",
       "      <td>2020-01-23</td>\n",
       "      <td>0</td>\n",
       "      <td>0</td>\n",
       "      <td>0</td>\n",
       "      <td>0</td>\n",
       "      <td>0</td>\n",
       "      <td>0</td>\n",
       "      <td>0</td>\n",
       "      <td>0</td>\n",
       "      <td>1</td>\n",
       "      <td>0</td>\n",
       "    </tr>\n",
       "    <tr>\n",
       "      <th>2</th>\n",
       "      <td>2020-01-24</td>\n",
       "      <td>2</td>\n",
       "      <td>0</td>\n",
       "      <td>0</td>\n",
       "      <td>0</td>\n",
       "      <td>0</td>\n",
       "      <td>0</td>\n",
       "      <td>0</td>\n",
       "      <td>0</td>\n",
       "      <td>2</td>\n",
       "      <td>0</td>\n",
       "    </tr>\n",
       "    <tr>\n",
       "      <th>3</th>\n",
       "      <td>2020-01-25</td>\n",
       "      <td>3</td>\n",
       "      <td>0</td>\n",
       "      <td>0</td>\n",
       "      <td>0</td>\n",
       "      <td>0</td>\n",
       "      <td>0</td>\n",
       "      <td>0</td>\n",
       "      <td>0</td>\n",
       "      <td>2</td>\n",
       "      <td>0</td>\n",
       "    </tr>\n",
       "    <tr>\n",
       "      <th>4</th>\n",
       "      <td>2020-01-26</td>\n",
       "      <td>3</td>\n",
       "      <td>0</td>\n",
       "      <td>0</td>\n",
       "      <td>0</td>\n",
       "      <td>0</td>\n",
       "      <td>0</td>\n",
       "      <td>0</td>\n",
       "      <td>0</td>\n",
       "      <td>5</td>\n",
       "      <td>0</td>\n",
       "    </tr>\n",
       "    <tr>\n",
       "      <th>...</th>\n",
       "      <td>...</td>\n",
       "      <td>...</td>\n",
       "      <td>...</td>\n",
       "      <td>...</td>\n",
       "      <td>...</td>\n",
       "      <td>...</td>\n",
       "      <td>...</td>\n",
       "      <td>...</td>\n",
       "      <td>...</td>\n",
       "      <td>...</td>\n",
       "      <td>...</td>\n",
       "    </tr>\n",
       "    <tr>\n",
       "      <th>1009</th>\n",
       "      <td>2022-10-27</td>\n",
       "      <td>36964789</td>\n",
       "      <td>35523412</td>\n",
       "      <td>44649088</td>\n",
       "      <td>7557134</td>\n",
       "      <td>23475187</td>\n",
       "      <td>21097662</td>\n",
       "      <td>13488015</td>\n",
       "      <td>16919638</td>\n",
       "      <td>97418396</td>\n",
       "      <td>24122642</td>\n",
       "    </tr>\n",
       "    <tr>\n",
       "      <th>1010</th>\n",
       "      <td>2022-10-28</td>\n",
       "      <td>36990572</td>\n",
       "      <td>35571130</td>\n",
       "      <td>44650662</td>\n",
       "      <td>7557240</td>\n",
       "      <td>23504224</td>\n",
       "      <td>21105179</td>\n",
       "      <td>13511768</td>\n",
       "      <td>16919638</td>\n",
       "      <td>97448572</td>\n",
       "      <td>24122909</td>\n",
       "    </tr>\n",
       "    <tr>\n",
       "      <th>1011</th>\n",
       "      <td>2022-10-29</td>\n",
       "      <td>36990572</td>\n",
       "      <td>35571130</td>\n",
       "      <td>44652256</td>\n",
       "      <td>7557364</td>\n",
       "      <td>23531023</td>\n",
       "      <td>21112216</td>\n",
       "      <td>13511768</td>\n",
       "      <td>16919638</td>\n",
       "      <td>97457553</td>\n",
       "      <td>24122909</td>\n",
       "    </tr>\n",
       "    <tr>\n",
       "      <th>1012</th>\n",
       "      <td>2022-10-30</td>\n",
       "      <td>36990572</td>\n",
       "      <td>35571131</td>\n",
       "      <td>44653592</td>\n",
       "      <td>7557437</td>\n",
       "      <td>23531023</td>\n",
       "      <td>21118937</td>\n",
       "      <td>13511768</td>\n",
       "      <td>16919638</td>\n",
       "      <td>97460811</td>\n",
       "      <td>24122909</td>\n",
       "    </tr>\n",
       "    <tr>\n",
       "      <th>1013</th>\n",
       "      <td>2022-10-31</td>\n",
       "      <td>37033519</td>\n",
       "      <td>35619687</td>\n",
       "      <td>44654638</td>\n",
       "      <td>7557650</td>\n",
       "      <td>23531023</td>\n",
       "      <td>21124658</td>\n",
       "      <td>13511768</td>\n",
       "      <td>16919638</td>\n",
       "      <td>97505486</td>\n",
       "      <td>24122922</td>\n",
       "    </tr>\n",
       "  </tbody>\n",
       "</table>\n",
       "<p>1014 rows × 11 columns</p>\n",
       "</div>"
      ],
      "text/plain": [
       "Country/Region       date    France   Germany     India     Iran     Italy  \\\n",
       "0              2020-01-22         0         0         0        0         0   \n",
       "1              2020-01-23         0         0         0        0         0   \n",
       "2              2020-01-24         2         0         0        0         0   \n",
       "3              2020-01-25         3         0         0        0         0   \n",
       "4              2020-01-26         3         0         0        0         0   \n",
       "...                   ...       ...       ...       ...      ...       ...   \n",
       "1009           2022-10-27  36964789  35523412  44649088  7557134  23475187   \n",
       "1010           2022-10-28  36990572  35571130  44650662  7557240  23504224   \n",
       "1011           2022-10-29  36990572  35571130  44652256  7557364  23531023   \n",
       "1012           2022-10-30  36990572  35571131  44653592  7557437  23531023   \n",
       "1013           2022-10-31  37033519  35619687  44654638  7557650  23531023   \n",
       "\n",
       "Country/Region    Russia     Spain    Turkey        US  United Kingdom  \n",
       "0                      0         0         0         1               0  \n",
       "1                      0         0         0         1               0  \n",
       "2                      0         0         0         2               0  \n",
       "3                      0         0         0         2               0  \n",
       "4                      0         0         0         5               0  \n",
       "...                  ...       ...       ...       ...             ...  \n",
       "1009            21097662  13488015  16919638  97418396        24122642  \n",
       "1010            21105179  13511768  16919638  97448572        24122909  \n",
       "1011            21112216  13511768  16919638  97457553        24122909  \n",
       "1012            21118937  13511768  16919638  97460811        24122909  \n",
       "1013            21124658  13511768  16919638  97505486        24122922  \n",
       "\n",
       "[1014 rows x 11 columns]"
      ]
     },
     "execution_count": 10,
     "metadata": {},
     "output_type": "execute_result"
    },
    {
     "data": {
      "application/javascript": [
       "\n",
       "            setTimeout(function() {\n",
       "                var nbb_cell_id = 10;\n",
       "                var nbb_unformatted_code = \"df = confirmed_df\\ndf.reset_index(level=0, inplace=True)\\ndf.rename(columns = {'index':'date'}, inplace = True)\\ndf.reset_index(drop=True, inplace=True)\\ndf\";\n",
       "                var nbb_formatted_code = \"df = confirmed_df\\ndf.reset_index(level=0, inplace=True)\\ndf.rename(columns={\\\"index\\\": \\\"date\\\"}, inplace=True)\\ndf.reset_index(drop=True, inplace=True)\\ndf\";\n",
       "                var nbb_cells = Jupyter.notebook.get_cells();\n",
       "                for (var i = 0; i < nbb_cells.length; ++i) {\n",
       "                    if (nbb_cells[i].input_prompt_number == nbb_cell_id) {\n",
       "                        if (nbb_cells[i].get_text() == nbb_unformatted_code) {\n",
       "                             nbb_cells[i].set_text(nbb_formatted_code);\n",
       "                        }\n",
       "                        break;\n",
       "                    }\n",
       "                }\n",
       "            }, 500);\n",
       "            "
      ],
      "text/plain": [
       "<IPython.core.display.Javascript object>"
      ]
     },
     "metadata": {},
     "output_type": "display_data"
    }
   ],
   "source": [
    "df = confirmed_df\n",
    "df.reset_index(level=0, inplace=True)\n",
    "df.rename(columns={\"index\": \"date\"}, inplace=True)\n",
    "df.reset_index(drop=True, inplace=True)\n",
    "df"
   ]
  },
  {
   "cell_type": "code",
   "execution_count": 11,
   "id": "ff43a12a",
   "metadata": {},
   "outputs": [
    {
     "data": {
      "application/javascript": [
       "\n",
       "            setTimeout(function() {\n",
       "                var nbb_cell_id = 11;\n",
       "                var nbb_unformatted_code = \"df = pd.DataFrame((df[\\\"India\\\"].to_numpy()), columns={\\\"cases\\\"})\\ndf.shape\\ndf = df.transform(\\\"sqrt\\\")\";\n",
       "                var nbb_formatted_code = \"df = pd.DataFrame((df[\\\"India\\\"].to_numpy()), columns={\\\"cases\\\"})\\ndf.shape\\ndf = df.transform(\\\"sqrt\\\")\";\n",
       "                var nbb_cells = Jupyter.notebook.get_cells();\n",
       "                for (var i = 0; i < nbb_cells.length; ++i) {\n",
       "                    if (nbb_cells[i].input_prompt_number == nbb_cell_id) {\n",
       "                        if (nbb_cells[i].get_text() == nbb_unformatted_code) {\n",
       "                             nbb_cells[i].set_text(nbb_formatted_code);\n",
       "                        }\n",
       "                        break;\n",
       "                    }\n",
       "                }\n",
       "            }, 500);\n",
       "            "
      ],
      "text/plain": [
       "<IPython.core.display.Javascript object>"
      ]
     },
     "metadata": {},
     "output_type": "display_data"
    }
   ],
   "source": [
    "df = pd.DataFrame((df[\"India\"].to_numpy()), columns={\"cases\"})\n",
    "df.shape\n",
    "df = df.transform(\"sqrt\")"
   ]
  },
  {
   "cell_type": "code",
   "execution_count": 12,
   "id": "7d6df0c7",
   "metadata": {},
   "outputs": [
    {
     "data": {
      "text/plain": [
       "Text(0, 0.5, 'Cases')"
      ]
     },
     "execution_count": 12,
     "metadata": {},
     "output_type": "execute_result"
    },
    {
     "data": {
      "image/png": "[encoded data removed]",
      "text/plain": [
       "<Figure size 1800x1200 with 1 Axes>"
      ]
     },
     "metadata": {
      "needs_background": "light"
     },
     "output_type": "display_data"
    },
    {
     "data": {
      "application/javascript": [
       "\n",
       "            setTimeout(function() {\n",
       "                var nbb_cell_id = 12;\n",
       "                var nbb_unformatted_code = \"plt.plot(df)\\nplt.xlabel(\\\"Days\\\")\\nplt.ylabel(\\\"Cases\\\")\";\n",
       "                var nbb_formatted_code = \"plt.plot(df)\\nplt.xlabel(\\\"Days\\\")\\nplt.ylabel(\\\"Cases\\\")\";\n",
       "                var nbb_cells = Jupyter.notebook.get_cells();\n",
       "                for (var i = 0; i < nbb_cells.length; ++i) {\n",
       "                    if (nbb_cells[i].input_prompt_number == nbb_cell_id) {\n",
       "                        if (nbb_cells[i].get_text() == nbb_unformatted_code) {\n",
       "                             nbb_cells[i].set_text(nbb_formatted_code);\n",
       "                        }\n",
       "                        break;\n",
       "                    }\n",
       "                }\n",
       "            }, 500);\n",
       "            "
      ],
      "text/plain": [
       "<IPython.core.display.Javascript object>"
      ]
     },
     "metadata": {},
     "output_type": "display_data"
    }
   ],
   "source": [
    "plt.plot(df)\n",
    "plt.xlabel(\"Days\")\n",
    "plt.ylabel(\"Cases\")"
   ]
  },
  {
   "cell_type": "markdown",
   "id": "d6848401",
   "metadata": {},
   "source": [
    "## Train-Test Split"
   ]
  },
  {
   "cell_type": "code",
   "execution_count": 13,
   "id": "a94b543a",
   "metadata": {},
   "outputs": [
    {
     "data": {
      "application/javascript": [
       "\n",
       "            setTimeout(function() {\n",
       "                var nbb_cell_id = 13;\n",
       "                var nbb_unformatted_code = \"test_df = df[-100:]\\ntrain_df = df[:-100]\";\n",
       "                var nbb_formatted_code = \"test_df = df[-100:]\\ntrain_df = df[:-100]\";\n",
       "                var nbb_cells = Jupyter.notebook.get_cells();\n",
       "                for (var i = 0; i < nbb_cells.length; ++i) {\n",
       "                    if (nbb_cells[i].input_prompt_number == nbb_cell_id) {\n",
       "                        if (nbb_cells[i].get_text() == nbb_unformatted_code) {\n",
       "                             nbb_cells[i].set_text(nbb_formatted_code);\n",
       "                        }\n",
       "                        break;\n",
       "                    }\n",
       "                }\n",
       "            }, 500);\n",
       "            "
      ],
      "text/plain": [
       "<IPython.core.display.Javascript object>"
      ]
     },
     "metadata": {},
     "output_type": "display_data"
    }
   ],
   "source": [
    "test_df = df[-100:]\n",
    "train_df = df[:-100]"
   ]
  },
  {
   "cell_type": "code",
   "execution_count": 14,
   "id": "aac55c4f",
   "metadata": {},
   "outputs": [
    {
     "data": {
      "text/html": [
       "<style>#sk-container-id-1 {color: black;background-color: white;}#sk-container-id-1 pre{padding: 0;}#sk-container-id-1 div.sk-toggleable {background-color: white;}#sk-container-id-1 label.sk-toggleable__label {cursor: pointer;display: block;width: 100%;margin-bottom: 0;padding: 0.3em;box-sizing: border-box;text-align: center;}#sk-container-id-1 label.sk-toggleable__label-arrow:before {content: \"▸\";float: left;margin-right: 0.25em;color: #696969;}#sk-container-id-1 label.sk-toggleable__label-arrow:hover:before {color: black;}#sk-container-id-1 div.sk-estimator:hover label.sk-toggleable__label-arrow:before {color: black;}#sk-container-id-1 div.sk-toggleable__content {max-height: 0;max-width: 0;overflow: hidden;text-align: left;background-color: #f0f8ff;}#sk-container-id-1 div.sk-toggleable__content pre {margin: 0.2em;color: black;border-radius: 0.25em;background-color: #f0f8ff;}#sk-container-id-1 input.sk-toggleable__control:checked~div.sk-toggleable__content {max-height: 200px;max-width: 100%;overflow: auto;}#sk-container-id-1 input.sk-toggleable__control:checked~label.sk-toggleable__label-arrow:before {content: \"▾\";}#sk-container-id-1 div.sk-estimator input.sk-toggleable__control:checked~label.sk-toggleable__label {background-color: #d4ebff;}#sk-container-id-1 div.sk-label input.sk-toggleable__control:checked~label.sk-toggleable__label {background-color: #d4ebff;}#sk-container-id-1 input.sk-hidden--visually {border: 0;clip: rect(1px 1px 1px 1px);clip: rect(1px, 1px, 1px, 1px);height: 1px;margin: -1px;overflow: hidden;padding: 0;position: absolute;width: 1px;}#sk-container-id-1 div.sk-estimator {font-family: monospace;background-color: #f0f8ff;border: 1px dotted black;border-radius: 0.25em;box-sizing: border-box;margin-bottom: 0.5em;}#sk-container-id-1 div.sk-estimator:hover {background-color: #d4ebff;}#sk-container-id-1 div.sk-parallel-item::after {content: \"\";width: 100%;border-bottom: 1px solid gray;flex-grow: 1;}#sk-container-id-1 div.sk-label:hover label.sk-toggleable__label {background-color: #d4ebff;}#sk-container-id-1 div.sk-serial::before {content: \"\";position: absolute;border-left: 1px solid gray;box-sizing: border-box;top: 0;bottom: 0;left: 50%;z-index: 0;}#sk-container-id-1 div.sk-serial {display: flex;flex-direction: column;align-items: center;background-color: white;padding-right: 0.2em;padding-left: 0.2em;position: relative;}#sk-container-id-1 div.sk-item {position: relative;z-index: 1;}#sk-container-id-1 div.sk-parallel {display: flex;align-items: stretch;justify-content: center;background-color: white;position: relative;}#sk-container-id-1 div.sk-item::before, #sk-container-id-1 div.sk-parallel-item::before {content: \"\";position: absolute;border-left: 1px solid gray;box-sizing: border-box;top: 0;bottom: 0;left: 50%;z-index: -1;}#sk-container-id-1 div.sk-parallel-item {display: flex;flex-direction: column;z-index: 1;position: relative;background-color: white;}#sk-container-id-1 div.sk-parallel-item:first-child::after {align-self: flex-end;width: 50%;}#sk-container-id-1 div.sk-parallel-item:last-child::after {align-self: flex-start;width: 50%;}#sk-container-id-1 div.sk-parallel-item:only-child::after {width: 0;}#sk-container-id-1 div.sk-dashed-wrapped {border: 1px dashed gray;margin: 0 0.4em 0.5em 0.4em;box-sizing: border-box;padding-bottom: 0.4em;background-color: white;}#sk-container-id-1 div.sk-label label {font-family: monospace;font-weight: bold;display: inline-block;line-height: 1.2em;}#sk-container-id-1 div.sk-label-container {text-align: center;}#sk-container-id-1 div.sk-container {/* jupyter's `normalize.less` sets `[hidden] { display: none; }` but bootstrap.min.css set `[hidden] { display: none !important; }` so we also need the `!important` here to be able to override the default hidden behavior on the sphinx rendered scikit-learn.org. See: https://github.com/scikit-learn/scikit-learn/issues/21755 */display: inline-block !important;position: relative;}#sk-container-id-1 div.sk-text-repr-fallback {display: none;}</style><div id=\"sk-container-id-1\" class=\"sk-top-container\"><div class=\"sk-text-repr-fallback\"><pre>MinMaxScaler()</pre><b>In a Jupyter environment, please rerun this cell to show the HTML representation or trust the notebook. <br />On GitHub, the HTML representation is unable to render, please try loading this page with nbviewer.org.</b></div><div class=\"sk-container\" hidden><div class=\"sk-item\"><div class=\"sk-estimator sk-toggleable\"><input class=\"sk-toggleable__control sk-hidden--visually\" id=\"sk-estimator-id-1\" type=\"checkbox\" checked><label for=\"sk-estimator-id-1\" class=\"sk-toggleable__label sk-toggleable__label-arrow\">MinMaxScaler</label><div class=\"sk-toggleable__content\"><pre>MinMaxScaler()</pre></div></div></div></div></div>"
      ],
      "text/plain": [
       "MinMaxScaler()"
      ]
     },
     "execution_count": 14,
     "metadata": {},
     "output_type": "execute_result"
    },
    {
     "data": {
      "application/javascript": [
       "\n",
       "            setTimeout(function() {\n",
       "                var nbb_cell_id = 14;\n",
       "                var nbb_unformatted_code = \"scaler = MinMaxScaler(feature_range=(0, 1))\\nscaler.fit(train_df)\";\n",
       "                var nbb_formatted_code = \"scaler = MinMaxScaler(feature_range=(0, 1))\\nscaler.fit(train_df)\";\n",
       "                var nbb_cells = Jupyter.notebook.get_cells();\n",
       "                for (var i = 0; i < nbb_cells.length; ++i) {\n",
       "                    if (nbb_cells[i].input_prompt_number == nbb_cell_id) {\n",
       "                        if (nbb_cells[i].get_text() == nbb_unformatted_code) {\n",
       "                             nbb_cells[i].set_text(nbb_formatted_code);\n",
       "                        }\n",
       "                        break;\n",
       "                    }\n",
       "                }\n",
       "            }, 500);\n",
       "            "
      ],
      "text/plain": [
       "<IPython.core.display.Javascript object>"
      ]
     },
     "metadata": {},
     "output_type": "display_data"
    }
   ],
   "source": [
    "scaler = MinMaxScaler(feature_range=(0, 1))\n",
    "scaler.fit(train_df)"
   ]
  },
  {
   "cell_type": "markdown",
   "id": "c2347f18",
   "metadata": {},
   "source": [
    "## Artificial Neural Networks"
   ]
  },
  {
   "cell_type": "markdown",
   "id": "7a5e5174",
   "metadata": {},
   "source": [
    "### Functions\n"
   ]
  },
  {
   "cell_type": "code",
   "execution_count": 15,
   "id": "ebe6d013",
   "metadata": {},
   "outputs": [
    {
     "data": {
      "application/javascript": [
       "\n",
       "            setTimeout(function() {\n",
       "                var nbb_cell_id = 15;\n",
       "                var nbb_unformatted_code = \"def mean_absolute_percentage_error(y_true, y_pred):\\n    y_true, y_pred = np.array(y_true), np.array(y_pred)\\n    return np.mean(np.abs((y_true - y_pred) / y_true)) * 100\\n\\n\\ndef root_mean_squared_error(y_true, y_pred):\\n    mse = mean_squared_error(y_true, y_pred)\\n    rmse = np.sqrt(mse)\\n    return rmse\";\n",
       "                var nbb_formatted_code = \"def mean_absolute_percentage_error(y_true, y_pred):\\n    y_true, y_pred = np.array(y_true), np.array(y_pred)\\n    return np.mean(np.abs((y_true - y_pred) / y_true)) * 100\\n\\n\\ndef root_mean_squared_error(y_true, y_pred):\\n    mse = mean_squared_error(y_true, y_pred)\\n    rmse = np.sqrt(mse)\\n    return rmse\";\n",
       "                var nbb_cells = Jupyter.notebook.get_cells();\n",
       "                for (var i = 0; i < nbb_cells.length; ++i) {\n",
       "                    if (nbb_cells[i].input_prompt_number == nbb_cell_id) {\n",
       "                        if (nbb_cells[i].get_text() == nbb_unformatted_code) {\n",
       "                             nbb_cells[i].set_text(nbb_formatted_code);\n",
       "                        }\n",
       "                        break;\n",
       "                    }\n",
       "                }\n",
       "            }, 500);\n",
       "            "
      ],
      "text/plain": [
       "<IPython.core.display.Javascript object>"
      ]
     },
     "metadata": {},
     "output_type": "display_data"
    }
   ],
   "source": [
    "def mean_absolute_percentage_error(y_true, y_pred):\n",
    "    y_true, y_pred = np.array(y_true), np.array(y_pred)\n",
    "    return np.mean(np.abs((y_true - y_pred) / y_true)) * 100\n",
    "\n",
    "\n",
    "def root_mean_squared_error(y_true, y_pred):\n",
    "    mse = mean_squared_error(y_true, y_pred)\n",
    "    rmse = np.sqrt(mse)\n",
    "    return rmse"
   ]
  },
  {
   "cell_type": "code",
   "execution_count": 16,
   "id": "eaf8d3e4",
   "metadata": {},
   "outputs": [
    {
     "data": {
      "application/javascript": [
       "\n",
       "            setTimeout(function() {\n",
       "                var nbb_cell_id = 16;\n",
       "                var nbb_unformatted_code = \"def calculate_performance(y_true, y_pred):\\n    mse = mean_squared_error(y_true, y_pred)\\n    mae = mean_absolute_error(y_true, y_pred)\\n    mape = mean_absolute_percentage_error(y_true, y_pred)\\n    rmse = root_mean_squared_error(y_true, y_pred)\\n    return round(mse, 3), round(mae, 3), round(mape, 3), round(rmse, 3)\";\n",
       "                var nbb_formatted_code = \"def calculate_performance(y_true, y_pred):\\n    mse = mean_squared_error(y_true, y_pred)\\n    mae = mean_absolute_error(y_true, y_pred)\\n    mape = mean_absolute_percentage_error(y_true, y_pred)\\n    rmse = root_mean_squared_error(y_true, y_pred)\\n    return round(mse, 3), round(mae, 3), round(mape, 3), round(rmse, 3)\";\n",
       "                var nbb_cells = Jupyter.notebook.get_cells();\n",
       "                for (var i = 0; i < nbb_cells.length; ++i) {\n",
       "                    if (nbb_cells[i].input_prompt_number == nbb_cell_id) {\n",
       "                        if (nbb_cells[i].get_text() == nbb_unformatted_code) {\n",
       "                             nbb_cells[i].set_text(nbb_formatted_code);\n",
       "                        }\n",
       "                        break;\n",
       "                    }\n",
       "                }\n",
       "            }, 500);\n",
       "            "
      ],
      "text/plain": [
       "<IPython.core.display.Javascript object>"
      ]
     },
     "metadata": {},
     "output_type": "display_data"
    }
   ],
   "source": [
    "def calculate_performance(y_true, y_pred):\n",
    "    mse = mean_squared_error(y_true, y_pred)\n",
    "    mae = mean_absolute_error(y_true, y_pred)\n",
    "    mape = mean_absolute_percentage_error(y_true, y_pred)\n",
    "    rmse = root_mean_squared_error(y_true, y_pred)\n",
    "    return round(mse, 3), round(mae, 3), round(mape, 3), round(rmse, 3)"
   ]
  },
  {
   "cell_type": "code",
   "execution_count": 17,
   "id": "51490b31",
   "metadata": {},
   "outputs": [
    {
     "data": {
      "application/javascript": [
       "\n",
       "            setTimeout(function() {\n",
       "                var nbb_cell_id = 17;\n",
       "                var nbb_unformatted_code = \"def plot_keras_model(model, show_shapes=True, show_layer_names=True):\\n    return SVG(\\n        model_to_dot(\\n            model, show_shapes=show_shapes, show_layer_names=show_layer_names\\n        ).create(prog=\\\"dot\\\", format=\\\"svg\\\")\\n    )\";\n",
       "                var nbb_formatted_code = \"def plot_keras_model(model, show_shapes=True, show_layer_names=True):\\n    return SVG(\\n        model_to_dot(\\n            model, show_shapes=show_shapes, show_layer_names=show_layer_names\\n        ).create(prog=\\\"dot\\\", format=\\\"svg\\\")\\n    )\";\n",
       "                var nbb_cells = Jupyter.notebook.get_cells();\n",
       "                for (var i = 0; i < nbb_cells.length; ++i) {\n",
       "                    if (nbb_cells[i].input_prompt_number == nbb_cell_id) {\n",
       "                        if (nbb_cells[i].get_text() == nbb_unformatted_code) {\n",
       "                             nbb_cells[i].set_text(nbb_formatted_code);\n",
       "                        }\n",
       "                        break;\n",
       "                    }\n",
       "                }\n",
       "            }, 500);\n",
       "            "
      ],
      "text/plain": [
       "<IPython.core.display.Javascript object>"
      ]
     },
     "metadata": {},
     "output_type": "display_data"
    }
   ],
   "source": [
    "def plot_keras_model(model, show_shapes=True, show_layer_names=True):\n",
    "    return SVG(\n",
    "        model_to_dot(\n",
    "            model, show_shapes=show_shapes, show_layer_names=show_layer_names\n",
    "        ).create(prog=\"dot\", format=\"svg\")\n",
    "    )"
   ]
  },
  {
   "cell_type": "code",
   "execution_count": 18,
   "id": "2a6d4674",
   "metadata": {},
   "outputs": [
    {
     "data": {
      "application/javascript": [
       "\n",
       "            setTimeout(function() {\n",
       "                var nbb_cell_id = 18;\n",
       "                var nbb_unformatted_code = \"def get_combinations(parameters):\\n    return list(itertools.product(*parameters))\";\n",
       "                var nbb_formatted_code = \"def get_combinations(parameters):\\n    return list(itertools.product(*parameters))\";\n",
       "                var nbb_cells = Jupyter.notebook.get_cells();\n",
       "                for (var i = 0; i < nbb_cells.length; ++i) {\n",
       "                    if (nbb_cells[i].input_prompt_number == nbb_cell_id) {\n",
       "                        if (nbb_cells[i].get_text() == nbb_unformatted_code) {\n",
       "                             nbb_cells[i].set_text(nbb_formatted_code);\n",
       "                        }\n",
       "                        break;\n",
       "                    }\n",
       "                }\n",
       "            }, 500);\n",
       "            "
      ],
      "text/plain": [
       "<IPython.core.display.Javascript object>"
      ]
     },
     "metadata": {},
     "output_type": "display_data"
    }
   ],
   "source": [
    "def get_combinations(parameters):\n",
    "    return list(itertools.product(*parameters))\n"
   ]
  },
  {
   "cell_type": "code",
   "execution_count": 19,
   "id": "c6954b55",
   "metadata": {},
   "outputs": [
    {
     "data": {
      "application/javascript": [
       "\n",
       "            setTimeout(function() {\n",
       "                var nbb_cell_id = 19;\n",
       "                var nbb_unformatted_code = \"def create_NN(input_nodes, hidden_nodes, output_nodes):\\n    model = Sequential()\\n    model.add(Dense(int(hidden_nodes), input_dim=int(input_nodes)))\\n    model.add(Dense(int(output_nodes)))\\n    model.compile(loss=\\\"mean_squared_error\\\", optimizer=\\\"adam\\\")\\n    return model\";\n",
       "                var nbb_formatted_code = \"def create_NN(input_nodes, hidden_nodes, output_nodes):\\n    model = Sequential()\\n    model.add(Dense(int(hidden_nodes), input_dim=int(input_nodes)))\\n    model.add(Dense(int(output_nodes)))\\n    model.compile(loss=\\\"mean_squared_error\\\", optimizer=\\\"adam\\\")\\n    return model\";\n",
       "                var nbb_cells = Jupyter.notebook.get_cells();\n",
       "                for (var i = 0; i < nbb_cells.length; ++i) {\n",
       "                    if (nbb_cells[i].input_prompt_number == nbb_cell_id) {\n",
       "                        if (nbb_cells[i].get_text() == nbb_unformatted_code) {\n",
       "                             nbb_cells[i].set_text(nbb_formatted_code);\n",
       "                        }\n",
       "                        break;\n",
       "                    }\n",
       "                }\n",
       "            }, 500);\n",
       "            "
      ],
      "text/plain": [
       "<IPython.core.display.Javascript object>"
      ]
     },
     "metadata": {},
     "output_type": "display_data"
    }
   ],
   "source": [
    "def create_NN(input_nodes, hidden_nodes, output_nodes):\n",
    "    model = Sequential()\n",
    "    model.add(Dense(int(hidden_nodes), input_dim=int(input_nodes)))\n",
    "    model.add(Dense(int(output_nodes)))\n",
    "    model.compile(loss=\"mean_squared_error\", optimizer=\"adam\")\n",
    "    return model"
   ]
  },
  {
   "cell_type": "markdown",
   "id": "957ea421",
   "metadata": {},
   "source": [
    "### Train Model"
   ]
  },
  {
   "cell_type": "code",
   "execution_count": 20,
   "id": "40bf7cc7",
   "metadata": {},
   "outputs": [
    {
     "data": {
      "application/javascript": [
       "\n",
       "            setTimeout(function() {\n",
       "                var nbb_cell_id = 20;\n",
       "                var nbb_unformatted_code = \"def train_model(model, X_train, y_train, epochs, batch_size):\\n    model.fit(\\n        X_train, y_train, epochs=epochs, batch_size=batch_size, verbose=0, shuffle=True\\n    )\\n    return model\";\n",
       "                var nbb_formatted_code = \"def train_model(model, X_train, y_train, epochs, batch_size):\\n    model.fit(\\n        X_train, y_train, epochs=epochs, batch_size=batch_size, verbose=0, shuffle=True\\n    )\\n    return model\";\n",
       "                var nbb_cells = Jupyter.notebook.get_cells();\n",
       "                for (var i = 0; i < nbb_cells.length; ++i) {\n",
       "                    if (nbb_cells[i].input_prompt_number == nbb_cell_id) {\n",
       "                        if (nbb_cells[i].get_text() == nbb_unformatted_code) {\n",
       "                             nbb_cells[i].set_text(nbb_formatted_code);\n",
       "                        }\n",
       "                        break;\n",
       "                    }\n",
       "                }\n",
       "            }, 500);\n",
       "            "
      ],
      "text/plain": [
       "<IPython.core.display.Javascript object>"
      ]
     },
     "metadata": {},
     "output_type": "display_data"
    }
   ],
   "source": [
    "def train_model(model, X_train, y_train, epochs, batch_size):\n",
    "    model.fit(\n",
    "        X_train, y_train, epochs=epochs, batch_size=batch_size, verbose=0, shuffle=True\n",
    "    )\n",
    "    return model"
   ]
  },
  {
   "cell_type": "code",
   "execution_count": 21,
   "id": "424a117d",
   "metadata": {},
   "outputs": [
    {
     "data": {
      "application/javascript": [
       "\n",
       "            setTimeout(function() {\n",
       "                var nbb_cell_id = 21;\n",
       "                var nbb_unformatted_code = \"def reshape_arrays(X_train, y_train):\\n    X_train = np.array(X_train)\\n    y_train = np.reshape(y_train, (len(y_train), 1))\\n    return X_train, y_train\";\n",
       "                var nbb_formatted_code = \"def reshape_arrays(X_train, y_train):\\n    X_train = np.array(X_train)\\n    y_train = np.reshape(y_train, (len(y_train), 1))\\n    return X_train, y_train\";\n",
       "                var nbb_cells = Jupyter.notebook.get_cells();\n",
       "                for (var i = 0; i < nbb_cells.length; ++i) {\n",
       "                    if (nbb_cells[i].input_prompt_number == nbb_cell_id) {\n",
       "                        if (nbb_cells[i].get_text() == nbb_unformatted_code) {\n",
       "                             nbb_cells[i].set_text(nbb_formatted_code);\n",
       "                        }\n",
       "                        break;\n",
       "                    }\n",
       "                }\n",
       "            }, 500);\n",
       "            "
      ],
      "text/plain": [
       "<IPython.core.display.Javascript object>"
      ]
     },
     "metadata": {},
     "output_type": "display_data"
    }
   ],
   "source": [
    "def reshape_arrays(X_train, y_train):\n",
    "    X_train = np.array(X_train)\n",
    "    y_train = np.reshape(y_train, (len(y_train), 1))\n",
    "    return X_train, y_train"
   ]
  },
  {
   "cell_type": "markdown",
   "id": "54547462",
   "metadata": {},
   "source": [
    "## Feed Forward ANN"
   ]
  },
  {
   "cell_type": "markdown",
   "id": "66a8d752",
   "metadata": {},
   "source": [
    "### Data Preprocessing"
   ]
  },
  {
   "cell_type": "code",
   "execution_count": 22,
   "id": "5aa989c7",
   "metadata": {},
   "outputs": [
    {
     "data": {
      "application/javascript": [
       "\n",
       "            setTimeout(function() {\n",
       "                var nbb_cell_id = 22;\n",
       "                var nbb_unformatted_code = \"def preprocess_FNN(data, look_back):\\n    data = np.array(data)[:, 0]\\n    X_train = []\\n    y_train = []\\n    for i in range(data.shape[0] - look_back):\\n        x = data[i : look_back + i][::-1]\\n        y = data[look_back + i]\\n        X_train.append(list(x))\\n        y_train.append(y)\\n    input_seq_for_test = data[i + 1 : look_back + i + 1][::-1]\\n    return X_train, y_train, input_seq_for_test\";\n",
       "                var nbb_formatted_code = \"def preprocess_FNN(data, look_back):\\n    data = np.array(data)[:, 0]\\n    X_train = []\\n    y_train = []\\n    for i in range(data.shape[0] - look_back):\\n        x = data[i : look_back + i][::-1]\\n        y = data[look_back + i]\\n        X_train.append(list(x))\\n        y_train.append(y)\\n    input_seq_for_test = data[i + 1 : look_back + i + 1][::-1]\\n    return X_train, y_train, input_seq_for_test\";\n",
       "                var nbb_cells = Jupyter.notebook.get_cells();\n",
       "                for (var i = 0; i < nbb_cells.length; ++i) {\n",
       "                    if (nbb_cells[i].input_prompt_number == nbb_cell_id) {\n",
       "                        if (nbb_cells[i].get_text() == nbb_unformatted_code) {\n",
       "                             nbb_cells[i].set_text(nbb_formatted_code);\n",
       "                        }\n",
       "                        break;\n",
       "                    }\n",
       "                }\n",
       "            }, 500);\n",
       "            "
      ],
      "text/plain": [
       "<IPython.core.display.Javascript object>"
      ]
     },
     "metadata": {},
     "output_type": "display_data"
    }
   ],
   "source": [
    "def preprocess_FNN(data, look_back):\n",
    "    data = np.array(data)[:, 0]\n",
    "    X_train = []\n",
    "    y_train = []\n",
    "    for i in range(data.shape[0] - look_back):\n",
    "        x = data[i : look_back + i][::-1]\n",
    "        y = data[look_back + i]\n",
    "        X_train.append(list(x))\n",
    "        y_train.append(y)\n",
    "    input_seq_for_test = data[i + 1 : look_back + i + 1][::-1]\n",
    "    return X_train, y_train, input_seq_for_test"
   ]
  },
  {
   "cell_type": "markdown",
   "id": "850d10dc",
   "metadata": {},
   "source": [
    "### Feed Forward ANN Forecast"
   ]
  },
  {
   "cell_type": "code",
   "execution_count": 23,
   "id": "3fbfb499",
   "metadata": {},
   "outputs": [
    {
     "data": {
      "application/javascript": [
       "\n",
       "            setTimeout(function() {\n",
       "                var nbb_cell_id = 23;\n",
       "                var nbb_unformatted_code = \"def forecast_FNN(model, input_sequence, future_steps):\\n    forecasted_values = []\\n    for i in range(future_steps):\\n        forecasted_value = model.predict(input_sequence)\\n        forecasted_values.append(forecasted_value[0][0])\\n        input_sequence[0] = np.append(forecasted_value, input_sequence[0][:-1])\\n    return forecasted_values\";\n",
       "                var nbb_formatted_code = \"def forecast_FNN(model, input_sequence, future_steps):\\n    forecasted_values = []\\n    for i in range(future_steps):\\n        forecasted_value = model.predict(input_sequence)\\n        forecasted_values.append(forecasted_value[0][0])\\n        input_sequence[0] = np.append(forecasted_value, input_sequence[0][:-1])\\n    return forecasted_values\";\n",
       "                var nbb_cells = Jupyter.notebook.get_cells();\n",
       "                for (var i = 0; i < nbb_cells.length; ++i) {\n",
       "                    if (nbb_cells[i].input_prompt_number == nbb_cell_id) {\n",
       "                        if (nbb_cells[i].get_text() == nbb_unformatted_code) {\n",
       "                             nbb_cells[i].set_text(nbb_formatted_code);\n",
       "                        }\n",
       "                        break;\n",
       "                    }\n",
       "                }\n",
       "            }, 500);\n",
       "            "
      ],
      "text/plain": [
       "<IPython.core.display.Javascript object>"
      ]
     },
     "metadata": {},
     "output_type": "display_data"
    }
   ],
   "source": [
    "def forecast_FNN(model, input_sequence, future_steps):\n",
    "    forecasted_values = []\n",
    "    for i in range(future_steps):\n",
    "        forecasted_value = model.predict(input_sequence)\n",
    "        forecasted_values.append(forecasted_value[0][0])\n",
    "        input_sequence[0] = np.append(forecasted_value, input_sequence[0][:-1])\n",
    "    return forecasted_values"
   ]
  },
  {
   "cell_type": "markdown",
   "id": "b9a5ec29",
   "metadata": {},
   "source": [
    "### Feed Forward Network"
   ]
  },
  {
   "cell_type": "code",
   "execution_count": 24,
   "id": "97ccdd0a",
   "metadata": {},
   "outputs": [
    {
     "data": {
      "application/javascript": [
       "\n",
       "            setTimeout(function() {\n",
       "                var nbb_cell_id = 24;\n",
       "                var nbb_unformatted_code = \"def FNN(\\n    data,\\n    look_back,\\n    hidden_nodes,\\n    output_nodes,\\n    epochs,\\n    batch_size,\\n    future_steps,\\n    scaler,\\n):\\n    data = scaler.transform(data)\\n    X_train, y_train, input_seq_for_test_FNN = preprocess_FNN(data, look_back)\\n    X_train, y_train = reshape_arrays(X_train, y_train)\\n\\n    model_FNN = create_NN(\\n        input_nodes=look_back, hidden_nodes=hidden_nodes, output_nodes=output_nodes\\n    )\\n    model_FNN = train_model(model_FNN, X_train, y_train, epochs, batch_size)\\n\\n    input_seq_for_test_FNN = np.reshape(\\n        input_seq_for_test_FNN, (1, len(input_seq_for_test_FNN))\\n    )\\n    forecasted_values_FNN = forecast_FNN(\\n        model_FNN, input_sequence=input_seq_for_test_FNN, future_steps=future_steps\\n    )\\n\\n    forecasted_values_FNN = list(scaler.inverse_transform([forecasted_values_FNN])[0])\\n\\n    return model_FNN, forecasted_values_FNN\";\n",
       "                var nbb_formatted_code = \"def FNN(\\n    data,\\n    look_back,\\n    hidden_nodes,\\n    output_nodes,\\n    epochs,\\n    batch_size,\\n    future_steps,\\n    scaler,\\n):\\n    data = scaler.transform(data)\\n    X_train, y_train, input_seq_for_test_FNN = preprocess_FNN(data, look_back)\\n    X_train, y_train = reshape_arrays(X_train, y_train)\\n\\n    model_FNN = create_NN(\\n        input_nodes=look_back, hidden_nodes=hidden_nodes, output_nodes=output_nodes\\n    )\\n    model_FNN = train_model(model_FNN, X_train, y_train, epochs, batch_size)\\n\\n    input_seq_for_test_FNN = np.reshape(\\n        input_seq_for_test_FNN, (1, len(input_seq_for_test_FNN))\\n    )\\n    forecasted_values_FNN = forecast_FNN(\\n        model_FNN, input_sequence=input_seq_for_test_FNN, future_steps=future_steps\\n    )\\n\\n    forecasted_values_FNN = list(scaler.inverse_transform([forecasted_values_FNN])[0])\\n\\n    return model_FNN, forecasted_values_FNN\";\n",
       "                var nbb_cells = Jupyter.notebook.get_cells();\n",
       "                for (var i = 0; i < nbb_cells.length; ++i) {\n",
       "                    if (nbb_cells[i].input_prompt_number == nbb_cell_id) {\n",
       "                        if (nbb_cells[i].get_text() == nbb_unformatted_code) {\n",
       "                             nbb_cells[i].set_text(nbb_formatted_code);\n",
       "                        }\n",
       "                        break;\n",
       "                    }\n",
       "                }\n",
       "            }, 500);\n",
       "            "
      ],
      "text/plain": [
       "<IPython.core.display.Javascript object>"
      ]
     },
     "metadata": {},
     "output_type": "display_data"
    }
   ],
   "source": [
    "def FNN(\n",
    "    data,\n",
    "    look_back,\n",
    "    hidden_nodes,\n",
    "    output_nodes,\n",
    "    epochs,\n",
    "    batch_size,\n",
    "    future_steps,\n",
    "    scaler,\n",
    "):\n",
    "    data = scaler.transform(data)\n",
    "    X_train, y_train, input_seq_for_test_FNN = preprocess_FNN(data, look_back)\n",
    "    X_train, y_train = reshape_arrays(X_train, y_train)\n",
    "\n",
    "    model_FNN = create_NN(\n",
    "        input_nodes=look_back, hidden_nodes=hidden_nodes, output_nodes=output_nodes\n",
    "    )\n",
    "    model_FNN = train_model(model_FNN, X_train, y_train, epochs, batch_size)\n",
    "\n",
    "    input_seq_for_test_FNN = np.reshape(\n",
    "        input_seq_for_test_FNN, (1, len(input_seq_for_test_FNN))\n",
    "    )\n",
    "    forecasted_values_FNN = forecast_FNN(\n",
    "        model_FNN, input_sequence=input_seq_for_test_FNN, future_steps=future_steps\n",
    "    )\n",
    "\n",
    "    forecasted_values_FNN = list(scaler.inverse_transform([forecasted_values_FNN])[0])\n",
    "\n",
    "    return model_FNN, forecasted_values_FNN"
   ]
  },
  {
   "cell_type": "markdown",
   "id": "de58b68f",
   "metadata": {},
   "source": [
    "### FNN scores"
   ]
  },
  {
   "cell_type": "code",
   "execution_count": 25,
   "id": "0c5f4b3e",
   "metadata": {},
   "outputs": [
    {
     "data": {
      "application/javascript": [
       "\n",
       "            setTimeout(function() {\n",
       "                var nbb_cell_id = 25;\n",
       "                var nbb_unformatted_code = \"def get_accuracies_FNN(rainfall_data, test_rainfall_data, parameters, scaler):\\n    combination_of_params = get_combinations(parameters)\\n    information_FNN = []\\n    iterator = 0\\n    print(\\\"FNN - Number of combinations: \\\" + str(len(combination_of_params)))\\n\\n    for param in combination_of_params:\\n        if (iterator + 1) != len(combination_of_params):\\n            print(iterator + 1, end=\\\" -> \\\")\\n        else:\\n            print(iterator + 1)\\n        iterator = iterator + 1\\n\\n        look_back = param[0]\\n        hidden_nodes = param[1]\\n        output_nodes = param[2]\\n        epochs = param[3]\\n        batch_size = param[4]\\n        future_steps = param[5]\\n\\n        model_FNN, forecasted_values_FNN = FNN(\\n            rainfall_data,\\n            look_back,\\n            hidden_nodes,\\n            output_nodes,\\n            epochs,\\n            batch_size,\\n            future_steps,\\n            scaler,\\n        )\\n\\n        y_true = test_rainfall_data.iloc[:future_steps]\\n        mse, mae, mape, rmse = calculate_performance(y_true, forecasted_values_FNN)\\n\\n        info = list(param) + [mse, mae, rmse] + forecasted_values_FNN\\n        information_FNN.append(info)\\n\\n    information_FNN_df = pd.DataFrame(information_FNN)\\n    indexes = [str(i) for i in list(range(1, future_steps + 1))]\\n    information_FNN_df.columns = [\\n        \\\"look_back\\\",\\n        \\\"hidden_nodes\\\",\\n        \\\"output_nodes\\\",\\n        \\\"epochs\\\",\\n        \\\"batch_size\\\",\\n        \\\"future_steps\\\",\\n        \\\"MSE\\\",\\n        \\\"MAE\\\",\\n        \\\"RMSE\\\",\\n    ] + indexes\\n    return information_FNN_df\";\n",
       "                var nbb_formatted_code = \"def get_accuracies_FNN(rainfall_data, test_rainfall_data, parameters, scaler):\\n    combination_of_params = get_combinations(parameters)\\n    information_FNN = []\\n    iterator = 0\\n    print(\\\"FNN - Number of combinations: \\\" + str(len(combination_of_params)))\\n\\n    for param in combination_of_params:\\n        if (iterator + 1) != len(combination_of_params):\\n            print(iterator + 1, end=\\\" -> \\\")\\n        else:\\n            print(iterator + 1)\\n        iterator = iterator + 1\\n\\n        look_back = param[0]\\n        hidden_nodes = param[1]\\n        output_nodes = param[2]\\n        epochs = param[3]\\n        batch_size = param[4]\\n        future_steps = param[5]\\n\\n        model_FNN, forecasted_values_FNN = FNN(\\n            rainfall_data,\\n            look_back,\\n            hidden_nodes,\\n            output_nodes,\\n            epochs,\\n            batch_size,\\n            future_steps,\\n            scaler,\\n        )\\n\\n        y_true = test_rainfall_data.iloc[:future_steps]\\n        mse, mae, mape, rmse = calculate_performance(y_true, forecasted_values_FNN)\\n\\n        info = list(param) + [mse, mae, rmse] + forecasted_values_FNN\\n        information_FNN.append(info)\\n\\n    information_FNN_df = pd.DataFrame(information_FNN)\\n    indexes = [str(i) for i in list(range(1, future_steps + 1))]\\n    information_FNN_df.columns = [\\n        \\\"look_back\\\",\\n        \\\"hidden_nodes\\\",\\n        \\\"output_nodes\\\",\\n        \\\"epochs\\\",\\n        \\\"batch_size\\\",\\n        \\\"future_steps\\\",\\n        \\\"MSE\\\",\\n        \\\"MAE\\\",\\n        \\\"RMSE\\\",\\n    ] + indexes\\n    return information_FNN_df\";\n",
       "                var nbb_cells = Jupyter.notebook.get_cells();\n",
       "                for (var i = 0; i < nbb_cells.length; ++i) {\n",
       "                    if (nbb_cells[i].input_prompt_number == nbb_cell_id) {\n",
       "                        if (nbb_cells[i].get_text() == nbb_unformatted_code) {\n",
       "                             nbb_cells[i].set_text(nbb_formatted_code);\n",
       "                        }\n",
       "                        break;\n",
       "                    }\n",
       "                }\n",
       "            }, 500);\n",
       "            "
      ],
      "text/plain": [
       "<IPython.core.display.Javascript object>"
      ]
     },
     "metadata": {},
     "output_type": "display_data"
    }
   ],
   "source": [
    "def get_accuracies_FNN(rainfall_data, test_rainfall_data, parameters, scaler):\n",
    "    combination_of_params = get_combinations(parameters)\n",
    "    information_FNN = []\n",
    "    iterator = 0\n",
    "    print(\"FNN - Number of combinations: \" + str(len(combination_of_params)))\n",
    "\n",
    "    for param in combination_of_params:\n",
    "        if (iterator + 1) != len(combination_of_params):\n",
    "            print(iterator + 1, end=\" -> \")\n",
    "        else:\n",
    "            print(iterator + 1)\n",
    "        iterator = iterator + 1\n",
    "\n",
    "        look_back = param[0]\n",
    "        hidden_nodes = param[1]\n",
    "        output_nodes = param[2]\n",
    "        epochs = param[3]\n",
    "        batch_size = param[4]\n",
    "        future_steps = param[5]\n",
    "\n",
    "        model_FNN, forecasted_values_FNN = FNN(\n",
    "            rainfall_data,\n",
    "            look_back,\n",
    "            hidden_nodes,\n",
    "            output_nodes,\n",
    "            epochs,\n",
    "            batch_size,\n",
    "            future_steps,\n",
    "            scaler,\n",
    "        )\n",
    "\n",
    "        y_true = test_rainfall_data.iloc[:future_steps]\n",
    "        mse, mae, mape, rmse = calculate_performance(y_true, forecasted_values_FNN)\n",
    "\n",
    "        info = list(param) + [mse, mae, rmse] + forecasted_values_FNN\n",
    "        information_FNN.append(info)\n",
    "\n",
    "    information_FNN_df = pd.DataFrame(information_FNN)\n",
    "    indexes = [str(i) for i in list(range(1, future_steps + 1))]\n",
    "    information_FNN_df.columns = [\n",
    "        \"look_back\",\n",
    "        \"hidden_nodes\",\n",
    "        \"output_nodes\",\n",
    "        \"epochs\",\n",
    "        \"batch_size\",\n",
    "        \"future_steps\",\n",
    "        \"MSE\",\n",
    "        \"MAE\",\n",
    "        \"RMSE\",\n",
    "    ] + indexes\n",
    "    return information_FNN_df"
   ]
  },
  {
   "cell_type": "markdown",
   "id": "8b02f931",
   "metadata": {},
   "source": [
    "### Analyze the test data and forecasted data"
   ]
  },
  {
   "cell_type": "code",
   "execution_count": 26,
   "id": "9bcb011e",
   "metadata": {},
   "outputs": [
    {
     "data": {
      "application/javascript": [
       "\n",
       "            setTimeout(function() {\n",
       "                var nbb_cell_id = 26;\n",
       "                var nbb_unformatted_code = \"def analyze_results(data_frame, test_rainfall_data, name, flag=False):\\n    optimized_params = data_frame.iloc[data_frame.RMSE.argmin()]\\n    future_steps = optimized_params.future_steps\\n    forecast_values = optimized_params[-1 * int(future_steps) :]\\n    y_true = test_rainfall_data.iloc[: int(future_steps)]\\n    forecast_values.index = y_true.index\\n\\n    print(\\\"=== Best parameters of \\\" + name + \\\" ===\\\\n\\\")\\n    if name == \\\"FNN\\\" or name == \\\"LSTM\\\":\\n        model = create_NN(\\n            optimized_params.look_back,\\n            optimized_params.hidden_nodes,\\n            optimized_params.output_nodes,\\n        )\\n        print(\\\"Input nodes(p): \\\" + str(optimized_params.look_back))\\n        print(\\\"Hidden nodes: \\\" + str(optimized_params.hidden_nodes))\\n        print(\\\"Output nodes: \\\" + str(optimized_params.output_nodes))\\n    elif name == \\\"TLNN\\\":\\n        model = create_NN(\\n            len(optimized_params.look_back_lags),\\n            optimized_params.hidden_nodes,\\n            optimized_params.output_nodes,\\n        )\\n        s = \\\"\\\"\\n        for i in optimized_params.look_back_lags:\\n            s = s + \\\" \\\" + str(i)\\n        print(\\\"Look back lags: \\\" + s)\\n        print(\\\"Hidden nodes: \\\" + str(optimized_params.hidden_nodes))\\n        print(\\\"Output nodes: \\\" + str(optimized_params.output_nodes))\\n    elif name == \\\"SANN\\\":\\n        model = create_NN(\\n            optimized_params.seasonal_period,\\n            optimized_params.hidden_nodes,\\n            optimized_params.seasonal_period,\\n        )\\n        print(\\\"Input nodes(s): \\\" + str(optimized_params.seasonal_period))\\n        print(\\\"Hidden nodes: \\\" + str(optimized_params.hidden_nodes))\\n        print(\\\"Output nodes: \\\" + str(optimized_params.seasonal_period))\\n\\n    print(\\\"Number of epochs: \\\" + str(optimized_params.epochs))\\n    print(\\\"Batch size: \\\" + str(optimized_params.batch_size))\\n    print(\\\"Number of future steps forecasted: \\\" + str(optimized_params.future_steps))\\n    print(\\\"Mean Squared Error(MSE): \\\" + str(optimized_params.MSE))\\n    print(\\\"Mean Absolute Error(MAE): \\\" + str(optimized_params.MAE))\\n    print(\\\"Root Mean Squared Error(RMSE): \\\" + str(optimized_params.RMSE))\\n    print(\\\"\\\\n\\\\n\\\")\\n\\n    # Save model\\n    from keras.utils import plot_model\\n\\n    #     plot_model(model, to_file = STORAGE_FOLDER + name + '_best_fit_model.png', show_shapes=True, show_layer_names=True)\\n\\n    #     # Save data\\n    #     data_frame.to_csv(STORAGE_FOLDER + name + '_information.csv')\\n    #     optimized_params.to_csv(STORAGE_FOLDER + name + '_optimized_values.csv')\\n\\n    plt.figure(figsize=(10, 5))\\n    plt.plot(y_true, color=\\\"green\\\", label=\\\"Actual values\\\")\\n    plt.plot(forecast_values, color=\\\"red\\\", label=\\\"Forecasted values\\\")\\n    plt.xlabel(\\\"Year\\\")\\n    plt.ylabel(\\\"Monthly mean Precipitation\\\")\\n    plt.legend(loc=\\\"best\\\")\\n    if flag == False:\\n        plt.title(name + \\\" - Comaprison: Actual vs Forecasted\\\")\\n    #         plt.savefig(STORAGE_FOLDER + name + '_best_forecast'  + '.png')\\n    else:\\n        plt.title(\\\"Best of all: \\\" + name + \\\" - Comaprison: Actual vs Forecasted\\\")\\n    #         plt.savefig(STORAGE_FOLDER + 'BEST_FORECAST_' + name + '.png')\\n\\n    return optimized_params\";\n",
       "                var nbb_formatted_code = \"def analyze_results(data_frame, test_rainfall_data, name, flag=False):\\n    optimized_params = data_frame.iloc[data_frame.RMSE.argmin()]\\n    future_steps = optimized_params.future_steps\\n    forecast_values = optimized_params[-1 * int(future_steps) :]\\n    y_true = test_rainfall_data.iloc[: int(future_steps)]\\n    forecast_values.index = y_true.index\\n\\n    print(\\\"=== Best parameters of \\\" + name + \\\" ===\\\\n\\\")\\n    if name == \\\"FNN\\\" or name == \\\"LSTM\\\":\\n        model = create_NN(\\n            optimized_params.look_back,\\n            optimized_params.hidden_nodes,\\n            optimized_params.output_nodes,\\n        )\\n        print(\\\"Input nodes(p): \\\" + str(optimized_params.look_back))\\n        print(\\\"Hidden nodes: \\\" + str(optimized_params.hidden_nodes))\\n        print(\\\"Output nodes: \\\" + str(optimized_params.output_nodes))\\n    elif name == \\\"TLNN\\\":\\n        model = create_NN(\\n            len(optimized_params.look_back_lags),\\n            optimized_params.hidden_nodes,\\n            optimized_params.output_nodes,\\n        )\\n        s = \\\"\\\"\\n        for i in optimized_params.look_back_lags:\\n            s = s + \\\" \\\" + str(i)\\n        print(\\\"Look back lags: \\\" + s)\\n        print(\\\"Hidden nodes: \\\" + str(optimized_params.hidden_nodes))\\n        print(\\\"Output nodes: \\\" + str(optimized_params.output_nodes))\\n    elif name == \\\"SANN\\\":\\n        model = create_NN(\\n            optimized_params.seasonal_period,\\n            optimized_params.hidden_nodes,\\n            optimized_params.seasonal_period,\\n        )\\n        print(\\\"Input nodes(s): \\\" + str(optimized_params.seasonal_period))\\n        print(\\\"Hidden nodes: \\\" + str(optimized_params.hidden_nodes))\\n        print(\\\"Output nodes: \\\" + str(optimized_params.seasonal_period))\\n\\n    print(\\\"Number of epochs: \\\" + str(optimized_params.epochs))\\n    print(\\\"Batch size: \\\" + str(optimized_params.batch_size))\\n    print(\\\"Number of future steps forecasted: \\\" + str(optimized_params.future_steps))\\n    print(\\\"Mean Squared Error(MSE): \\\" + str(optimized_params.MSE))\\n    print(\\\"Mean Absolute Error(MAE): \\\" + str(optimized_params.MAE))\\n    print(\\\"Root Mean Squared Error(RMSE): \\\" + str(optimized_params.RMSE))\\n    print(\\\"\\\\n\\\\n\\\")\\n\\n    # Save model\\n    from keras.utils import plot_model\\n\\n    #     plot_model(model, to_file = STORAGE_FOLDER + name + '_best_fit_model.png', show_shapes=True, show_layer_names=True)\\n\\n    #     # Save data\\n    #     data_frame.to_csv(STORAGE_FOLDER + name + '_information.csv')\\n    #     optimized_params.to_csv(STORAGE_FOLDER + name + '_optimized_values.csv')\\n\\n    plt.figure(figsize=(10, 5))\\n    plt.plot(y_true, color=\\\"green\\\", label=\\\"Actual values\\\")\\n    plt.plot(forecast_values, color=\\\"red\\\", label=\\\"Forecasted values\\\")\\n    plt.xlabel(\\\"Year\\\")\\n    plt.ylabel(\\\"Monthly mean Precipitation\\\")\\n    plt.legend(loc=\\\"best\\\")\\n    if flag == False:\\n        plt.title(name + \\\" - Comaprison: Actual vs Forecasted\\\")\\n    #         plt.savefig(STORAGE_FOLDER + name + '_best_forecast'  + '.png')\\n    else:\\n        plt.title(\\\"Best of all: \\\" + name + \\\" - Comaprison: Actual vs Forecasted\\\")\\n    #         plt.savefig(STORAGE_FOLDER + 'BEST_FORECAST_' + name + '.png')\\n\\n    return optimized_params\";\n",
       "                var nbb_cells = Jupyter.notebook.get_cells();\n",
       "                for (var i = 0; i < nbb_cells.length; ++i) {\n",
       "                    if (nbb_cells[i].input_prompt_number == nbb_cell_id) {\n",
       "                        if (nbb_cells[i].get_text() == nbb_unformatted_code) {\n",
       "                             nbb_cells[i].set_text(nbb_formatted_code);\n",
       "                        }\n",
       "                        break;\n",
       "                    }\n",
       "                }\n",
       "            }, 500);\n",
       "            "
      ],
      "text/plain": [
       "<IPython.core.display.Javascript object>"
      ]
     },
     "metadata": {},
     "output_type": "display_data"
    }
   ],
   "source": [
    "def analyze_results(data_frame, test_rainfall_data, name, flag=False):\n",
    "    optimized_params = data_frame.iloc[data_frame.RMSE.argmin()]\n",
    "    future_steps = optimized_params.future_steps\n",
    "    forecast_values = optimized_params[-1 * int(future_steps) :]\n",
    "    y_true = test_rainfall_data.iloc[: int(future_steps)]\n",
    "    forecast_values.index = y_true.index\n",
    "\n",
    "    print(\"=== Best parameters of \" + name + \" ===\\n\")\n",
    "    if name == \"FNN\" or name == \"LSTM\":\n",
    "        model = create_NN(\n",
    "            optimized_params.look_back,\n",
    "            optimized_params.hidden_nodes,\n",
    "            optimized_params.output_nodes,\n",
    "        )\n",
    "        print(\"Input nodes(p): \" + str(optimized_params.look_back))\n",
    "        print(\"Hidden nodes: \" + str(optimized_params.hidden_nodes))\n",
    "        print(\"Output nodes: \" + str(optimized_params.output_nodes))\n",
    "    elif name == \"TLNN\":\n",
    "        model = create_NN(\n",
    "            len(optimized_params.look_back_lags),\n",
    "            optimized_params.hidden_nodes,\n",
    "            optimized_params.output_nodes,\n",
    "        )\n",
    "        s = \"\"\n",
    "        for i in optimized_params.look_back_lags:\n",
    "            s = s + \" \" + str(i)\n",
    "        print(\"Look back lags: \" + s)\n",
    "        print(\"Hidden nodes: \" + str(optimized_params.hidden_nodes))\n",
    "        print(\"Output nodes: \" + str(optimized_params.output_nodes))\n",
    "    elif name == \"SANN\":\n",
    "        model = create_NN(\n",
    "            optimized_params.seasonal_period,\n",
    "            optimized_params.hidden_nodes,\n",
    "            optimized_params.seasonal_period,\n",
    "        )\n",
    "        print(\"Input nodes(s): \" + str(optimized_params.seasonal_period))\n",
    "        print(\"Hidden nodes: \" + str(optimized_params.hidden_nodes))\n",
    "        print(\"Output nodes: \" + str(optimized_params.seasonal_period))\n",
    "\n",
    "    print(\"Number of epochs: \" + str(optimized_params.epochs))\n",
    "    print(\"Batch size: \" + str(optimized_params.batch_size))\n",
    "    print(\"Number of future steps forecasted: \" + str(optimized_params.future_steps))\n",
    "    print(\"Mean Squared Error(MSE): \" + str(optimized_params.MSE))\n",
    "    print(\"Mean Absolute Error(MAE): \" + str(optimized_params.MAE))\n",
    "    print(\"Root Mean Squared Error(RMSE): \" + str(optimized_params.RMSE))\n",
    "    print(\"\\n\\n\")\n",
    "\n",
    "    # Save model\n",
    "    from keras.utils import plot_model\n",
    "\n",
    "    #     plot_model(model, to_file = STORAGE_FOLDER + name + '_best_fit_model.png', show_shapes=True, show_layer_names=True)\n",
    "\n",
    "    #     # Save data\n",
    "    #     data_frame.to_csv(STORAGE_FOLDER + name + '_information.csv')\n",
    "    #     optimized_params.to_csv(STORAGE_FOLDER + name + '_optimized_values.csv')\n",
    "\n",
    "    plt.figure(figsize=(10, 5))\n",
    "    plt.plot(y_true, color=\"green\", label=\"Actual values\")\n",
    "    plt.plot(forecast_values, color=\"red\", label=\"Forecasted values\")\n",
    "    plt.xlabel(\"Year\")\n",
    "    plt.ylabel(\"Monthly mean Precipitation\")\n",
    "    plt.legend(loc=\"best\")\n",
    "    if flag == False:\n",
    "        plt.title(name + \" - Comaprison: Actual vs Forecasted\")\n",
    "    #         plt.savefig(STORAGE_FOLDER + name + '_best_forecast'  + '.png')\n",
    "    else:\n",
    "        plt.title(\"Best of all: \" + name + \" - Comaprison: Actual vs Forecasted\")\n",
    "    #         plt.savefig(STORAGE_FOLDER + 'BEST_FORECAST_' + name + '.png')\n",
    "\n",
    "    return optimized_params"
   ]
  },
  {
   "cell_type": "markdown",
   "id": "60c6bc65",
   "metadata": {},
   "source": [
    "### Compare Results of above algorithms"
   ]
  },
  {
   "cell_type": "code",
   "execution_count": 27,
   "id": "2ab72b1e",
   "metadata": {},
   "outputs": [
    {
     "data": {
      "application/javascript": [
       "\n",
       "            setTimeout(function() {\n",
       "                var nbb_cell_id = 27;\n",
       "                var nbb_unformatted_code = \"def compare_ANN_methods(\\n    rainfall_data,\\n    test_rainfall_data,\\n    scaler,\\n    parameters_FNN,\\n    future_steps,\\n):\\n\\n    information_FNN_df = get_accuracies_FNN(\\n        rainfall_data, test_rainfall_data, parameters_FNN, scaler\\n    )\\n    optimized_params_FNN = analyze_results(\\n        information_FNN_df, test_rainfall_data, \\\"FNN\\\"\\n    )\\n    \\n    RMSE_info = optimized_params_FNN.RMSE\\n    \\n\\n    best_optimized_params = analyze_results(\\n        information_FNN_df, test_rainfall_data, name, True\\n    )\\n    return RMSE_info\";\n",
       "                var nbb_formatted_code = \"def compare_ANN_methods(\\n    rainfall_data,\\n    test_rainfall_data,\\n    scaler,\\n    parameters_FNN,\\n    future_steps,\\n):\\n\\n    information_FNN_df = get_accuracies_FNN(\\n        rainfall_data, test_rainfall_data, parameters_FNN, scaler\\n    )\\n    optimized_params_FNN = analyze_results(\\n        information_FNN_df, test_rainfall_data, \\\"FNN\\\"\\n    )\\n\\n    RMSE_info = optimized_params_FNN.RMSE\\n\\n    best_optimized_params = analyze_results(\\n        information_FNN_df, test_rainfall_data, name, True\\n    )\\n    return RMSE_info\";\n",
       "                var nbb_cells = Jupyter.notebook.get_cells();\n",
       "                for (var i = 0; i < nbb_cells.length; ++i) {\n",
       "                    if (nbb_cells[i].input_prompt_number == nbb_cell_id) {\n",
       "                        if (nbb_cells[i].get_text() == nbb_unformatted_code) {\n",
       "                             nbb_cells[i].set_text(nbb_formatted_code);\n",
       "                        }\n",
       "                        break;\n",
       "                    }\n",
       "                }\n",
       "            }, 500);\n",
       "            "
      ],
      "text/plain": [
       "<IPython.core.display.Javascript object>"
      ]
     },
     "metadata": {},
     "output_type": "display_data"
    }
   ],
   "source": [
    "def compare_ANN_methods(\n",
    "    rainfall_data,\n",
    "    test_rainfall_data,\n",
    "    scaler,\n",
    "    parameters_FNN,\n",
    "    future_steps,\n",
    "):\n",
    "\n",
    "    information_FNN_df = get_accuracies_FNN(\n",
    "        rainfall_data, test_rainfall_data, parameters_FNN, scaler\n",
    "    )\n",
    "    optimized_params_FNN = analyze_results(\n",
    "        information_FNN_df, test_rainfall_data, \"FNN\"\n",
    "    )\n",
    "\n",
    "    RMSE_info = optimized_params_FNN.RMSE\n",
    "\n",
    "    best_optimized_params = analyze_results(\n",
    "        information_FNN_df, test_rainfall_data, name, True\n",
    "    )\n",
    "    return RMSE_info"
   ]
  },
  {
   "cell_type": "markdown",
   "id": "b1b7484c",
   "metadata": {},
   "source": [
    "### Number of Future steps to be forecasted"
   ]
  },
  {
   "cell_type": "code",
   "execution_count": 28,
   "id": "2d8398b0",
   "metadata": {},
   "outputs": [
    {
     "data": {
      "application/javascript": [
       "\n",
       "            setTimeout(function() {\n",
       "                var nbb_cell_id = 28;\n",
       "                var nbb_unformatted_code = \"future_steps = 100\";\n",
       "                var nbb_formatted_code = \"future_steps = 100\";\n",
       "                var nbb_cells = Jupyter.notebook.get_cells();\n",
       "                for (var i = 0; i < nbb_cells.length; ++i) {\n",
       "                    if (nbb_cells[i].input_prompt_number == nbb_cell_id) {\n",
       "                        if (nbb_cells[i].get_text() == nbb_unformatted_code) {\n",
       "                             nbb_cells[i].set_text(nbb_formatted_code);\n",
       "                        }\n",
       "                        break;\n",
       "                    }\n",
       "                }\n",
       "            }, 500);\n",
       "            "
      ],
      "text/plain": [
       "<IPython.core.display.Javascript object>"
      ]
     },
     "metadata": {},
     "output_type": "display_data"
    }
   ],
   "source": [
    "future_steps = 100"
   ]
  },
  {
   "cell_type": "code",
   "execution_count": 29,
   "id": "a1f9db5a",
   "metadata": {},
   "outputs": [
    {
     "data": {
      "application/javascript": [
       "\n",
       "            setTimeout(function() {\n",
       "                var nbb_cell_id = 29;\n",
       "                var nbb_unformatted_code = \"parameters_FNN = [[1,2,3,6,8,10,12], [3,4,5,6], [1], [500], [20], [future_steps]]\";\n",
       "                var nbb_formatted_code = \"parameters_FNN = [\\n    [1, 2, 3, 6, 8, 10, 12],\\n    [3, 4, 5, 6],\\n    [1],\\n    [500],\\n    [20],\\n    [future_steps],\\n]\";\n",
       "                var nbb_cells = Jupyter.notebook.get_cells();\n",
       "                for (var i = 0; i < nbb_cells.length; ++i) {\n",
       "                    if (nbb_cells[i].input_prompt_number == nbb_cell_id) {\n",
       "                        if (nbb_cells[i].get_text() == nbb_unformatted_code) {\n",
       "                             nbb_cells[i].set_text(nbb_formatted_code);\n",
       "                        }\n",
       "                        break;\n",
       "                    }\n",
       "                }\n",
       "            }, 500);\n",
       "            "
      ],
      "text/plain": [
       "<IPython.core.display.Javascript object>"
      ]
     },
     "metadata": {},
     "output_type": "display_data"
    }
   ],
   "source": [
    "parameters_FNN = [\n",
    "    [1, 2, 3, 6, 8, 10, 12],\n",
    "    [3, 4, 5, 6],\n",
    "    [1],\n",
    "    [500],\n",
    "    [20],\n",
    "    [future_steps],\n",
    "]"
   ]
  },
  {
   "cell_type": "code",
   "execution_count": 30,
   "id": "f2333a3e",
   "metadata": {},
   "outputs": [
    {
     "name": "stdout",
     "output_type": "stream",
     "text": [
      "FNN - Number of combinations: 28\n",
      "1/1 [==============================] - 0s 260ms/step\n",
      "1/1 [==============================] - 0s 45ms/step\n",
      "1/1 [==============================] - 0s 48ms/step\n",
      "1/1 [==============================] - 0s 47ms/step\n",
      "1/1 [==============================] - 0s 46ms/step\n",
      "1/1 [==============================] - 0s 43ms/step\n",
      "1/1 [==============================] - 0s 45ms/step\n",
      "1/1 [==============================] - 0s 48ms/step\n",
      "1/1 [==============================] - 0s 30ms/step\n",
      "1/1 [==============================] - 0s 58ms/step\n",
      "1/1 [==============================] - 0s 49ms/step\n",
      "1/1 [==============================] - 0s 40ms/step\n",
      "1/1 [==============================] - 0s 39ms/step\n",
      "1/1 [==============================] - 0s 49ms/step\n",
      "1/1 [==============================] - 0s 48ms/step\n",
      "1/1 [==============================] - 0s 45ms/step\n",
      "1/1 [==============================] - 0s 31ms/step\n",
      "1/1 [==============================] - 0s 40ms/step\n",
      "1/1 [==============================] - 0s 41ms/step\n",
      "1/1 [==============================] - 0s 51ms/step\n",
      "1/1 [==============================] - 0s 50ms/step\n",
      "1/1 [==============================] - 0s 37ms/step\n",
      "1/1 [==============================] - 0s 47ms/step\n",
      "1/1 [==============================] - 0s 44ms/step\n",
      "1/1 [==============================] - 0s 49ms/step\n",
      "1/1 [==============================] - 0s 38ms/step\n",
      "1/1 [==============================] - 0s 58ms/step\n",
      "1/1 [==============================] - 0s 57ms/step\n",
      "1/1 [==============================] - 0s 40ms/step\n",
      "1/1 [==============================] - 0s 49ms/step\n",
      "1/1 [==============================] - 0s 54ms/step\n",
      "1/1 [==============================] - 0s 93ms/step\n",
      "1/1 [==============================] - 0s 40ms/step\n",
      "1/1 [==============================] - 0s 48ms/step\n",
      "1/1 [==============================] - 0s 65ms/step\n",
      "1/1 [==============================] - 0s 64ms/step\n",
      "1/1 [==============================] - 0s 48ms/step\n",
      "1/1 [==============================] - 0s 37ms/step\n",
      "1/1 [==============================] - 0s 48ms/step\n",
      "1/1 [==============================] - 0s 58ms/step\n",
      "1/1 [==============================] - 0s 63ms/step\n",
      "1/1 [==============================] - 0s 50ms/step\n",
      "1/1 [==============================] - 0s 53ms/step\n",
      "1/1 [==============================] - 0s 50ms/step\n",
      "1/1 [==============================] - 0s 54ms/step\n",
      "1/1 [==============================] - 0s 54ms/step\n",
      "1/1 [==============================] - 0s 50ms/step\n",
      "1/1 [==============================] - 0s 45ms/step\n",
      "1/1 [==============================] - 0s 49ms/step\n",
      "1/1 [==============================] - 0s 46ms/step\n",
      "1/1 [==============================] - 0s 44ms/step\n",
      "1/1 [==============================] - 0s 52ms/step\n",
      "1/1 [==============================] - 0s 56ms/step\n",
      "1/1 [==============================] - 0s 70ms/step\n",
      "1/1 [==============================] - 0s 163ms/step\n",
      "1/1 [==============================] - 0s 43ms/step\n",
      "1/1 [==============================] - 0s 46ms/step\n",
      "1/1 [==============================] - 0s 87ms/step\n",
      "1/1 [==============================] - 0s 56ms/step\n",
      "1/1 [==============================] - 0s 86ms/step\n",
      "1/1 [==============================] - 0s 97ms/step\n",
      "1/1 [==============================] - 0s 47ms/step\n",
      "1/1 [==============================] - 0s 60ms/step\n",
      "1/1 [==============================] - 0s 52ms/step\n",
      "1/1 [==============================] - 0s 56ms/step\n",
      "1/1 [==============================] - 0s 65ms/step\n",
      "1/1 [==============================] - 0s 94ms/step\n",
      "1/1 [==============================] - 0s 28ms/step\n",
      "1/1 [==============================] - 0s 47ms/step\n",
      "1/1 [==============================] - 0s 45ms/step\n",
      "1/1 [==============================] - 0s 46ms/step\n",
      "1/1 [==============================] - 0s 47ms/step\n",
      "1/1 [==============================] - 0s 44ms/step\n",
      "1/1 [==============================] - 0s 45ms/step\n",
      "1/1 [==============================] - 0s 42ms/step\n",
      "1/1 [==============================] - 0s 30ms/step\n",
      "1/1 [==============================] - 0s 40ms/step\n",
      "1/1 [==============================] - 0s 40ms/step\n",
      "1/1 [==============================] - 0s 41ms/step\n",
      "1/1 [==============================] - 0s 40ms/step\n",
      "1/1 [==============================] - 0s 43ms/step\n",
      "1/1 [==============================] - 0s 43ms/step\n",
      "1/1 [==============================] - 0s 46ms/step\n",
      "1/1 [==============================] - 0s 45ms/step\n",
      "1/1 [==============================] - 0s 42ms/step\n",
      "1/1 [==============================] - 0s 43ms/step\n",
      "1/1 [==============================] - 0s 50ms/step\n",
      "1/1 [==============================] - 0s 42ms/step\n",
      "1/1 [==============================] - 0s 50ms/step\n",
      "1/1 [==============================] - 0s 47ms/step\n",
      "1/1 [==============================] - 0s 44ms/step\n",
      "1/1 [==============================] - 0s 49ms/step\n",
      "1/1 [==============================] - 0s 33ms/step\n",
      "1/1 [==============================] - 0s 45ms/step\n",
      "1/1 [==============================] - 0s 43ms/step\n",
      "1/1 [==============================] - 0s 48ms/step\n",
      "1/1 [==============================] - 0s 46ms/step\n",
      "1/1 [==============================] - 0s 50ms/step\n",
      "1/1 [==============================] - 0s 50ms/step\n",
      "1/1 [==============================] - 0s 58ms/step\n",
      "1/1 [==============================] - 0s 101ms/step\n",
      "1/1 [==============================] - 0s 40ms/step\n",
      "1/1 [==============================] - 0s 45ms/step\n",
      "1/1 [==============================] - 0s 50ms/step\n",
      "1/1 [==============================] - 0s 46ms/step\n",
      "1/1 [==============================] - 0s 52ms/step\n",
      "1/1 [==============================] - 0s 42ms/step\n",
      "1/1 [==============================] - 0s 41ms/step\n",
      "1/1 [==============================] - 0s 40ms/step\n",
      "1/1 [==============================] - 0s 44ms/step\n",
      "1/1 [==============================] - 0s 57ms/step\n",
      "1/1 [==============================] - 0s 58ms/step\n",
      "1/1 [==============================] - 0s 61ms/step\n",
      "1/1 [==============================] - 0s 30ms/step\n",
      "1/1 [==============================] - 0s 46ms/step\n",
      "1/1 [==============================] - 0s 43ms/step\n",
      "1/1 [==============================] - 0s 46ms/step\n",
      "1/1 [==============================] - 0s 40ms/step\n",
      "1/1 [==============================] - 0s 41ms/step\n",
      "1/1 [==============================] - 0s 40ms/step\n",
      "1/1 [==============================] - 0s 46ms/step\n",
      "1/1 [==============================] - 0s 42ms/step\n",
      "1/1 [==============================] - 0s 36ms/step\n",
      "1/1 [==============================] - 0s 48ms/step\n",
      "1/1 [==============================] - 0s 42ms/step\n",
      "1/1 [==============================] - 0s 43ms/step\n",
      "1/1 [==============================] - 0s 47ms/step\n",
      "1/1 [==============================] - 0s 42ms/step\n",
      "1/1 [==============================] - 0s 40ms/step\n",
      "1/1 [==============================] - 0s 41ms/step\n",
      "1/1 [==============================] - 0s 32ms/step\n",
      "1/1 [==============================] - 0s 40ms/step\n",
      "1/1 [==============================] - 0s 43ms/step\n",
      "1/1 [==============================] - 0s 46ms/step\n",
      "1/1 [==============================] - 0s 50ms/step\n",
      "1/1 [==============================] - 0s 45ms/step\n",
      "1/1 [==============================] - 0s 50ms/step\n",
      "1/1 [==============================] - 0s 42ms/step\n",
      "1/1 [==============================] - 0s 47ms/step\n",
      "1/1 [==============================] - 0s 38ms/step\n",
      "1/1 [==============================] - 0s 50ms/step\n",
      "1/1 [==============================] - 0s 55ms/step\n",
      "1/1 [==============================] - 0s 57ms/step\n",
      "1/1 [==============================] - 0s 46ms/step\n",
      "1/1 [==============================] - 0s 50ms/step\n",
      "1/1 [==============================] - 0s 45ms/step\n",
      "1/1 [==============================] - 0s 44ms/step\n",
      "1/1 [==============================] - 0s 48ms/step\n",
      "1/1 [==============================] - 0s 40ms/step\n",
      "1/1 [==============================] - 0s 49ms/step\n",
      "1/1 [==============================] - 0s 48ms/step\n",
      "1/1 [==============================] - 0s 48ms/step\n",
      "1/1 [==============================] - 0s 51ms/step\n",
      "1/1 [==============================] - 0s 50ms/step\n",
      "1/1 [==============================] - 0s 48ms/step\n",
      "1/1 [==============================] - 0s 48ms/step\n"
     ]
    },
    {
     "name": "stdout",
     "output_type": "stream",
     "text": [
      "1/1 [==============================] - 0s 40ms/step\n",
      "1/1 [==============================] - 0s 57ms/step\n",
      "1/1 [==============================] - 0s 44ms/step\n",
      "1/1 [==============================] - 0s 41ms/step\n",
      "1/1 [==============================] - 0s 41ms/step\n",
      "1/1 [==============================] - 0s 40ms/step\n",
      "1/1 [==============================] - 0s 40ms/step\n",
      "1/1 [==============================] - 0s 50ms/step\n",
      "1/1 [==============================] - 0s 48ms/step\n",
      "1/1 [==============================] - 0s 42ms/step\n",
      "1/1 [==============================] - 0s 54ms/step\n",
      "1/1 [==============================] - 0s 50ms/step\n",
      "1/1 [==============================] - 0s 53ms/step\n",
      "1/1 [==============================] - 0s 54ms/step\n",
      "1/1 [==============================] - 0s 36ms/step\n",
      "1/1 [==============================] - 0s 40ms/step\n",
      "1/1 [==============================] - 0s 51ms/step\n",
      "1/1 [==============================] - 0s 57ms/step\n",
      "1/1 [==============================] - 0s 40ms/step\n",
      "1/1 [==============================] - 0s 46ms/step\n",
      "1/1 [==============================] - 0s 48ms/step\n",
      "1/1 [==============================] - 0s 37ms/step\n",
      "1/1 [==============================] - 0s 44ms/step\n",
      "1/1 [==============================] - 0s 39ms/step\n",
      "1/1 [==============================] - 0s 47ms/step\n",
      "1/1 [==============================] - 0s 44ms/step\n",
      "1/1 [==============================] - 0s 41ms/step\n",
      "1/1 [==============================] - 0s 36ms/step\n",
      "1/1 [==============================] - 0s 48ms/step\n",
      "1/1 [==============================] - 0s 30ms/step\n",
      "1/1 [==============================] - 0s 46ms/step\n",
      "1/1 [==============================] - 0s 43ms/step\n",
      "1/1 [==============================] - 0s 40ms/step\n",
      "1/1 [==============================] - 0s 50ms/step\n",
      "1/1 [==============================] - 0s 45ms/step\n",
      "1/1 [==============================] - 0s 43ms/step\n",
      "1/1 [==============================] - 0s 45ms/step\n",
      "1/1 [==============================] - 0s 33ms/step\n",
      "1/1 [==============================] - 0s 47ms/step\n",
      "1/1 [==============================] - 0s 41ms/step\n",
      "1/1 [==============================] - 0s 41ms/step\n",
      "1/1 [==============================] - 0s 42ms/step\n",
      "1/1 [==============================] - 0s 40ms/step\n",
      "1/1 [==============================] - 0s 38ms/step\n",
      "3 -> "
     ]
    },
    {
     "ename": "KeyboardInterrupt",
     "evalue": "",
     "output_type": "error",
     "traceback": [
      "\u001b[1;31m---------------------------------------------------------------------------\u001b[0m",
      "\u001b[1;31mKeyboardInterrupt\u001b[0m                         Traceback (most recent call last)",
      "Input \u001b[1;32mIn [30]\u001b[0m, in \u001b[0;36m<cell line: 1>\u001b[1;34m()\u001b[0m\n\u001b[1;32m----> 1\u001b[0m RMSE_info \u001b[38;5;241m=\u001b[39m \u001b[43mcompare_ANN_methods\u001b[49m\u001b[43m(\u001b[49m\u001b[43mtrain_df\u001b[49m\u001b[43m,\u001b[49m\u001b[43m \u001b[49m\u001b[43mtest_df\u001b[49m\u001b[43m,\u001b[49m\u001b[43m \u001b[49m\u001b[43mscaler\u001b[49m\u001b[43m,\u001b[49m\u001b[43m \u001b[49m\n\u001b[0;32m      2\u001b[0m \u001b[43m                    \u001b[49m\u001b[43mparameters_FNN\u001b[49m\u001b[43m,\u001b[49m\u001b[43m \u001b[49m\u001b[43mfuture_steps\u001b[49m\u001b[43m)\u001b[49m\n",
      "Input \u001b[1;32mIn [27]\u001b[0m, in \u001b[0;36mcompare_ANN_methods\u001b[1;34m(rainfall_data, test_rainfall_data, scaler, parameters_FNN, future_steps)\u001b[0m\n\u001b[0;32m      1\u001b[0m \u001b[38;5;28;01mdef\u001b[39;00m \u001b[38;5;21mcompare_ANN_methods\u001b[39m(\n\u001b[0;32m      2\u001b[0m     rainfall_data,\n\u001b[0;32m      3\u001b[0m     test_rainfall_data,\n\u001b[1;32m   (...)\u001b[0m\n\u001b[0;32m      6\u001b[0m     future_steps,\n\u001b[0;32m      7\u001b[0m ):\n\u001b[1;32m----> 9\u001b[0m     information_FNN_df \u001b[38;5;241m=\u001b[39m \u001b[43mget_accuracies_FNN\u001b[49m\u001b[43m(\u001b[49m\n\u001b[0;32m     10\u001b[0m \u001b[43m        \u001b[49m\u001b[43mrainfall_data\u001b[49m\u001b[43m,\u001b[49m\u001b[43m \u001b[49m\u001b[43mtest_rainfall_data\u001b[49m\u001b[43m,\u001b[49m\u001b[43m \u001b[49m\u001b[43mparameters_FNN\u001b[49m\u001b[43m,\u001b[49m\u001b[43m \u001b[49m\u001b[43mscaler\u001b[49m\n\u001b[0;32m     11\u001b[0m \u001b[43m    \u001b[49m\u001b[43m)\u001b[49m\n\u001b[0;32m     12\u001b[0m     optimized_params_FNN \u001b[38;5;241m=\u001b[39m analyze_results(\n\u001b[0;32m     13\u001b[0m         information_FNN_df, test_rainfall_data, \u001b[38;5;124m\"\u001b[39m\u001b[38;5;124mFNN\u001b[39m\u001b[38;5;124m\"\u001b[39m\n\u001b[0;32m     14\u001b[0m     )\n\u001b[0;32m     16\u001b[0m     RMSE_info \u001b[38;5;241m=\u001b[39m optimized_params_FNN\u001b[38;5;241m.\u001b[39mRMSE\n",
      "Input \u001b[1;32mIn [25]\u001b[0m, in \u001b[0;36mget_accuracies_FNN\u001b[1;34m(rainfall_data, test_rainfall_data, parameters, scaler)\u001b[0m\n\u001b[0;32m     18\u001b[0m batch_size \u001b[38;5;241m=\u001b[39m param[\u001b[38;5;241m4\u001b[39m]\n\u001b[0;32m     19\u001b[0m future_steps \u001b[38;5;241m=\u001b[39m param[\u001b[38;5;241m5\u001b[39m]\n\u001b[1;32m---> 21\u001b[0m model_FNN, forecasted_values_FNN \u001b[38;5;241m=\u001b[39m \u001b[43mFNN\u001b[49m\u001b[43m(\u001b[49m\n\u001b[0;32m     22\u001b[0m \u001b[43m    \u001b[49m\u001b[43mrainfall_data\u001b[49m\u001b[43m,\u001b[49m\n\u001b[0;32m     23\u001b[0m \u001b[43m    \u001b[49m\u001b[43mlook_back\u001b[49m\u001b[43m,\u001b[49m\n\u001b[0;32m     24\u001b[0m \u001b[43m    \u001b[49m\u001b[43mhidden_nodes\u001b[49m\u001b[43m,\u001b[49m\n\u001b[0;32m     25\u001b[0m \u001b[43m    \u001b[49m\u001b[43moutput_nodes\u001b[49m\u001b[43m,\u001b[49m\n\u001b[0;32m     26\u001b[0m \u001b[43m    \u001b[49m\u001b[43mepochs\u001b[49m\u001b[43m,\u001b[49m\n\u001b[0;32m     27\u001b[0m \u001b[43m    \u001b[49m\u001b[43mbatch_size\u001b[49m\u001b[43m,\u001b[49m\n\u001b[0;32m     28\u001b[0m \u001b[43m    \u001b[49m\u001b[43mfuture_steps\u001b[49m\u001b[43m,\u001b[49m\n\u001b[0;32m     29\u001b[0m \u001b[43m    \u001b[49m\u001b[43mscaler\u001b[49m\u001b[43m,\u001b[49m\n\u001b[0;32m     30\u001b[0m \u001b[43m\u001b[49m\u001b[43m)\u001b[49m\n\u001b[0;32m     32\u001b[0m y_true \u001b[38;5;241m=\u001b[39m test_rainfall_data\u001b[38;5;241m.\u001b[39miloc[:future_steps]\n\u001b[0;32m     33\u001b[0m mse, mae, mape, rmse \u001b[38;5;241m=\u001b[39m calculate_performance(y_true, forecasted_values_FNN)\n",
      "Input \u001b[1;32mIn [24]\u001b[0m, in \u001b[0;36mFNN\u001b[1;34m(data, look_back, hidden_nodes, output_nodes, epochs, batch_size, future_steps, scaler)\u001b[0m\n\u001b[0;32m     13\u001b[0m X_train, y_train \u001b[38;5;241m=\u001b[39m reshape_arrays(X_train, y_train)\n\u001b[0;32m     15\u001b[0m model_FNN \u001b[38;5;241m=\u001b[39m create_NN(\n\u001b[0;32m     16\u001b[0m     input_nodes\u001b[38;5;241m=\u001b[39mlook_back, hidden_nodes\u001b[38;5;241m=\u001b[39mhidden_nodes, output_nodes\u001b[38;5;241m=\u001b[39moutput_nodes\n\u001b[0;32m     17\u001b[0m )\n\u001b[1;32m---> 18\u001b[0m model_FNN \u001b[38;5;241m=\u001b[39m \u001b[43mtrain_model\u001b[49m\u001b[43m(\u001b[49m\u001b[43mmodel_FNN\u001b[49m\u001b[43m,\u001b[49m\u001b[43m \u001b[49m\u001b[43mX_train\u001b[49m\u001b[43m,\u001b[49m\u001b[43m \u001b[49m\u001b[43my_train\u001b[49m\u001b[43m,\u001b[49m\u001b[43m \u001b[49m\u001b[43mepochs\u001b[49m\u001b[43m,\u001b[49m\u001b[43m \u001b[49m\u001b[43mbatch_size\u001b[49m\u001b[43m)\u001b[49m\n\u001b[0;32m     20\u001b[0m input_seq_for_test_FNN \u001b[38;5;241m=\u001b[39m np\u001b[38;5;241m.\u001b[39mreshape(\n\u001b[0;32m     21\u001b[0m     input_seq_for_test_FNN, (\u001b[38;5;241m1\u001b[39m, \u001b[38;5;28mlen\u001b[39m(input_seq_for_test_FNN))\n\u001b[0;32m     22\u001b[0m )\n\u001b[0;32m     23\u001b[0m forecasted_values_FNN \u001b[38;5;241m=\u001b[39m forecast_FNN(\n\u001b[0;32m     24\u001b[0m     model_FNN, input_sequence\u001b[38;5;241m=\u001b[39minput_seq_for_test_FNN, future_steps\u001b[38;5;241m=\u001b[39mfuture_steps\n\u001b[0;32m     25\u001b[0m )\n",
      "Input \u001b[1;32mIn [20]\u001b[0m, in \u001b[0;36mtrain_model\u001b[1;34m(model, X_train, y_train, epochs, batch_size)\u001b[0m\n\u001b[0;32m      1\u001b[0m \u001b[38;5;28;01mdef\u001b[39;00m \u001b[38;5;21mtrain_model\u001b[39m(model, X_train, y_train, epochs, batch_size):\n\u001b[1;32m----> 2\u001b[0m     \u001b[43mmodel\u001b[49m\u001b[38;5;241;43m.\u001b[39;49m\u001b[43mfit\u001b[49m\u001b[43m(\u001b[49m\n\u001b[0;32m      3\u001b[0m \u001b[43m        \u001b[49m\u001b[43mX_train\u001b[49m\u001b[43m,\u001b[49m\u001b[43m \u001b[49m\u001b[43my_train\u001b[49m\u001b[43m,\u001b[49m\u001b[43m \u001b[49m\u001b[43mepochs\u001b[49m\u001b[38;5;241;43m=\u001b[39;49m\u001b[43mepochs\u001b[49m\u001b[43m,\u001b[49m\u001b[43m \u001b[49m\u001b[43mbatch_size\u001b[49m\u001b[38;5;241;43m=\u001b[39;49m\u001b[43mbatch_size\u001b[49m\u001b[43m,\u001b[49m\u001b[43m \u001b[49m\u001b[43mverbose\u001b[49m\u001b[38;5;241;43m=\u001b[39;49m\u001b[38;5;241;43m0\u001b[39;49m\u001b[43m,\u001b[49m\u001b[43m \u001b[49m\u001b[43mshuffle\u001b[49m\u001b[38;5;241;43m=\u001b[39;49m\u001b[38;5;28;43;01mTrue\u001b[39;49;00m\n\u001b[0;32m      4\u001b[0m \u001b[43m    \u001b[49m\u001b[43m)\u001b[49m\n\u001b[0;32m      5\u001b[0m     \u001b[38;5;28;01mreturn\u001b[39;00m model\n",
      "File \u001b[1;32m~\\anaconda3\\envs\\python-datascience\\lib\\site-packages\\keras\\utils\\traceback_utils.py:65\u001b[0m, in \u001b[0;36mfilter_traceback.<locals>.error_handler\u001b[1;34m(*args, **kwargs)\u001b[0m\n\u001b[0;32m     63\u001b[0m filtered_tb \u001b[38;5;241m=\u001b[39m \u001b[38;5;28;01mNone\u001b[39;00m\n\u001b[0;32m     64\u001b[0m \u001b[38;5;28;01mtry\u001b[39;00m:\n\u001b[1;32m---> 65\u001b[0m     \u001b[38;5;28;01mreturn\u001b[39;00m \u001b[43mfn\u001b[49m\u001b[43m(\u001b[49m\u001b[38;5;241;43m*\u001b[39;49m\u001b[43margs\u001b[49m\u001b[43m,\u001b[49m\u001b[43m \u001b[49m\u001b[38;5;241;43m*\u001b[39;49m\u001b[38;5;241;43m*\u001b[39;49m\u001b[43mkwargs\u001b[49m\u001b[43m)\u001b[49m\n\u001b[0;32m     66\u001b[0m \u001b[38;5;28;01mexcept\u001b[39;00m \u001b[38;5;167;01mException\u001b[39;00m \u001b[38;5;28;01mas\u001b[39;00m e:\n\u001b[0;32m     67\u001b[0m     filtered_tb \u001b[38;5;241m=\u001b[39m _process_traceback_frames(e\u001b[38;5;241m.\u001b[39m__traceback__)\n",
      "File \u001b[1;32m~\\anaconda3\\envs\\python-datascience\\lib\\site-packages\\keras\\engine\\training.py:1650\u001b[0m, in \u001b[0;36mModel.fit\u001b[1;34m(self, x, y, batch_size, epochs, verbose, callbacks, validation_split, validation_data, shuffle, class_weight, sample_weight, initial_epoch, steps_per_epoch, validation_steps, validation_batch_size, validation_freq, max_queue_size, workers, use_multiprocessing)\u001b[0m\n\u001b[0;32m   1642\u001b[0m \u001b[38;5;28;01mwith\u001b[39;00m tf\u001b[38;5;241m.\u001b[39mprofiler\u001b[38;5;241m.\u001b[39mexperimental\u001b[38;5;241m.\u001b[39mTrace(\n\u001b[0;32m   1643\u001b[0m     \u001b[38;5;124m\"\u001b[39m\u001b[38;5;124mtrain\u001b[39m\u001b[38;5;124m\"\u001b[39m,\n\u001b[0;32m   1644\u001b[0m     epoch_num\u001b[38;5;241m=\u001b[39mepoch,\n\u001b[1;32m   (...)\u001b[0m\n\u001b[0;32m   1647\u001b[0m     _r\u001b[38;5;241m=\u001b[39m\u001b[38;5;241m1\u001b[39m,\n\u001b[0;32m   1648\u001b[0m ):\n\u001b[0;32m   1649\u001b[0m     callbacks\u001b[38;5;241m.\u001b[39mon_train_batch_begin(step)\n\u001b[1;32m-> 1650\u001b[0m     tmp_logs \u001b[38;5;241m=\u001b[39m \u001b[38;5;28;43mself\u001b[39;49m\u001b[38;5;241;43m.\u001b[39;49m\u001b[43mtrain_function\u001b[49m\u001b[43m(\u001b[49m\u001b[43miterator\u001b[49m\u001b[43m)\u001b[49m\n\u001b[0;32m   1651\u001b[0m     \u001b[38;5;28;01mif\u001b[39;00m data_handler\u001b[38;5;241m.\u001b[39mshould_sync:\n\u001b[0;32m   1652\u001b[0m         context\u001b[38;5;241m.\u001b[39masync_wait()\n",
      "File \u001b[1;32m~\\anaconda3\\envs\\python-datascience\\lib\\site-packages\\tensorflow\\python\\util\\traceback_utils.py:150\u001b[0m, in \u001b[0;36mfilter_traceback.<locals>.error_handler\u001b[1;34m(*args, **kwargs)\u001b[0m\n\u001b[0;32m    148\u001b[0m filtered_tb \u001b[38;5;241m=\u001b[39m \u001b[38;5;28;01mNone\u001b[39;00m\n\u001b[0;32m    149\u001b[0m \u001b[38;5;28;01mtry\u001b[39;00m:\n\u001b[1;32m--> 150\u001b[0m   \u001b[38;5;28;01mreturn\u001b[39;00m \u001b[43mfn\u001b[49m\u001b[43m(\u001b[49m\u001b[38;5;241;43m*\u001b[39;49m\u001b[43margs\u001b[49m\u001b[43m,\u001b[49m\u001b[43m \u001b[49m\u001b[38;5;241;43m*\u001b[39;49m\u001b[38;5;241;43m*\u001b[39;49m\u001b[43mkwargs\u001b[49m\u001b[43m)\u001b[49m\n\u001b[0;32m    151\u001b[0m \u001b[38;5;28;01mexcept\u001b[39;00m \u001b[38;5;167;01mException\u001b[39;00m \u001b[38;5;28;01mas\u001b[39;00m e:\n\u001b[0;32m    152\u001b[0m   filtered_tb \u001b[38;5;241m=\u001b[39m _process_traceback_frames(e\u001b[38;5;241m.\u001b[39m__traceback__)\n",
      "File \u001b[1;32m~\\anaconda3\\envs\\python-datascience\\lib\\site-packages\\tensorflow\\python\\eager\\polymorphic_function\\polymorphic_function.py:880\u001b[0m, in \u001b[0;36mFunction.__call__\u001b[1;34m(self, *args, **kwds)\u001b[0m\n\u001b[0;32m    877\u001b[0m compiler \u001b[38;5;241m=\u001b[39m \u001b[38;5;124m\"\u001b[39m\u001b[38;5;124mxla\u001b[39m\u001b[38;5;124m\"\u001b[39m \u001b[38;5;28;01mif\u001b[39;00m \u001b[38;5;28mself\u001b[39m\u001b[38;5;241m.\u001b[39m_jit_compile \u001b[38;5;28;01melse\u001b[39;00m \u001b[38;5;124m\"\u001b[39m\u001b[38;5;124mnonXla\u001b[39m\u001b[38;5;124m\"\u001b[39m\n\u001b[0;32m    879\u001b[0m \u001b[38;5;28;01mwith\u001b[39;00m OptionalXlaContext(\u001b[38;5;28mself\u001b[39m\u001b[38;5;241m.\u001b[39m_jit_compile):\n\u001b[1;32m--> 880\u001b[0m   result \u001b[38;5;241m=\u001b[39m \u001b[38;5;28;43mself\u001b[39;49m\u001b[38;5;241;43m.\u001b[39;49m\u001b[43m_call\u001b[49m\u001b[43m(\u001b[49m\u001b[38;5;241;43m*\u001b[39;49m\u001b[43margs\u001b[49m\u001b[43m,\u001b[49m\u001b[43m \u001b[49m\u001b[38;5;241;43m*\u001b[39;49m\u001b[38;5;241;43m*\u001b[39;49m\u001b[43mkwds\u001b[49m\u001b[43m)\u001b[49m\n\u001b[0;32m    882\u001b[0m new_tracing_count \u001b[38;5;241m=\u001b[39m \u001b[38;5;28mself\u001b[39m\u001b[38;5;241m.\u001b[39mexperimental_get_tracing_count()\n\u001b[0;32m    883\u001b[0m without_tracing \u001b[38;5;241m=\u001b[39m (tracing_count \u001b[38;5;241m==\u001b[39m new_tracing_count)\n",
      "File \u001b[1;32m~\\anaconda3\\envs\\python-datascience\\lib\\site-packages\\tensorflow\\python\\eager\\polymorphic_function\\polymorphic_function.py:912\u001b[0m, in \u001b[0;36mFunction._call\u001b[1;34m(self, *args, **kwds)\u001b[0m\n\u001b[0;32m    909\u001b[0m   \u001b[38;5;28mself\u001b[39m\u001b[38;5;241m.\u001b[39m_lock\u001b[38;5;241m.\u001b[39mrelease()\n\u001b[0;32m    910\u001b[0m   \u001b[38;5;66;03m# In this case we have created variables on the first call, so we run the\u001b[39;00m\n\u001b[0;32m    911\u001b[0m   \u001b[38;5;66;03m# defunned version which is guaranteed to never create variables.\u001b[39;00m\n\u001b[1;32m--> 912\u001b[0m   \u001b[38;5;28;01mreturn\u001b[39;00m \u001b[38;5;28;43mself\u001b[39;49m\u001b[38;5;241;43m.\u001b[39;49m\u001b[43m_no_variable_creation_fn\u001b[49m\u001b[43m(\u001b[49m\u001b[38;5;241;43m*\u001b[39;49m\u001b[43margs\u001b[49m\u001b[43m,\u001b[49m\u001b[43m \u001b[49m\u001b[38;5;241;43m*\u001b[39;49m\u001b[38;5;241;43m*\u001b[39;49m\u001b[43mkwds\u001b[49m\u001b[43m)\u001b[49m  \u001b[38;5;66;03m# pylint: disable=not-callable\u001b[39;00m\n\u001b[0;32m    913\u001b[0m \u001b[38;5;28;01melif\u001b[39;00m \u001b[38;5;28mself\u001b[39m\u001b[38;5;241m.\u001b[39m_variable_creation_fn \u001b[38;5;129;01mis\u001b[39;00m \u001b[38;5;129;01mnot\u001b[39;00m \u001b[38;5;28;01mNone\u001b[39;00m:\n\u001b[0;32m    914\u001b[0m   \u001b[38;5;66;03m# Release the lock early so that multiple threads can perform the call\u001b[39;00m\n\u001b[0;32m    915\u001b[0m   \u001b[38;5;66;03m# in parallel.\u001b[39;00m\n\u001b[0;32m    916\u001b[0m   \u001b[38;5;28mself\u001b[39m\u001b[38;5;241m.\u001b[39m_lock\u001b[38;5;241m.\u001b[39mrelease()\n",
      "File \u001b[1;32m~\\anaconda3\\envs\\python-datascience\\lib\\site-packages\\tensorflow\\python\\eager\\polymorphic_function\\tracing_compiler.py:134\u001b[0m, in \u001b[0;36mTracingCompiler.__call__\u001b[1;34m(self, *args, **kwargs)\u001b[0m\n\u001b[0;32m    131\u001b[0m \u001b[38;5;28;01mwith\u001b[39;00m \u001b[38;5;28mself\u001b[39m\u001b[38;5;241m.\u001b[39m_lock:\n\u001b[0;32m    132\u001b[0m   (concrete_function,\n\u001b[0;32m    133\u001b[0m    filtered_flat_args) \u001b[38;5;241m=\u001b[39m \u001b[38;5;28mself\u001b[39m\u001b[38;5;241m.\u001b[39m_maybe_define_function(args, kwargs)\n\u001b[1;32m--> 134\u001b[0m \u001b[38;5;28;01mreturn\u001b[39;00m \u001b[43mconcrete_function\u001b[49m\u001b[38;5;241;43m.\u001b[39;49m\u001b[43m_call_flat\u001b[49m\u001b[43m(\u001b[49m\n\u001b[0;32m    135\u001b[0m \u001b[43m    \u001b[49m\u001b[43mfiltered_flat_args\u001b[49m\u001b[43m,\u001b[49m\u001b[43m \u001b[49m\u001b[43mcaptured_inputs\u001b[49m\u001b[38;5;241;43m=\u001b[39;49m\u001b[43mconcrete_function\u001b[49m\u001b[38;5;241;43m.\u001b[39;49m\u001b[43mcaptured_inputs\u001b[49m\u001b[43m)\u001b[49m\n",
      "File \u001b[1;32m~\\anaconda3\\envs\\python-datascience\\lib\\site-packages\\tensorflow\\python\\eager\\polymorphic_function\\monomorphic_function.py:1745\u001b[0m, in \u001b[0;36mConcreteFunction._call_flat\u001b[1;34m(self, args, captured_inputs, cancellation_manager)\u001b[0m\n\u001b[0;32m   1741\u001b[0m possible_gradient_type \u001b[38;5;241m=\u001b[39m gradients_util\u001b[38;5;241m.\u001b[39mPossibleTapeGradientTypes(args)\n\u001b[0;32m   1742\u001b[0m \u001b[38;5;28;01mif\u001b[39;00m (possible_gradient_type \u001b[38;5;241m==\u001b[39m gradients_util\u001b[38;5;241m.\u001b[39mPOSSIBLE_GRADIENT_TYPES_NONE\n\u001b[0;32m   1743\u001b[0m     \u001b[38;5;129;01mand\u001b[39;00m executing_eagerly):\n\u001b[0;32m   1744\u001b[0m   \u001b[38;5;66;03m# No tape is watching; skip to running the function.\u001b[39;00m\n\u001b[1;32m-> 1745\u001b[0m   \u001b[38;5;28;01mreturn\u001b[39;00m \u001b[38;5;28mself\u001b[39m\u001b[38;5;241m.\u001b[39m_build_call_outputs(\u001b[38;5;28;43mself\u001b[39;49m\u001b[38;5;241;43m.\u001b[39;49m\u001b[43m_inference_function\u001b[49m\u001b[38;5;241;43m.\u001b[39;49m\u001b[43mcall\u001b[49m\u001b[43m(\u001b[49m\n\u001b[0;32m   1746\u001b[0m \u001b[43m      \u001b[49m\u001b[43mctx\u001b[49m\u001b[43m,\u001b[49m\u001b[43m \u001b[49m\u001b[43margs\u001b[49m\u001b[43m,\u001b[49m\u001b[43m \u001b[49m\u001b[43mcancellation_manager\u001b[49m\u001b[38;5;241;43m=\u001b[39;49m\u001b[43mcancellation_manager\u001b[49m\u001b[43m)\u001b[49m)\n\u001b[0;32m   1747\u001b[0m forward_backward \u001b[38;5;241m=\u001b[39m \u001b[38;5;28mself\u001b[39m\u001b[38;5;241m.\u001b[39m_select_forward_and_backward_functions(\n\u001b[0;32m   1748\u001b[0m     args,\n\u001b[0;32m   1749\u001b[0m     possible_gradient_type,\n\u001b[0;32m   1750\u001b[0m     executing_eagerly)\n\u001b[0;32m   1751\u001b[0m forward_function, args_with_tangents \u001b[38;5;241m=\u001b[39m forward_backward\u001b[38;5;241m.\u001b[39mforward()\n",
      "File \u001b[1;32m~\\anaconda3\\envs\\python-datascience\\lib\\site-packages\\tensorflow\\python\\eager\\polymorphic_function\\monomorphic_function.py:378\u001b[0m, in \u001b[0;36m_EagerDefinedFunction.call\u001b[1;34m(self, ctx, args, cancellation_manager)\u001b[0m\n\u001b[0;32m    376\u001b[0m \u001b[38;5;28;01mwith\u001b[39;00m _InterpolateFunctionError(\u001b[38;5;28mself\u001b[39m):\n\u001b[0;32m    377\u001b[0m   \u001b[38;5;28;01mif\u001b[39;00m cancellation_manager \u001b[38;5;129;01mis\u001b[39;00m \u001b[38;5;28;01mNone\u001b[39;00m:\n\u001b[1;32m--> 378\u001b[0m     outputs \u001b[38;5;241m=\u001b[39m \u001b[43mexecute\u001b[49m\u001b[38;5;241;43m.\u001b[39;49m\u001b[43mexecute\u001b[49m\u001b[43m(\u001b[49m\n\u001b[0;32m    379\u001b[0m \u001b[43m        \u001b[49m\u001b[38;5;28;43mstr\u001b[39;49m\u001b[43m(\u001b[49m\u001b[38;5;28;43mself\u001b[39;49m\u001b[38;5;241;43m.\u001b[39;49m\u001b[43msignature\u001b[49m\u001b[38;5;241;43m.\u001b[39;49m\u001b[43mname\u001b[49m\u001b[43m)\u001b[49m\u001b[43m,\u001b[49m\n\u001b[0;32m    380\u001b[0m \u001b[43m        \u001b[49m\u001b[43mnum_outputs\u001b[49m\u001b[38;5;241;43m=\u001b[39;49m\u001b[38;5;28;43mself\u001b[39;49m\u001b[38;5;241;43m.\u001b[39;49m\u001b[43m_num_outputs\u001b[49m\u001b[43m,\u001b[49m\n\u001b[0;32m    381\u001b[0m \u001b[43m        \u001b[49m\u001b[43minputs\u001b[49m\u001b[38;5;241;43m=\u001b[39;49m\u001b[43margs\u001b[49m\u001b[43m,\u001b[49m\n\u001b[0;32m    382\u001b[0m \u001b[43m        \u001b[49m\u001b[43mattrs\u001b[49m\u001b[38;5;241;43m=\u001b[39;49m\u001b[43mattrs\u001b[49m\u001b[43m,\u001b[49m\n\u001b[0;32m    383\u001b[0m \u001b[43m        \u001b[49m\u001b[43mctx\u001b[49m\u001b[38;5;241;43m=\u001b[39;49m\u001b[43mctx\u001b[49m\u001b[43m)\u001b[49m\n\u001b[0;32m    384\u001b[0m   \u001b[38;5;28;01melse\u001b[39;00m:\n\u001b[0;32m    385\u001b[0m     outputs \u001b[38;5;241m=\u001b[39m execute\u001b[38;5;241m.\u001b[39mexecute_with_cancellation(\n\u001b[0;32m    386\u001b[0m         \u001b[38;5;28mstr\u001b[39m(\u001b[38;5;28mself\u001b[39m\u001b[38;5;241m.\u001b[39msignature\u001b[38;5;241m.\u001b[39mname),\n\u001b[0;32m    387\u001b[0m         num_outputs\u001b[38;5;241m=\u001b[39m\u001b[38;5;28mself\u001b[39m\u001b[38;5;241m.\u001b[39m_num_outputs,\n\u001b[1;32m   (...)\u001b[0m\n\u001b[0;32m    390\u001b[0m         ctx\u001b[38;5;241m=\u001b[39mctx,\n\u001b[0;32m    391\u001b[0m         cancellation_manager\u001b[38;5;241m=\u001b[39mcancellation_manager)\n",
      "File \u001b[1;32m~\\anaconda3\\envs\\python-datascience\\lib\\site-packages\\tensorflow\\python\\eager\\execute.py:52\u001b[0m, in \u001b[0;36mquick_execute\u001b[1;34m(op_name, num_outputs, inputs, attrs, ctx, name)\u001b[0m\n\u001b[0;32m     50\u001b[0m \u001b[38;5;28;01mtry\u001b[39;00m:\n\u001b[0;32m     51\u001b[0m   ctx\u001b[38;5;241m.\u001b[39mensure_initialized()\n\u001b[1;32m---> 52\u001b[0m   tensors \u001b[38;5;241m=\u001b[39m \u001b[43mpywrap_tfe\u001b[49m\u001b[38;5;241;43m.\u001b[39;49m\u001b[43mTFE_Py_Execute\u001b[49m\u001b[43m(\u001b[49m\u001b[43mctx\u001b[49m\u001b[38;5;241;43m.\u001b[39;49m\u001b[43m_handle\u001b[49m\u001b[43m,\u001b[49m\u001b[43m \u001b[49m\u001b[43mdevice_name\u001b[49m\u001b[43m,\u001b[49m\u001b[43m \u001b[49m\u001b[43mop_name\u001b[49m\u001b[43m,\u001b[49m\n\u001b[0;32m     53\u001b[0m \u001b[43m                                      \u001b[49m\u001b[43minputs\u001b[49m\u001b[43m,\u001b[49m\u001b[43m \u001b[49m\u001b[43mattrs\u001b[49m\u001b[43m,\u001b[49m\u001b[43m \u001b[49m\u001b[43mnum_outputs\u001b[49m\u001b[43m)\u001b[49m\n\u001b[0;32m     54\u001b[0m \u001b[38;5;28;01mexcept\u001b[39;00m core\u001b[38;5;241m.\u001b[39m_NotOkStatusException \u001b[38;5;28;01mas\u001b[39;00m e:\n\u001b[0;32m     55\u001b[0m   \u001b[38;5;28;01mif\u001b[39;00m name \u001b[38;5;129;01mis\u001b[39;00m \u001b[38;5;129;01mnot\u001b[39;00m \u001b[38;5;28;01mNone\u001b[39;00m:\n",
      "\u001b[1;31mKeyboardInterrupt\u001b[0m: "
     ]
    },
    {
     "data": {
      "application/javascript": [
       "\n",
       "            setTimeout(function() {\n",
       "                var nbb_cell_id = 30;\n",
       "                var nbb_unformatted_code = \"RMSE_info = compare_ANN_methods(train_df, test_df, scaler, \\n                    parameters_FNN, future_steps)\";\n",
       "                var nbb_formatted_code = \"RMSE_info = compare_ANN_methods(train_df, test_df, scaler, parameters_FNN, future_steps)\";\n",
       "                var nbb_cells = Jupyter.notebook.get_cells();\n",
       "                for (var i = 0; i < nbb_cells.length; ++i) {\n",
       "                    if (nbb_cells[i].input_prompt_number == nbb_cell_id) {\n",
       "                        if (nbb_cells[i].get_text() == nbb_unformatted_code) {\n",
       "                             nbb_cells[i].set_text(nbb_formatted_code);\n",
       "                        }\n",
       "                        break;\n",
       "                    }\n",
       "                }\n",
       "            }, 500);\n",
       "            "
      ],
      "text/plain": [
       "<IPython.core.display.Javascript object>"
      ]
     },
     "metadata": {},
     "output_type": "display_data"
    }
   ],
   "source": [
    "RMSE_info = compare_ANN_methods(train_df, test_df, scaler, parameters_FNN, future_steps)"
   ]
  }
 ],
 "metadata": {
  "kernelspec": {
   "display_name": "Python 3 (ipykernel)",
   "language": "python",
   "name": "python3"
  },
  "language_info": {
   "codemirror_mode": {
    "name": "ipython",
    "version": 3
   },
   "file_extension": ".py",
   "mimetype": "text/x-python",
   "name": "python",
   "nbconvert_exporter": "python",
   "pygments_lexer": "ipython3",
   "version": "3.8.12"
  }
 },
 "nbformat": 4,
 "nbformat_minor": 5
}
